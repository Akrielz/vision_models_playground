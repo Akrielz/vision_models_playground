{
 "cells": [
  {
   "cell_type": "code",
   "execution_count": 1,
   "metadata": {
    "collapsed": true,
    "ExecuteTime": {
     "end_time": "2023-07-01T13:53:57.748564222Z",
     "start_time": "2023-07-01T13:53:56.034715149Z"
    }
   },
   "source": [
    "# import zone\n",
    "from vision_models_playground.datasets.datasets import get_voc_detection_dataset_yolo\n",
    "import cv2\n",
    "import numpy as np\n",
    "import PIL"
   ],
   "outputs": []
  },
  {
   "cell_type": "code",
   "execution_count": 2,
   "source": [
    "# Get the dataset\n",
    "voc_train, voc_test = get_voc_detection_dataset_yolo(root='./../data')"
   ],
   "metadata": {
    "collapsed": false,
    "ExecuteTime": {
     "end_time": "2023-07-01T13:53:57.782298116Z",
     "start_time": "2023-07-01T13:53:57.749445920Z"
    }
   },
   "outputs": []
  },
  {
   "cell_type": "code",
   "execution_count": 3,
   "source": [
    "# Grab a sample\n",
    "image, target = next(iter(voc_train))"
   ],
   "metadata": {
    "collapsed": false,
    "ExecuteTime": {
     "end_time": "2023-07-01T13:53:57.836306526Z",
     "start_time": "2023-07-01T13:53:57.783418787Z"
    }
   },
   "outputs": []
  },
  {
   "cell_type": "code",
   "execution_count": 4,
   "source": [
    "image.shape"
   ],
   "metadata": {
    "collapsed": false,
    "ExecuteTime": {
     "end_time": "2023-07-01T13:53:57.850216818Z",
     "start_time": "2023-07-01T13:53:57.836652971Z"
    }
   },
   "outputs": []
  },
  {
   "cell_type": "code",
   "execution_count": 5,
   "source": [
    "# Convert the image tensor to PIL image\n",
    "pil_image = PIL.Image.fromarray((image.permute(1, 2, 0) * 255).numpy().astype(np.uint8))\n",
    "pil_image"
   ],
   "metadata": {
    "collapsed": false,
    "ExecuteTime": {
     "end_time": "2023-07-01T13:53:57.968065624Z",
     "start_time": "2023-07-01T13:53:57.877696538Z"
    }
   },
   "outputs": []
  },
  {
   "cell_type": "code",
   "execution_count": 6,
   "source": [
    "target.shape"
   ],
   "metadata": {
    "collapsed": false,
    "ExecuteTime": {
     "end_time": "2023-07-01T13:53:57.968898971Z",
     "start_time": "2023-07-01T13:53:57.967702687Z"
    }
   },
   "outputs": []
  },
  {
   "cell_type": "code",
   "execution_count": 7,
   "source": [
    "# filter only the targets with objects by looking at the 5th and 10th column\n",
    "mask = (target[:, :, 4] > 0.5) | (target[:, :, 9] > 0.5)\n",
    "# get the row and column indices of the targets with objects\n",
    "row_index, col_index = np.where(mask)\n",
    "pairs = list(zip(row_index, col_index))\n",
    "print(pairs)"
   ],
   "metadata": {
    "collapsed": false,
    "ExecuteTime": {
     "end_time": "2023-07-01T13:53:57.971418799Z",
     "start_time": "2023-07-01T13:53:57.968622958Z"
    }
   },
   "outputs": []
  },
  {
   "cell_type": "code",
   "execution_count": 8,
   "source": [
    "# get the class labels of the targets with objects\n",
    "class_labels_one_hot = target[row_index, col_index, 10:]\n",
    "print(class_labels_one_hot)"
   ],
   "metadata": {
    "collapsed": false,
    "ExecuteTime": {
     "end_time": "2023-07-01T13:53:57.972625011Z",
     "start_time": "2023-07-01T13:53:57.969323414Z"
    }
   },
   "outputs": []
  },
  {
   "cell_type": "code",
   "execution_count": 9,
   "source": [
    "# Reverse one hot encoding\n",
    "class_labels_id = np.argmax(class_labels_one_hot, axis=1).tolist()\n",
    "print(class_labels_id)"
   ],
   "metadata": {
    "collapsed": false,
    "ExecuteTime": {
     "end_time": "2023-07-01T13:53:57.973703061Z",
     "start_time": "2023-07-01T13:53:57.971110435Z"
    }
   },
   "outputs": []
  },
  {
   "cell_type": "code",
   "execution_count": 10,
   "source": [
    "# Get from index to class name mapping\n",
    "class_to_idx_map = voc_train.class_map\n",
    "idx_to_class_map = {v: k for k, v in class_to_idx_map.items()}\n",
    "\n",
    "class_names = [idx_to_class_map[class_id] for class_id in class_labels_id]\n",
    "print(class_names)"
   ],
   "metadata": {
    "collapsed": false,
    "ExecuteTime": {
     "end_time": "2023-07-01T13:53:58.069838648Z",
     "start_time": "2023-07-01T13:53:57.974941685Z"
    }
   },
   "outputs": []
  },
  {
   "cell_type": "code",
   "execution_count": 11,
   "source": [
    "# Print the image with bounding boxes\n",
    "image_edited = np.array(pil_image)\n",
    "\n",
    "for (row, col), class_name in zip(pairs, class_names):\n",
    "    # Assign a random color to the bounding box\n",
    "    color = np.random.randint(0, 255, size=3).tolist()\n",
    "\n",
    "    # Determine the cell position\n",
    "    cell_size_x, cell_size_y = voc_train.cell_size\n",
    "\n",
    "    x_cell = col * cell_size_x / image_edited.shape[0]\n",
    "    y_cell = row * cell_size_y / image_edited.shape[1]\n",
    "\n",
    "    # Get the bounding box coordinates\n",
    "    x, y, w, h = target[row, col, :4].tolist()\n",
    "\n",
    "    # Convert the coordinates to image coordinates\n",
    "    center_x = (x + x_cell) * image_edited.shape[0]\n",
    "    center_y = (y + y_cell) * image_edited.shape[1]\n",
    "    w = (w * image_edited.shape[0])\n",
    "    h = (h * image_edited.shape[1])\n",
    "\n",
    "    x_min = int(center_x - w / 2)\n",
    "    y_min = int(center_y - h / 2)\n",
    "    x_max = int(center_x + w / 2)\n",
    "    y_max = int(center_y + h / 2)\n",
    "\n",
    "    # Draw the bounding box\n",
    "    cv2.rectangle(image_edited, (x_min, y_min), (x_max, y_max), color, 2)\n",
    "\n",
    "    # Draw the class name\n",
    "    cv2.putText(image_edited, class_name, (x_min, y_min), cv2.FONT_HERSHEY_SIMPLEX, 1, color, 2)\n",
    "\n",
    "# Convert it back to PIL image\n",
    "image_edited = PIL.Image.fromarray(image_edited)\n",
    "image_edited"
   ],
   "metadata": {
    "collapsed": false,
    "ExecuteTime": {
     "end_time": "2023-07-01T13:53:58.128949523Z",
     "start_time": "2023-07-01T13:53:58.018129760Z"
    }
   },
   "outputs": []
  },
  {
   "cell_type": "code",
   "execution_count": 11,
   "source": [],
   "metadata": {
    "collapsed": false,
    "ExecuteTime": {
     "end_time": "2023-07-01T13:53:58.129205107Z",
     "start_time": "2023-07-01T13:53:58.091068972Z"
    }
   },
   "outputs": []
  }
 ],
 "metadata": {
  "kernelspec": {
   "display_name": "Python 3",
   "language": "python",
   "name": "python3"
  },
  "language_info": {
   "codemirror_mode": {
    "name": "ipython",
    "version": 2
   },
   "file_extension": ".py",
   "mimetype": "text/x-python",
   "name": "python",
   "nbconvert_exporter": "python",
   "pygments_lexer": "ipython2",
   "version": "2.7.6"
  }
 },
 "nbformat": 4,
 "nbformat_minor": 0
}
