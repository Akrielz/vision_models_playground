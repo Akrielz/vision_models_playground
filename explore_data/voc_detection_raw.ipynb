{
 "cells": [
  {
   "cell_type": "code",
   "execution_count": 58,
   "metadata": {
    "collapsed": true,
    "ExecuteTime": {
     "end_time": "2023-06-24T16:49:53.472561848Z",
     "start_time": "2023-06-24T16:49:53.427374438Z"
    }
   },
   "source": [
    "# import zone\n",
    "from vision_models_playground.datasets.datasets import get_voc_detection_dataset_raw\n",
    "from pprint import pprint\n",
    "import cv2\n",
    "import numpy as np\n",
    "import PIL\n",
    "from matplotlib import pyplot as plt"
   ],
   "outputs": []
  },
  {
   "cell_type": "code",
   "execution_count": 4,
   "source": [
    "# Get the dataset\n",
    "voc_train, voc_test = get_voc_detection_dataset_raw(root='./../data')"
   ],
   "metadata": {
    "collapsed": false,
    "ExecuteTime": {
     "end_time": "2023-06-24T16:23:07.413270847Z",
     "start_time": "2023-06-24T16:21:40.919684352Z"
    }
   },
   "outputs": []
  },
  {
   "cell_type": "markdown",
   "source": [
    "# Explore particular information"
   ],
   "metadata": {
    "collapsed": false
   }
  },
  {
   "cell_type": "code",
   "execution_count": 41,
   "source": [
    "# Grab a sample\n",
    "image, target = next(iter(voc_train))"
   ],
   "metadata": {
    "collapsed": false,
    "ExecuteTime": {
     "end_time": "2023-06-24T16:41:04.735597590Z",
     "start_time": "2023-06-24T16:41:04.720451664Z"
    }
   },
   "outputs": []
  },
  {
   "cell_type": "code",
   "execution_count": 42,
   "source": [
    "image"
   ],
   "metadata": {
    "collapsed": false,
    "ExecuteTime": {
     "end_time": "2023-06-24T16:41:05.246284801Z",
     "start_time": "2023-06-24T16:41:05.179908155Z"
    }
   },
   "outputs": []
  },
  {
   "cell_type": "code",
   "execution_count": 43,
   "source": [
    "pprint(target)"
   ],
   "metadata": {
    "collapsed": false,
    "ExecuteTime": {
     "end_time": "2023-06-24T16:41:05.875056380Z",
     "start_time": "2023-06-24T16:41:05.865610231Z"
    }
   },
   "outputs": []
  },
  {
   "cell_type": "code",
   "execution_count": 44,
   "source": [
    "# get the object information from the target\n",
    "objects = target['annotation']['object']\n",
    "\n",
    "for obj in objects:\n",
    "    print(obj['name'])\n",
    "    print(obj['bndbox'])"
   ],
   "metadata": {
    "collapsed": false,
    "ExecuteTime": {
     "end_time": "2023-06-24T16:41:06.638524927Z",
     "start_time": "2023-06-24T16:41:06.624414289Z"
    }
   },
   "outputs": []
  },
  {
   "cell_type": "code",
   "execution_count": 47,
   "source": [
    "# Draw a bounding box for each object using OpenCV\n",
    "image_edited = np.array(image)\n",
    "for obj in objects:\n",
    "    # assign a random color\n",
    "    color = np.random.randint(0, 255, 3).tolist()\n",
    "\n",
    "    x_min = int(obj['bndbox']['xmin'])\n",
    "    y_min = int(obj['bndbox']['ymin'])\n",
    "    x_max = int(obj['bndbox']['xmax'])\n",
    "    y_max = int(obj['bndbox']['ymax'])\n",
    "    name = obj['name']\n",
    "    cv2.rectangle(image_edited, (x_min, y_min), (x_max, y_max), color, 2)\n",
    "    cv2.putText(image_edited, name, (x_min, y_min), cv2.FONT_HERSHEY_SIMPLEX, 1, color, 2)\n",
    "\n",
    "# Convert it back to PIL image\n",
    "image_edited = PIL.Image.fromarray(image_edited)\n",
    "image_edited"
   ],
   "metadata": {
    "collapsed": false,
    "ExecuteTime": {
     "end_time": "2023-06-24T16:41:10.375053201Z",
     "start_time": "2023-06-24T16:41:10.289981397Z"
    }
   },
   "outputs": []
  },
  {
   "cell_type": "code",
   "execution_count": 46,
   "source": [
    "# Get the image size\n",
    "image.size"
   ],
   "metadata": {
    "collapsed": false,
    "ExecuteTime": {
     "end_time": "2023-06-24T16:41:08.051663170Z",
     "start_time": "2023-06-24T16:41:08.039818406Z"
    }
   },
   "outputs": []
  },
  {
   "cell_type": "markdown",
   "source": [
    "# Explore general information"
   ],
   "metadata": {
    "collapsed": false
   }
  },
  {
   "cell_type": "code",
   "execution_count": 50,
   "source": [
    "# See len of the datasets\n",
    "print(len(voc_train), len(voc_test))"
   ],
   "metadata": {
    "collapsed": false,
    "ExecuteTime": {
     "end_time": "2023-06-24T16:45:29.172182985Z",
     "start_time": "2023-06-24T16:45:29.159686842Z"
    }
   },
   "outputs": []
  },
  {
   "cell_type": "code",
   "execution_count": 51,
   "source": [
    "# See all the object names in train\n",
    "train_obj_names = set()\n",
    "for image, target in voc_train:\n",
    "    objects = target['annotation']['object']\n",
    "    for obj in objects:\n",
    "        train_obj_names.add(obj['name'])\n",
    "\n",
    "print(list(train_obj_names), len(train_obj_names))"
   ],
   "metadata": {
    "collapsed": false,
    "ExecuteTime": {
     "end_time": "2023-06-24T16:46:13.498457010Z",
     "start_time": "2023-06-24T16:46:02.099518906Z"
    }
   },
   "outputs": []
  },
  {
   "cell_type": "code",
   "execution_count": 52,
   "source": [
    "# See all the object names in test\n",
    "test_obj_names = set()\n",
    "for image, target in voc_test:\n",
    "    objects = target['annotation']['object']\n",
    "    for obj in objects:\n",
    "        test_obj_names.add(obj['name'])\n",
    "\n",
    "print(list(test_obj_names), len(test_obj_names))"
   ],
   "metadata": {
    "collapsed": false,
    "ExecuteTime": {
     "end_time": "2023-06-24T16:46:52.691024601Z",
     "start_time": "2023-06-24T16:46:41.295048456Z"
    }
   },
   "outputs": []
  },
  {
   "cell_type": "code",
   "execution_count": 56,
   "source": [
    "# Check the overlap between train and test\n",
    "len(train_obj_names.intersection(test_obj_names)) == len(train_obj_names)"
   ],
   "metadata": {
    "collapsed": false,
    "ExecuteTime": {
     "end_time": "2023-06-24T16:47:43.324042669Z",
     "start_time": "2023-06-24T16:47:43.305700057Z"
    }
   },
   "outputs": []
  },
  {
   "cell_type": "code",
   "execution_count": 60,
   "source": [
    "# grab the image sizes\n",
    "sizes = []\n",
    "for image, target in voc_train:\n",
    "    sizes.append(image.size)"
   ],
   "metadata": {
    "collapsed": false,
    "ExecuteTime": {
     "end_time": "2023-06-24T16:51:15.341900730Z",
     "start_time": "2023-06-24T16:51:03.166917630Z"
    }
   },
   "outputs": []
  },
  {
   "cell_type": "code",
   "execution_count": 61,
   "source": [
    "# create a histogram for x\n",
    "x = [size[0] for size in sizes]\n",
    "plt.hist(x, bins=20)\n",
    "plt.show()"
   ],
   "metadata": {
    "collapsed": false,
    "ExecuteTime": {
     "end_time": "2023-06-24T16:51:33.605359526Z",
     "start_time": "2023-06-24T16:51:33.494406697Z"
    }
   },
   "outputs": []
  },
  {
   "cell_type": "code",
   "execution_count": 62,
   "source": [
    "y = [size[1] for size in sizes]\n",
    "plt.hist(y, bins=20)\n",
    "plt.show()"
   ],
   "metadata": {
    "collapsed": false,
    "ExecuteTime": {
     "end_time": "2023-06-24T16:51:44.871913091Z",
     "start_time": "2023-06-24T16:51:44.738410985Z"
    }
   },
   "outputs": []
  },
  {
   "cell_type": "code",
   "execution_count": 65,
   "source": [
    "# Show the min and max of the sizes\n",
    "print(min(x), min(y))\n",
    "print(max(x), max(y))"
   ],
   "metadata": {
    "collapsed": false,
    "ExecuteTime": {
     "end_time": "2023-06-24T17:18:59.871014121Z",
     "start_time": "2023-06-24T17:18:59.855464589Z"
    }
   },
   "outputs": []
  },
  {
   "cell_type": "code",
   "execution_count": null,
   "source": [],
   "metadata": {
    "collapsed": false
   },
   "outputs": []
  }
 ],
 "metadata": {
  "kernelspec": {
   "display_name": "Python 3",
   "language": "python",
   "name": "python3"
  },
  "language_info": {
   "codemirror_mode": {
    "name": "ipython",
    "version": 2
   },
   "file_extension": ".py",
   "mimetype": "text/x-python",
   "name": "python",
   "nbconvert_exporter": "python",
   "pygments_lexer": "ipython2",
   "version": "2.7.6"
  }
 },
 "nbformat": 4,
 "nbformat_minor": 0
}
