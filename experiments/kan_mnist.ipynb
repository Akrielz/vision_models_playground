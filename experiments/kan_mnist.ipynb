{
 "cells": [
  {
   "metadata": {
    "ExecuteTime": {
     "end_time": "2024-05-29T13:21:15.720399Z",
     "start_time": "2024-05-29T13:21:15.717519Z"
    }
   },
   "cell_type": "code",
   "source": [
    "import torch\n",
    "\n",
    "# Check if cuda is available\n",
    "device = 'cuda' if torch.cuda.is_available() else 'cpu'\n",
    "print(f'Using {device} device')"
   ],
   "id": "708180719052cbf6",
   "outputs": [
    {
     "name": "stdout",
     "output_type": "stream",
     "text": [
      "Using cuda device\n"
     ]
    }
   ],
   "execution_count": 13
  },
  {
   "metadata": {
    "ExecuteTime": {
     "end_time": "2024-05-29T13:21:15.807796Z",
     "start_time": "2024-05-29T13:21:15.724959Z"
    }
   },
   "cell_type": "code",
   "source": [
    "from einops.layers.torch import Rearrange\n",
    "from torch import nn\n",
    "from vision_models_playground.external.kan.kan import KAN\n",
    "\n",
    "model = nn.Sequential(\n",
    "    Rearrange(\"b ... -> b (...)\"),\n",
    "    KAN(\n",
    "        width=[28*28, 16, 10],\n",
    "        grid=3,\n",
    "        k=3,\n",
    "        device=device,\n",
    "        symbolic_enabled=False\n",
    "    ),\n",
    "    nn.Softmax(dim=1)\n",
    ")"
   ],
   "id": "a42f6c446b77b322",
   "outputs": [],
   "execution_count": 14
  },
  {
   "metadata": {},
   "cell_type": "code",
   "source": [
    "from vision_models_playground.train import train_model_classifier\n",
    "from vision_models_playground.datasets import get_mnist_dataset\n",
    "\n",
    "train_dataset, valid_dataset = get_mnist_dataset()\n",
    "train_model_classifier(model, train_dataset, valid_dataset, num_epochs=100, num_workers=2)"
   ],
   "id": "7bb940bced4b1ce3",
   "outputs": [
    {
     "name": "stderr",
     "output_type": "stream",
     "text": [
      "\u001B[32mTrain Epoch: 99, Step:     937 | MulticlassAccuracy: 0.9323 | MulticlassF1Score: 0.9323 | MulticlassMatthewsCorrCoef: 0.9248 | LossTracker: 1.5417 | : 100%|██████████| 938/938 [00:11<00:00, 83.43it/s]\n",
      "\u001B[33mValid Epoch: 99, Step:     156 | MulticlassAccuracy: 0.9239 | MulticlassF1Score: 0.9239 | MulticlassMatthewsCorrCoef: 0.9155 | LossTracker: 1.5480 | : 100%|██████████| 157/157 [00:01<00:00, 98.03it/s] \n"
     ]
    }
   ],
   "execution_count": 15
  },
  {
   "metadata": {
    "ExecuteTime": {
     "end_time": "2024-05-29T13:46:36.882204Z",
     "start_time": "2024-05-29T13:46:35.633755Z"
    }
   },
   "cell_type": "code",
   "source": [
    "model = nn.Sequential(\n",
    "    Rearrange(\"b ... -> b (...)\"),\n",
    "    KAN(\n",
    "        width=[28*28, 256, 128, 10],\n",
    "        grid=3,\n",
    "        k=3,\n",
    "        device=device,\n",
    "        symbolic_enabled=False\n",
    "    ),\n",
    "    nn.Softmax(dim=1)\n",
    ")"
   ],
   "id": "5c845e52610817ba",
   "outputs": [],
   "execution_count": 16
  },
  {
   "metadata": {},
   "cell_type": "code",
   "source": [
    "train_dataset, valid_dataset = get_mnist_dataset()\n",
    "train_model_classifier(model, train_dataset, valid_dataset, num_epochs=100, num_workers=2)"
   ],
   "id": "4f559dbf70dff9fd",
   "outputs": [
    {
     "name": "stderr",
     "output_type": "stream",
     "text": [
      "\u001B[32mTrain Epoch: 87, Step:     937 | MulticlassAccuracy: 0.9829 | MulticlassF1Score: 0.9829 | MulticlassMatthewsCorrCoef: 0.9810 | LossTracker: 1.4793 | : 100%|██████████| 938/938 [01:53<00:00,  8.27it/s]\n",
      "\u001B[33mValid Epoch: 87, Step:     156 | MulticlassAccuracy: 0.9685 | MulticlassF1Score: 0.9685 | MulticlassMatthewsCorrCoef: 0.9650 | LossTracker: 1.4939 | : 100%|██████████| 157/157 [00:14<00:00, 10.61it/s]\n",
      "\u001B[32mTrain Epoch: 88, Step:     937 | MulticlassAccuracy: 0.9830 | MulticlassF1Score: 0.9830 | MulticlassMatthewsCorrCoef: 0.9812 | LossTracker: 1.4792 | : 100%|██████████| 938/938 [01:53<00:00,  8.26it/s]\n",
      "\u001B[33mValid Epoch: 88, Step:     156 | MulticlassAccuracy: 0.9686 | MulticlassF1Score: 0.9686 | MulticlassMatthewsCorrCoef: 0.9651 | LossTracker: 1.4938 | : 100%|██████████| 157/157 [00:14<00:00, 10.61it/s]\n",
      "\u001B[32mTrain Epoch: 89, Step:     937 | MulticlassAccuracy: 0.9832 | MulticlassF1Score: 0.9832 | MulticlassMatthewsCorrCoef: 0.9814 | LossTracker: 1.4790 | : 100%|██████████| 938/938 [01:53<00:00,  8.27it/s]\n",
      "\u001B[33mValid Epoch: 89, Step:     156 | MulticlassAccuracy: 0.9687 | MulticlassF1Score: 0.9687 | MulticlassMatthewsCorrCoef: 0.9653 | LossTracker: 1.4937 | : 100%|██████████| 157/157 [00:14<00:00, 10.62it/s]\n",
      "\u001B[32mTrain Epoch: 90, Step:     937 | MulticlassAccuracy: 0.9833 | MulticlassF1Score: 0.9833 | MulticlassMatthewsCorrCoef: 0.9815 | LossTracker: 1.4788 | : 100%|██████████| 938/938 [01:53<00:00,  8.28it/s]\n",
      "\u001B[33mValid Epoch: 90, Step:     156 | MulticlassAccuracy: 0.9688 | MulticlassF1Score: 0.9688 | MulticlassMatthewsCorrCoef: 0.9654 | LossTracker: 1.4935 | : 100%|██████████| 157/157 [00:14<00:00, 10.63it/s]\n",
      "\u001B[32mTrain Epoch: 91, Step:     937 | MulticlassAccuracy: 0.9835 | MulticlassF1Score: 0.9835 | MulticlassMatthewsCorrCoef: 0.9817 | LossTracker: 1.4787 | : 100%|██████████| 938/938 [01:53<00:00,  8.28it/s]\n",
      "\u001B[33mValid Epoch: 91, Step:     156 | MulticlassAccuracy: 0.9689 | MulticlassF1Score: 0.9689 | MulticlassMatthewsCorrCoef: 0.9655 | LossTracker: 1.4934 | : 100%|██████████| 157/157 [00:14<00:00, 10.61it/s]\n",
      "\u001B[32mTrain Epoch: 92, Step:     937 | MulticlassAccuracy: 0.9836 | MulticlassF1Score: 0.9836 | MulticlassMatthewsCorrCoef: 0.9818 | LossTracker: 1.4785 | : 100%|██████████| 938/938 [01:53<00:00,  8.28it/s]\n",
      "\u001B[33mValid Epoch: 92, Step:     156 | MulticlassAccuracy: 0.9691 | MulticlassF1Score: 0.9691 | MulticlassMatthewsCorrCoef: 0.9656 | LossTracker: 1.4933 | : 100%|██████████| 157/157 [00:14<00:00, 10.61it/s]\n",
      "\u001B[32mTrain Epoch: 93, Step:     937 | MulticlassAccuracy: 0.9838 | MulticlassF1Score: 0.9838 | MulticlassMatthewsCorrCoef: 0.9820 | LossTracker: 1.4783 | : 100%|██████████| 938/938 [01:53<00:00,  8.28it/s]\n",
      "\u001B[33mValid Epoch: 93, Step:     156 | MulticlassAccuracy: 0.9692 | MulticlassF1Score: 0.9692 | MulticlassMatthewsCorrCoef: 0.9657 | LossTracker: 1.4932 | : 100%|██████████| 157/157 [00:14<00:00, 10.62it/s]\n",
      "\u001B[32mTrain Epoch: 94, Step:     937 | MulticlassAccuracy: 0.9839 | MulticlassF1Score: 0.9839 | MulticlassMatthewsCorrCoef: 0.9822 | LossTracker: 1.4782 | : 100%|██████████| 938/938 [01:53<00:00,  8.28it/s]\n",
      "\u001B[33mValid Epoch: 94, Step:     156 | MulticlassAccuracy: 0.9693 | MulticlassF1Score: 0.9693 | MulticlassMatthewsCorrCoef: 0.9659 | LossTracker: 1.4931 | : 100%|██████████| 157/157 [00:14<00:00, 10.62it/s]\n",
      "\u001B[32mTrain Epoch: 95, Step:     937 | MulticlassAccuracy: 0.9841 | MulticlassF1Score: 0.9841 | MulticlassMatthewsCorrCoef: 0.9823 | LossTracker: 1.4781 | : 100%|██████████| 938/938 [01:53<00:00,  8.28it/s]\n",
      "\u001B[33mValid Epoch: 95, Step:     156 | MulticlassAccuracy: 0.9694 | MulticlassF1Score: 0.9694 | MulticlassMatthewsCorrCoef: 0.9660 | LossTracker: 1.4930 | : 100%|██████████| 157/157 [00:14<00:00, 10.61it/s]\n",
      "\u001B[32mTrain Epoch: 96, Step:     937 | MulticlassAccuracy: 0.9842 | MulticlassF1Score: 0.9842 | MulticlassMatthewsCorrCoef: 0.9825 | LossTracker: 1.4781 | : 100%|██████████| 938/938 [01:53<00:00,  8.28it/s]\n",
      "\u001B[33mValid Epoch: 96, Step:     156 | MulticlassAccuracy: 0.9695 | MulticlassF1Score: 0.9695 | MulticlassMatthewsCorrCoef: 0.9661 | LossTracker: 1.4929 | : 100%|██████████| 157/157 [00:14<00:00, 10.62it/s]\n",
      "\u001B[32mTrain Epoch: 97, Step:     937 | MulticlassAccuracy: 0.9843 | MulticlassF1Score: 0.9843 | MulticlassMatthewsCorrCoef: 0.9826 | LossTracker: 1.4780 | : 100%|██████████| 938/938 [01:53<00:00,  8.28it/s]\n",
      "\u001B[33mValid Epoch: 97, Step:     156 | MulticlassAccuracy: 0.9695 | MulticlassF1Score: 0.9695 | MulticlassMatthewsCorrCoef: 0.9662 | LossTracker: 1.4928 | : 100%|██████████| 157/157 [00:14<00:00, 10.62it/s]\n",
      "\u001B[32mTrain Epoch: 98, Step:     937 | MulticlassAccuracy: 0.9845 | MulticlassF1Score: 0.9845 | MulticlassMatthewsCorrCoef: 0.9827 | LossTracker: 1.4779 | : 100%|██████████| 938/938 [01:54<00:00,  8.22it/s]\n",
      "\u001B[33mValid Epoch: 98, Step:     156 | MulticlassAccuracy: 0.9696 | MulticlassF1Score: 0.9696 | MulticlassMatthewsCorrCoef: 0.9663 | LossTracker: 1.4927 | : 100%|██████████| 157/157 [00:14<00:00, 10.53it/s]\n",
      "\u001B[32mTrain Epoch: 99, Step:     937 | MulticlassAccuracy: 0.9846 | MulticlassF1Score: 0.9846 | MulticlassMatthewsCorrCoef: 0.9829 | LossTracker: 1.4779 | : 100%|██████████| 938/938 [01:53<00:00,  8.25it/s]\n",
      "\u001B[33mValid Epoch: 99, Step:     156 | MulticlassAccuracy: 0.9697 | MulticlassF1Score: 0.9697 | MulticlassMatthewsCorrCoef: 0.9664 | LossTracker: 1.4926 | : 100%|██████████| 157/157 [00:14<00:00, 10.60it/s]\n"
     ]
    }
   ],
   "execution_count": 17
  },
  {
   "metadata": {
    "ExecuteTime": {
     "end_time": "2024-05-29T17:40:23.023418Z",
     "start_time": "2024-05-29T17:40:22.570014Z"
    }
   },
   "cell_type": "code",
   "source": [
    "model = nn.Sequential(\n",
    "    Rearrange(\"b ... -> b (...)\"),\n",
    "    KAN(\n",
    "        width=[28*28, 64, 32, 10],\n",
    "        grid=3,\n",
    "        k=3,\n",
    "        device=device,\n",
    "        symbolic_enabled=False\n",
    "    ),\n",
    "    nn.Softmax(dim=1)\n",
    ")"
   ],
   "id": "dbb951bb0ebbea3d",
   "outputs": [],
   "execution_count": 18
  },
  {
   "metadata": {},
   "cell_type": "code",
   "source": [
    "train_dataset, valid_dataset = get_mnist_dataset()\n",
    "train_model_classifier(model, train_dataset, valid_dataset, num_epochs=100, num_workers=2)"
   ],
   "id": "f00ae792e4bc896a",
   "outputs": [
    {
     "name": "stderr",
     "output_type": "stream",
     "text": [
      "\u001B[33mValid Epoch: 67, Step:     156 | MulticlassAccuracy: 0.9612 | MulticlassF1Score: 0.9612 | MulticlassMatthewsCorrCoef: 0.9568 | LossTracker: 1.5041 | : 100%|██████████| 157/157 [00:03<00:00, 39.56it/s]\n",
      "\u001B[32mTrain Epoch: 68, Step:     937 | MulticlassAccuracy: 0.9732 | MulticlassF1Score: 0.9732 | MulticlassMatthewsCorrCoef: 0.9703 | LossTracker: 1.4923 | : 100%|██████████| 938/938 [00:28<00:00, 33.35it/s]\n",
      "\u001B[33mValid Epoch: 68, Step:     156 | MulticlassAccuracy: 0.9613 | MulticlassF1Score: 0.9613 | MulticlassMatthewsCorrCoef: 0.9570 | LossTracker: 1.5039 | : 100%|██████████| 157/157 [00:03<00:00, 40.28it/s]\n",
      "\u001B[32mTrain Epoch: 69, Step:     937 | MulticlassAccuracy: 0.9735 | MulticlassF1Score: 0.9735 | MulticlassMatthewsCorrCoef: 0.9706 | LossTracker: 1.4919 | : 100%|██████████| 938/938 [00:28<00:00, 33.40it/s]\n",
      "\u001B[33mValid Epoch: 69, Step:     156 | MulticlassAccuracy: 0.9614 | MulticlassF1Score: 0.9614 | MulticlassMatthewsCorrCoef: 0.9571 | LossTracker: 1.5037 | : 100%|██████████| 157/157 [00:03<00:00, 40.02it/s]\n",
      "\u001B[32mTrain Epoch: 70, Step:     937 | MulticlassAccuracy: 0.9738 | MulticlassF1Score: 0.9738 | MulticlassMatthewsCorrCoef: 0.9709 | LossTracker: 1.4916 | : 100%|██████████| 938/938 [00:28<00:00, 33.45it/s]\n",
      "\u001B[33mValid Epoch: 70, Step:     156 | MulticlassAccuracy: 0.9616 | MulticlassF1Score: 0.9616 | MulticlassMatthewsCorrCoef: 0.9573 | LossTracker: 1.5036 | : 100%|██████████| 157/157 [00:03<00:00, 39.84it/s]\n",
      "\u001B[32mTrain Epoch: 71, Step:     937 | MulticlassAccuracy: 0.9741 | MulticlassF1Score: 0.9741 | MulticlassMatthewsCorrCoef: 0.9712 | LossTracker: 1.4913 | : 100%|██████████| 938/938 [00:28<00:00, 33.32it/s]\n",
      "\u001B[33mValid Epoch: 71, Step:     156 | MulticlassAccuracy: 0.9617 | MulticlassF1Score: 0.9617 | MulticlassMatthewsCorrCoef: 0.9575 | LossTracker: 1.5034 | : 100%|██████████| 157/157 [00:03<00:00, 39.53it/s]\n",
      "\u001B[32mTrain Epoch: 72, Step:     937 | MulticlassAccuracy: 0.9743 | MulticlassF1Score: 0.9743 | MulticlassMatthewsCorrCoef: 0.9715 | LossTracker: 1.4909 | : 100%|██████████| 938/938 [00:28<00:00, 33.05it/s]\n",
      "\u001B[33mValid Epoch: 72, Step:     156 | MulticlassAccuracy: 0.9618 | MulticlassF1Score: 0.9618 | MulticlassMatthewsCorrCoef: 0.9576 | LossTracker: 1.5032 | : 100%|██████████| 157/157 [00:03<00:00, 39.55it/s]\n",
      "\u001B[32mTrain Epoch: 73, Step:     937 | MulticlassAccuracy: 0.9746 | MulticlassF1Score: 0.9746 | MulticlassMatthewsCorrCoef: 0.9717 | LossTracker: 1.4906 | : 100%|██████████| 938/938 [00:28<00:00, 32.83it/s]\n",
      "\u001B[33mValid Epoch: 73, Step:     156 | MulticlassAccuracy: 0.9619 | MulticlassF1Score: 0.9619 | MulticlassMatthewsCorrCoef: 0.9577 | LossTracker: 1.5031 | : 100%|██████████| 157/157 [00:03<00:00, 39.35it/s]\n",
      "\u001B[32mTrain Epoch: 74, Step:     937 | MulticlassAccuracy: 0.9748 | MulticlassF1Score: 0.9748 | MulticlassMatthewsCorrCoef: 0.9720 | LossTracker: 1.4903 | : 100%|██████████| 938/938 [00:28<00:00, 32.69it/s]\n",
      "\u001B[33mValid Epoch: 74, Step:     156 | MulticlassAccuracy: 0.9620 | MulticlassF1Score: 0.9620 | MulticlassMatthewsCorrCoef: 0.9578 | LossTracker: 1.5029 | : 100%|██████████| 157/157 [00:03<00:00, 39.31it/s]\n",
      "\u001B[32mTrain Epoch: 75, Step:     937 | MulticlassAccuracy: 0.9751 | MulticlassF1Score: 0.9751 | MulticlassMatthewsCorrCoef: 0.9723 | LossTracker: 1.4900 | : 100%|██████████| 938/938 [00:28<00:00, 32.63it/s]\n",
      "\u001B[33mValid Epoch: 75, Step:     156 | MulticlassAccuracy: 0.9622 | MulticlassF1Score: 0.9622 | MulticlassMatthewsCorrCoef: 0.9580 | LossTracker: 1.5028 | : 100%|██████████| 157/157 [00:03<00:00, 39.38it/s]\n",
      "\u001B[32mTrain Epoch: 76, Step:     937 | MulticlassAccuracy: 0.9753 | MulticlassF1Score: 0.9753 | MulticlassMatthewsCorrCoef: 0.9726 | LossTracker: 1.4897 | : 100%|██████████| 938/938 [00:28<00:00, 32.66it/s]\n",
      "\u001B[33mValid Epoch: 76, Step:     156 | MulticlassAccuracy: 0.9623 | MulticlassF1Score: 0.9623 | MulticlassMatthewsCorrCoef: 0.9581 | LossTracker: 1.5026 | : 100%|██████████| 157/157 [00:03<00:00, 39.58it/s]\n",
      "\u001B[32mTrain Epoch: 77, Step:     937 | MulticlassAccuracy: 0.9755 | MulticlassF1Score: 0.9755 | MulticlassMatthewsCorrCoef: 0.9728 | LossTracker: 1.4895 | : 100%|██████████| 938/938 [00:28<00:00, 32.57it/s]\n",
      "\u001B[33mValid Epoch: 77, Step:     156 | MulticlassAccuracy: 0.9624 | MulticlassF1Score: 0.9624 | MulticlassMatthewsCorrCoef: 0.9582 | LossTracker: 1.5024 | : 100%|██████████| 157/157 [00:03<00:00, 39.37it/s]\n",
      "\u001B[32mTrain Epoch: 78, Step:     937 | MulticlassAccuracy: 0.9758 | MulticlassF1Score: 0.9758 | MulticlassMatthewsCorrCoef: 0.9731 | LossTracker: 1.4892 | : 100%|██████████| 938/938 [00:28<00:00, 32.66it/s]\n",
      "\u001B[33mValid Epoch: 78, Step:     156 | MulticlassAccuracy: 0.9625 | MulticlassF1Score: 0.9625 | MulticlassMatthewsCorrCoef: 0.9583 | LossTracker: 1.5023 | : 100%|██████████| 157/157 [00:03<00:00, 39.42it/s]\n",
      "\u001B[32mTrain Epoch: 79, Step:     937 | MulticlassAccuracy: 0.9760 | MulticlassF1Score: 0.9760 | MulticlassMatthewsCorrCoef: 0.9733 | LossTracker: 1.4889 | : 100%|██████████| 938/938 [00:28<00:00, 32.63it/s]\n",
      "\u001B[33mValid Epoch: 79, Step:     156 | MulticlassAccuracy: 0.9626 | MulticlassF1Score: 0.9626 | MulticlassMatthewsCorrCoef: 0.9584 | LossTracker: 1.5022 | : 100%|██████████| 157/157 [00:03<00:00, 39.57it/s]\n",
      "\u001B[32mTrain Epoch: 80, Step:     937 | MulticlassAccuracy: 0.9762 | MulticlassF1Score: 0.9762 | MulticlassMatthewsCorrCoef: 0.9736 | LossTracker: 1.4886 | : 100%|██████████| 938/938 [00:28<00:00, 32.59it/s]\n",
      "\u001B[33mValid Epoch: 80, Step:     156 | MulticlassAccuracy: 0.9627 | MulticlassF1Score: 0.9627 | MulticlassMatthewsCorrCoef: 0.9585 | LossTracker: 1.5020 | : 100%|██████████| 157/157 [00:03<00:00, 39.40it/s]\n",
      "\u001B[32mTrain Epoch: 81, Step:     937 | MulticlassAccuracy: 0.9764 | MulticlassF1Score: 0.9764 | MulticlassMatthewsCorrCoef: 0.9738 | LossTracker: 1.4884 | : 100%|██████████| 938/938 [00:28<00:00, 32.56it/s]\n",
      "\u001B[33mValid Epoch: 81, Step:     156 | MulticlassAccuracy: 0.9628 | MulticlassF1Score: 0.9628 | MulticlassMatthewsCorrCoef: 0.9587 | LossTracker: 1.5019 | : 100%|██████████| 157/157 [00:03<00:00, 39.45it/s]\n",
      "\u001B[32mTrain Epoch: 82, Step:     937 | MulticlassAccuracy: 0.9766 | MulticlassF1Score: 0.9766 | MulticlassMatthewsCorrCoef: 0.9740 | LossTracker: 1.4881 | : 100%|██████████| 938/938 [00:28<00:00, 32.67it/s]\n",
      "\u001B[33mValid Epoch: 82, Step:     156 | MulticlassAccuracy: 0.9629 | MulticlassF1Score: 0.9629 | MulticlassMatthewsCorrCoef: 0.9588 | LossTracker: 1.5018 | : 100%|██████████| 157/157 [00:03<00:00, 39.35it/s]\n",
      "\u001B[32mTrain Epoch: 83, Step:     937 | MulticlassAccuracy: 0.9768 | MulticlassF1Score: 0.9768 | MulticlassMatthewsCorrCoef: 0.9743 | LossTracker: 1.4879 | : 100%|██████████| 938/938 [00:28<00:00, 32.66it/s]\n",
      "\u001B[33mValid Epoch: 83, Step:     156 | MulticlassAccuracy: 0.9630 | MulticlassF1Score: 0.9630 | MulticlassMatthewsCorrCoef: 0.9589 | LossTracker: 1.5016 | : 100%|██████████| 157/157 [00:04<00:00, 39.22it/s]\n",
      "\u001B[32mTrain Epoch: 84, Step:     937 | MulticlassAccuracy: 0.9770 | MulticlassF1Score: 0.9770 | MulticlassMatthewsCorrCoef: 0.9745 | LossTracker: 1.4876 | : 100%|██████████| 938/938 [00:28<00:00, 32.66it/s]\n",
      "\u001B[33mValid Epoch: 84, Step:     156 | MulticlassAccuracy: 0.9631 | MulticlassF1Score: 0.9631 | MulticlassMatthewsCorrCoef: 0.9590 | LossTracker: 1.5015 | : 100%|██████████| 157/157 [00:03<00:00, 39.45it/s]\n",
      "\u001B[32mTrain Epoch: 85, Step:     937 | MulticlassAccuracy: 0.9772 | MulticlassF1Score: 0.9772 | MulticlassMatthewsCorrCoef: 0.9747 | LossTracker: 1.4874 | : 100%|██████████| 938/938 [00:28<00:00, 32.64it/s]\n",
      "\u001B[33mValid Epoch: 85, Step:     156 | MulticlassAccuracy: 0.9632 | MulticlassF1Score: 0.9632 | MulticlassMatthewsCorrCoef: 0.9591 | LossTracker: 1.5013 | : 100%|██████████| 157/157 [00:03<00:00, 39.37it/s]\n",
      "\u001B[32mTrain Epoch: 86, Step:     937 | MulticlassAccuracy: 0.9774 | MulticlassF1Score: 0.9774 | MulticlassMatthewsCorrCoef: 0.9749 | LossTracker: 1.4872 | : 100%|██████████| 938/938 [00:28<00:00, 32.58it/s]\n",
      "\u001B[33mValid Epoch: 86, Step:     156 | MulticlassAccuracy: 0.9633 | MulticlassF1Score: 0.9633 | MulticlassMatthewsCorrCoef: 0.9592 | LossTracker: 1.5012 | : 100%|██████████| 157/157 [00:03<00:00, 39.47it/s]\n",
      "\u001B[32mTrain Epoch: 87, Step:     937 | MulticlassAccuracy: 0.9776 | MulticlassF1Score: 0.9776 | MulticlassMatthewsCorrCoef: 0.9751 | LossTracker: 1.4869 | : 100%|██████████| 938/938 [00:28<00:00, 32.65it/s]\n",
      "\u001B[33mValid Epoch: 87, Step:     156 | MulticlassAccuracy: 0.9634 | MulticlassF1Score: 0.9634 | MulticlassMatthewsCorrCoef: 0.9594 | LossTracker: 1.5011 | : 100%|██████████| 157/157 [00:04<00:00, 38.90it/s]\n",
      "\u001B[32mTrain Epoch: 88, Step:     937 | MulticlassAccuracy: 0.9778 | MulticlassF1Score: 0.9778 | MulticlassMatthewsCorrCoef: 0.9753 | LossTracker: 1.4867 | : 100%|██████████| 938/938 [00:28<00:00, 32.60it/s]\n",
      "\u001B[33mValid Epoch: 88, Step:     156 | MulticlassAccuracy: 0.9635 | MulticlassF1Score: 0.9635 | MulticlassMatthewsCorrCoef: 0.9595 | LossTracker: 1.5009 | : 100%|██████████| 157/157 [00:03<00:00, 39.49it/s]\n",
      "\u001B[32mTrain Epoch: 89, Step:     937 | MulticlassAccuracy: 0.9780 | MulticlassF1Score: 0.9780 | MulticlassMatthewsCorrCoef: 0.9756 | LossTracker: 1.4865 | : 100%|██████████| 938/938 [00:28<00:00, 32.59it/s]\n",
      "\u001B[33mValid Epoch: 89, Step:     156 | MulticlassAccuracy: 0.9636 | MulticlassF1Score: 0.9636 | MulticlassMatthewsCorrCoef: 0.9596 | LossTracker: 1.5008 | : 100%|██████████| 157/157 [00:04<00:00, 39.15it/s]\n",
      "\u001B[32mTrain Epoch: 90, Step:     937 | MulticlassAccuracy: 0.9782 | MulticlassF1Score: 0.9782 | MulticlassMatthewsCorrCoef: 0.9758 | LossTracker: 1.4862 | : 100%|██████████| 938/938 [00:28<00:00, 32.57it/s]\n",
      "\u001B[33mValid Epoch: 90, Step:     156 | MulticlassAccuracy: 0.9637 | MulticlassF1Score: 0.9637 | MulticlassMatthewsCorrCoef: 0.9597 | LossTracker: 1.5007 | : 100%|██████████| 157/157 [00:03<00:00, 39.30it/s]\n",
      "\u001B[32mTrain Epoch: 91, Step:     937 | MulticlassAccuracy: 0.9784 | MulticlassF1Score: 0.9784 | MulticlassMatthewsCorrCoef: 0.9759 | LossTracker: 1.4860 | : 100%|██████████| 938/938 [00:28<00:00, 32.61it/s]\n",
      "\u001B[33mValid Epoch: 91, Step:     156 | MulticlassAccuracy: 0.9638 | MulticlassF1Score: 0.9638 | MulticlassMatthewsCorrCoef: 0.9598 | LossTracker: 1.5005 | : 100%|██████████| 157/157 [00:03<00:00, 39.42it/s]\n",
      "\u001B[32mTrain Epoch: 92, Step:     937 | MulticlassAccuracy: 0.9785 | MulticlassF1Score: 0.9785 | MulticlassMatthewsCorrCoef: 0.9761 | LossTracker: 1.4858 | : 100%|██████████| 938/938 [00:28<00:00, 32.62it/s]\n",
      "\u001B[33mValid Epoch: 92, Step:     156 | MulticlassAccuracy: 0.9639 | MulticlassF1Score: 0.9639 | MulticlassMatthewsCorrCoef: 0.9599 | LossTracker: 1.5004 | : 100%|██████████| 157/157 [00:03<00:00, 39.40it/s]\n",
      "\u001B[32mTrain Epoch: 93, Step:     937 | MulticlassAccuracy: 0.9787 | MulticlassF1Score: 0.9787 | MulticlassMatthewsCorrCoef: 0.9763 | LossTracker: 1.4856 | : 100%|██████████| 938/938 [00:28<00:00, 32.60it/s]\n",
      "\u001B[33mValid Epoch: 93, Step:     156 | MulticlassAccuracy: 0.9640 | MulticlassF1Score: 0.9640 | MulticlassMatthewsCorrCoef: 0.9600 | LossTracker: 1.5003 | : 100%|██████████| 157/157 [00:03<00:00, 39.50it/s]\n",
      "\u001B[32mTrain Epoch: 94, Step:     937 | MulticlassAccuracy: 0.9789 | MulticlassF1Score: 0.9789 | MulticlassMatthewsCorrCoef: 0.9765 | LossTracker: 1.4855 | : 100%|██████████| 938/938 [00:28<00:00, 32.61it/s]\n",
      "\u001B[33mValid Epoch: 94, Step:     156 | MulticlassAccuracy: 0.9641 | MulticlassF1Score: 0.9641 | MulticlassMatthewsCorrCoef: 0.9600 | LossTracker: 1.5002 | : 100%|██████████| 157/157 [00:03<00:00, 39.29it/s]\n",
      "\u001B[32mTrain Epoch: 95, Step:     937 | MulticlassAccuracy: 0.9790 | MulticlassF1Score: 0.9790 | MulticlassMatthewsCorrCoef: 0.9767 | LossTracker: 1.4853 | : 100%|██████████| 938/938 [00:28<00:00, 32.64it/s]\n",
      "\u001B[33mValid Epoch: 95, Step:     156 | MulticlassAccuracy: 0.9641 | MulticlassF1Score: 0.9641 | MulticlassMatthewsCorrCoef: 0.9601 | LossTracker: 1.5001 | : 100%|██████████| 157/157 [00:03<00:00, 39.37it/s]\n",
      "\u001B[32mTrain Epoch: 96, Step:     937 | MulticlassAccuracy: 0.9792 | MulticlassF1Score: 0.9792 | MulticlassMatthewsCorrCoef: 0.9769 | LossTracker: 1.4852 | : 100%|██████████| 938/938 [00:28<00:00, 32.64it/s]\n",
      "\u001B[33mValid Epoch: 96, Step:     156 | MulticlassAccuracy: 0.9642 | MulticlassF1Score: 0.9642 | MulticlassMatthewsCorrCoef: 0.9602 | LossTracker: 1.5000 | : 100%|██████████| 157/157 [00:03<00:00, 39.33it/s]\n",
      "\u001B[32mTrain Epoch: 97, Step:     937 | MulticlassAccuracy: 0.9793 | MulticlassF1Score: 0.9793 | MulticlassMatthewsCorrCoef: 0.9770 | LossTracker: 1.4851 | : 100%|██████████| 938/938 [00:28<00:00, 32.56it/s]\n",
      "\u001B[33mValid Epoch: 97, Step:     156 | MulticlassAccuracy: 0.9643 | MulticlassF1Score: 0.9643 | MulticlassMatthewsCorrCoef: 0.9603 | LossTracker: 1.4999 | : 100%|██████████| 157/157 [00:03<00:00, 39.33it/s]\n",
      "\u001B[32mTrain Epoch: 98, Step:     937 | MulticlassAccuracy: 0.9795 | MulticlassF1Score: 0.9795 | MulticlassMatthewsCorrCoef: 0.9772 | LossTracker: 1.4850 | : 100%|██████████| 938/938 [00:28<00:00, 32.63it/s]\n",
      "\u001B[33mValid Epoch: 98, Step:     156 | MulticlassAccuracy: 0.9644 | MulticlassF1Score: 0.9644 | MulticlassMatthewsCorrCoef: 0.9604 | LossTracker: 1.4998 | : 100%|██████████| 157/157 [00:03<00:00, 39.47it/s]\n",
      "\u001B[32mTrain Epoch: 99, Step:     937 | MulticlassAccuracy: 0.9797 | MulticlassF1Score: 0.9797 | MulticlassMatthewsCorrCoef: 0.9774 | LossTracker: 1.4848 | : 100%|██████████| 938/938 [00:28<00:00, 32.55it/s]\n",
      "\u001B[33mValid Epoch: 99, Step:     156 | MulticlassAccuracy: 0.9644 | MulticlassF1Score: 0.9644 | MulticlassMatthewsCorrCoef: 0.9605 | LossTracker: 1.4997 | : 100%|██████████| 157/157 [00:03<00:00, 39.40it/s]\n"
     ]
    }
   ],
   "execution_count": 19
  },
  {
   "metadata": {},
   "cell_type": "code",
   "outputs": [],
   "execution_count": null,
   "source": "",
   "id": "d17d53b956b21933"
  }
 ],
 "metadata": {
  "kernelspec": {
   "display_name": "Python 3",
   "language": "python",
   "name": "python3"
  },
  "language_info": {
   "codemirror_mode": {
    "name": "ipython",
    "version": 2
   },
   "file_extension": ".py",
   "mimetype": "text/x-python",
   "name": "python",
   "nbconvert_exporter": "python",
   "pygments_lexer": "ipython2",
   "version": "2.7.6"
  }
 },
 "nbformat": 4,
 "nbformat_minor": 5
}
