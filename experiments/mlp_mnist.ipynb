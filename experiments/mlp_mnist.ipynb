{
 "cells": [
  {
   "metadata": {
    "ExecuteTime": {
     "end_time": "2024-05-30T12:06:38.137896Z",
     "start_time": "2024-05-30T12:06:34.234256Z"
    }
   },
   "cell_type": "code",
   "source": [
    "import torch\n",
    "from vision_models_playground.train import train_model_classifier\n",
    "from vision_models_playground.datasets import get_mnist_dataset\n",
    "from vision_models_playground.models.classifiers import FeedForwardClassifier\n",
    "\n",
    "# Check if cuda is available\n",
    "device = 'cuda' if torch.cuda.is_available() else 'cpu'\n",
    "print(f'Using {device} device')"
   ],
   "id": "ef03d7715fc59e4b",
   "outputs": [
    {
     "name": "stdout",
     "output_type": "stream",
     "text": [
      "Using cuda device\n"
     ]
    }
   ],
   "execution_count": 1
  },
  {
   "metadata": {
    "ExecuteTime": {
     "end_time": "2024-05-29T18:38:13.126682Z",
     "start_time": "2024-05-29T18:38:12.410738Z"
    }
   },
   "cell_type": "code",
   "source": [
    "model = FeedForwardClassifier(\n",
    "    input_dim=28*28,\n",
    "    hidden_dims=[256, 128],\n",
    "    num_classes=10,\n",
    ")"
   ],
   "id": "725eaf9fd949867a",
   "outputs": [],
   "execution_count": 2
  },
  {
   "metadata": {},
   "cell_type": "code",
   "source": [
    "train_dataset, valid_dataset = get_mnist_dataset()\n",
    "train_model_classifier(model, train_dataset, valid_dataset, num_epochs=100, num_workers=2)"
   ],
   "id": "141ef8495a1155f",
   "outputs": [
    {
     "name": "stderr",
     "output_type": "stream",
     "text": [
      "\u001B[32mTrain Epoch: 52, Step:     937 | MulticlassAccuracy: 0.9665 | MulticlassF1Score: 0.9665 | MulticlassMatthewsCorrCoef: 0.9627 | LossTracker: 1.4994 | : 100%|██████████| 938/938 [00:04<00:00, 230.12it/s]\n",
      "\u001B[33mValid Epoch: 52, Step:     156 | MulticlassAccuracy: 0.9606 | MulticlassF1Score: 0.9606 | MulticlassMatthewsCorrCoef: 0.9562 | LossTracker: 1.5034 | : 100%|██████████| 157/157 [00:00<00:00, 248.78it/s]\n",
      "\u001B[32mTrain Epoch: 53, Step:     937 | MulticlassAccuracy: 0.9669 | MulticlassF1Score: 0.9669 | MulticlassMatthewsCorrCoef: 0.9632 | LossTracker: 1.4989 | : 100%|██████████| 938/938 [00:04<00:00, 222.54it/s]\n",
      "\u001B[33mValid Epoch: 53, Step:     156 | MulticlassAccuracy: 0.9608 | MulticlassF1Score: 0.9608 | MulticlassMatthewsCorrCoef: 0.9565 | LossTracker: 1.5031 | : 100%|██████████| 157/157 [00:00<00:00, 257.10it/s]\n",
      "\u001B[32mTrain Epoch: 54, Step:     937 | MulticlassAccuracy: 0.9673 | MulticlassF1Score: 0.9673 | MulticlassMatthewsCorrCoef: 0.9636 | LossTracker: 1.4985 | : 100%|██████████| 938/938 [00:03<00:00, 238.60it/s]\n",
      "\u001B[33mValid Epoch: 54, Step:     156 | MulticlassAccuracy: 0.9611 | MulticlassF1Score: 0.9611 | MulticlassMatthewsCorrCoef: 0.9567 | LossTracker: 1.5028 | : 100%|██████████| 157/157 [00:00<00:00, 243.93it/s]\n",
      "\u001B[32mTrain Epoch: 55, Step:     937 | MulticlassAccuracy: 0.9677 | MulticlassF1Score: 0.9677 | MulticlassMatthewsCorrCoef: 0.9641 | LossTracker: 1.4980 | : 100%|██████████| 938/938 [00:03<00:00, 252.37it/s]\n",
      "\u001B[33mValid Epoch: 55, Step:     156 | MulticlassAccuracy: 0.9613 | MulticlassF1Score: 0.9613 | MulticlassMatthewsCorrCoef: 0.9570 | LossTracker: 1.5026 | : 100%|██████████| 157/157 [00:00<00:00, 253.55it/s]\n",
      "\u001B[32mTrain Epoch: 56, Step:     937 | MulticlassAccuracy: 0.9681 | MulticlassF1Score: 0.9681 | MulticlassMatthewsCorrCoef: 0.9645 | LossTracker: 1.4975 | : 100%|██████████| 938/938 [00:03<00:00, 245.38it/s]\n",
      "\u001B[33mValid Epoch: 56, Step:     156 | MulticlassAccuracy: 0.9615 | MulticlassF1Score: 0.9615 | MulticlassMatthewsCorrCoef: 0.9572 | LossTracker: 1.5023 | : 100%|██████████| 157/157 [00:00<00:00, 255.51it/s]\n",
      "\u001B[32mTrain Epoch: 57, Step:     937 | MulticlassAccuracy: 0.9684 | MulticlassF1Score: 0.9684 | MulticlassMatthewsCorrCoef: 0.9649 | LossTracker: 1.4971 | : 100%|██████████| 938/938 [00:04<00:00, 229.68it/s]\n",
      "\u001B[33mValid Epoch: 57, Step:     156 | MulticlassAccuracy: 0.9617 | MulticlassF1Score: 0.9617 | MulticlassMatthewsCorrCoef: 0.9575 | LossTracker: 1.5020 | : 100%|██████████| 157/157 [00:00<00:00, 240.35it/s]\n",
      "\u001B[32mTrain Epoch: 58, Step:     937 | MulticlassAccuracy: 0.9688 | MulticlassF1Score: 0.9688 | MulticlassMatthewsCorrCoef: 0.9653 | LossTracker: 1.4966 | : 100%|██████████| 938/938 [00:04<00:00, 232.71it/s]\n",
      "\u001B[33mValid Epoch: 58, Step:     156 | MulticlassAccuracy: 0.9620 | MulticlassF1Score: 0.9620 | MulticlassMatthewsCorrCoef: 0.9577 | LossTracker: 1.5018 | : 100%|██████████| 157/157 [00:00<00:00, 243.47it/s]\n",
      "\u001B[32mTrain Epoch: 59, Step:     937 | MulticlassAccuracy: 0.9692 | MulticlassF1Score: 0.9692 | MulticlassMatthewsCorrCoef: 0.9657 | LossTracker: 1.4962 | : 100%|██████████| 938/938 [00:03<00:00, 253.31it/s]\n",
      "\u001B[33mValid Epoch: 59, Step:     156 | MulticlassAccuracy: 0.9622 | MulticlassF1Score: 0.9622 | MulticlassMatthewsCorrCoef: 0.9580 | LossTracker: 1.5015 | : 100%|██████████| 157/157 [00:00<00:00, 234.81it/s]\n",
      "\u001B[32mTrain Epoch: 60, Step:     937 | MulticlassAccuracy: 0.9695 | MulticlassF1Score: 0.9695 | MulticlassMatthewsCorrCoef: 0.9661 | LossTracker: 1.4958 | : 100%|██████████| 938/938 [00:04<00:00, 218.02it/s]\n",
      "\u001B[33mValid Epoch: 60, Step:     156 | MulticlassAccuracy: 0.9624 | MulticlassF1Score: 0.9624 | MulticlassMatthewsCorrCoef: 0.9582 | LossTracker: 1.5013 | : 100%|██████████| 157/157 [00:00<00:00, 215.83it/s]\n",
      "\u001B[32mTrain Epoch: 61, Step:     937 | MulticlassAccuracy: 0.9698 | MulticlassF1Score: 0.9698 | MulticlassMatthewsCorrCoef: 0.9665 | LossTracker: 1.4954 | : 100%|██████████| 938/938 [00:03<00:00, 235.79it/s]\n",
      "\u001B[33mValid Epoch: 61, Step:     156 | MulticlassAccuracy: 0.9626 | MulticlassF1Score: 0.9626 | MulticlassMatthewsCorrCoef: 0.9584 | LossTracker: 1.5010 | : 100%|██████████| 157/157 [00:00<00:00, 230.71it/s]\n",
      "\u001B[32mTrain Epoch: 62, Step:     937 | MulticlassAccuracy: 0.9702 | MulticlassF1Score: 0.9702 | MulticlassMatthewsCorrCoef: 0.9669 | LossTracker: 1.4950 | : 100%|██████████| 938/938 [00:03<00:00, 261.20it/s]\n",
      "\u001B[33mValid Epoch: 62, Step:     156 | MulticlassAccuracy: 0.9628 | MulticlassF1Score: 0.9628 | MulticlassMatthewsCorrCoef: 0.9587 | LossTracker: 1.5008 | : 100%|██████████| 157/157 [00:00<00:00, 254.40it/s]\n",
      "\u001B[32mTrain Epoch: 63, Step:     937 | MulticlassAccuracy: 0.9705 | MulticlassF1Score: 0.9705 | MulticlassMatthewsCorrCoef: 0.9672 | LossTracker: 1.4946 | : 100%|██████████| 938/938 [00:03<00:00, 255.29it/s]\n",
      "\u001B[33mValid Epoch: 63, Step:     156 | MulticlassAccuracy: 0.9630 | MulticlassF1Score: 0.9630 | MulticlassMatthewsCorrCoef: 0.9589 | LossTracker: 1.5006 | : 100%|██████████| 157/157 [00:00<00:00, 247.37it/s]\n",
      "\u001B[32mTrain Epoch: 64, Step:     937 | MulticlassAccuracy: 0.9708 | MulticlassF1Score: 0.9708 | MulticlassMatthewsCorrCoef: 0.9676 | LossTracker: 1.4942 | : 100%|██████████| 938/938 [00:03<00:00, 246.84it/s]\n",
      "\u001B[33mValid Epoch: 64, Step:     156 | MulticlassAccuracy: 0.9632 | MulticlassF1Score: 0.9632 | MulticlassMatthewsCorrCoef: 0.9591 | LossTracker: 1.5004 | : 100%|██████████| 157/157 [00:00<00:00, 221.83it/s]\n",
      "\u001B[32mTrain Epoch: 65, Step:     937 | MulticlassAccuracy: 0.9711 | MulticlassF1Score: 0.9711 | MulticlassMatthewsCorrCoef: 0.9679 | LossTracker: 1.4938 | : 100%|██████████| 938/938 [00:04<00:00, 234.23it/s]\n",
      "\u001B[33mValid Epoch: 65, Step:     156 | MulticlassAccuracy: 0.9634 | MulticlassF1Score: 0.9634 | MulticlassMatthewsCorrCoef: 0.9593 | LossTracker: 1.5001 | : 100%|██████████| 157/157 [00:00<00:00, 247.85it/s]\n",
      "\u001B[32mTrain Epoch: 66, Step:     937 | MulticlassAccuracy: 0.9714 | MulticlassF1Score: 0.9714 | MulticlassMatthewsCorrCoef: 0.9682 | LossTracker: 1.4935 | : 100%|██████████| 938/938 [00:03<00:00, 247.22it/s]\n",
      "\u001B[33mValid Epoch: 66, Step:     156 | MulticlassAccuracy: 0.9635 | MulticlassF1Score: 0.9635 | MulticlassMatthewsCorrCoef: 0.9595 | LossTracker: 1.4999 | : 100%|██████████| 157/157 [00:00<00:00, 267.92it/s]\n",
      "\u001B[32mTrain Epoch: 67, Step:     937 | MulticlassAccuracy: 0.9717 | MulticlassF1Score: 0.9717 | MulticlassMatthewsCorrCoef: 0.9686 | LossTracker: 1.4931 | : 100%|██████████| 938/938 [00:03<00:00, 248.36it/s]\n",
      "\u001B[33mValid Epoch: 67, Step:     156 | MulticlassAccuracy: 0.9637 | MulticlassF1Score: 0.9637 | MulticlassMatthewsCorrCoef: 0.9597 | LossTracker: 1.4997 | : 100%|██████████| 157/157 [00:00<00:00, 224.73it/s]\n",
      "\u001B[32mTrain Epoch: 68, Step:     937 | MulticlassAccuracy: 0.9720 | MulticlassF1Score: 0.9720 | MulticlassMatthewsCorrCoef: 0.9689 | LossTracker: 1.4928 | : 100%|██████████| 938/938 [00:03<00:00, 240.37it/s]\n",
      "\u001B[33mValid Epoch: 68, Step:     156 | MulticlassAccuracy: 0.9639 | MulticlassF1Score: 0.9639 | MulticlassMatthewsCorrCoef: 0.9599 | LossTracker: 1.4995 | : 100%|██████████| 157/157 [00:00<00:00, 253.85it/s]\n",
      "\u001B[32mTrain Epoch: 69, Step:     937 | MulticlassAccuracy: 0.9723 | MulticlassF1Score: 0.9723 | MulticlassMatthewsCorrCoef: 0.9692 | LossTracker: 1.4925 | : 100%|██████████| 938/938 [00:03<00:00, 247.47it/s]\n",
      "\u001B[33mValid Epoch: 69, Step:     156 | MulticlassAccuracy: 0.9640 | MulticlassF1Score: 0.9640 | MulticlassMatthewsCorrCoef: 0.9600 | LossTracker: 1.4993 | : 100%|██████████| 157/157 [00:00<00:00, 246.26it/s]\n",
      "\u001B[32mTrain Epoch: 70, Step:     937 | MulticlassAccuracy: 0.9725 | MulticlassF1Score: 0.9725 | MulticlassMatthewsCorrCoef: 0.9695 | LossTracker: 1.4921 | : 100%|██████████| 938/938 [00:04<00:00, 229.70it/s]\n",
      "\u001B[33mValid Epoch: 70, Step:     156 | MulticlassAccuracy: 0.9642 | MulticlassF1Score: 0.9642 | MulticlassMatthewsCorrCoef: 0.9602 | LossTracker: 1.4991 | : 100%|██████████| 157/157 [00:00<00:00, 257.17it/s]\n",
      "\u001B[32mTrain Epoch: 71, Step:     937 | MulticlassAccuracy: 0.9728 | MulticlassF1Score: 0.9728 | MulticlassMatthewsCorrCoef: 0.9698 | LossTracker: 1.4918 | : 100%|██████████| 938/938 [00:04<00:00, 220.32it/s]\n",
      "\u001B[33mValid Epoch: 71, Step:     156 | MulticlassAccuracy: 0.9644 | MulticlassF1Score: 0.9644 | MulticlassMatthewsCorrCoef: 0.9604 | LossTracker: 1.4989 | : 100%|██████████| 157/157 [00:00<00:00, 237.03it/s]\n",
      "\u001B[32mTrain Epoch: 72, Step:     937 | MulticlassAccuracy: 0.9731 | MulticlassF1Score: 0.9731 | MulticlassMatthewsCorrCoef: 0.9701 | LossTracker: 1.4915 | : 100%|██████████| 938/938 [00:03<00:00, 247.05it/s]\n",
      "\u001B[33mValid Epoch: 72, Step:     156 | MulticlassAccuracy: 0.9645 | MulticlassF1Score: 0.9645 | MulticlassMatthewsCorrCoef: 0.9606 | LossTracker: 1.4988 | : 100%|██████████| 157/157 [00:00<00:00, 262.63it/s]\n",
      "\u001B[32mTrain Epoch: 73, Step:     937 | MulticlassAccuracy: 0.9733 | MulticlassF1Score: 0.9733 | MulticlassMatthewsCorrCoef: 0.9704 | LossTracker: 1.4912 | : 100%|██████████| 938/938 [00:03<00:00, 252.94it/s]\n",
      "\u001B[33mValid Epoch: 73, Step:     156 | MulticlassAccuracy: 0.9647 | MulticlassF1Score: 0.9647 | MulticlassMatthewsCorrCoef: 0.9608 | LossTracker: 1.4986 | : 100%|██████████| 157/157 [00:00<00:00, 262.19it/s]\n",
      "\u001B[32mTrain Epoch: 74, Step:     937 | MulticlassAccuracy: 0.9736 | MulticlassF1Score: 0.9736 | MulticlassMatthewsCorrCoef: 0.9706 | LossTracker: 1.4909 | : 100%|██████████| 938/938 [00:03<00:00, 248.16it/s]\n",
      "\u001B[33mValid Epoch: 74, Step:     156 | MulticlassAccuracy: 0.9649 | MulticlassF1Score: 0.9649 | MulticlassMatthewsCorrCoef: 0.9609 | LossTracker: 1.4984 | : 100%|██████████| 157/157 [00:00<00:00, 253.47it/s]\n",
      "\u001B[32mTrain Epoch: 75, Step:     937 | MulticlassAccuracy: 0.9738 | MulticlassF1Score: 0.9738 | MulticlassMatthewsCorrCoef: 0.9709 | LossTracker: 1.4906 | : 100%|██████████| 938/938 [00:03<00:00, 255.20it/s]\n",
      "\u001B[33mValid Epoch: 75, Step:     156 | MulticlassAccuracy: 0.9650 | MulticlassF1Score: 0.9650 | MulticlassMatthewsCorrCoef: 0.9611 | LossTracker: 1.4982 | : 100%|██████████| 157/157 [00:00<00:00, 254.68it/s]\n",
      "\u001B[32mTrain Epoch: 76, Step:     937 | MulticlassAccuracy: 0.9741 | MulticlassF1Score: 0.9741 | MulticlassMatthewsCorrCoef: 0.9712 | LossTracker: 1.4903 | : 100%|██████████| 938/938 [00:03<00:00, 248.72it/s]\n",
      "\u001B[33mValid Epoch: 76, Step:     156 | MulticlassAccuracy: 0.9651 | MulticlassF1Score: 0.9651 | MulticlassMatthewsCorrCoef: 0.9613 | LossTracker: 1.4980 | : 100%|██████████| 157/157 [00:00<00:00, 260.09it/s]\n",
      "\u001B[32mTrain Epoch: 77, Step:     937 | MulticlassAccuracy: 0.9743 | MulticlassF1Score: 0.9743 | MulticlassMatthewsCorrCoef: 0.9714 | LossTracker: 1.4901 | : 100%|██████████| 938/938 [00:03<00:00, 251.34it/s]\n",
      "\u001B[33mValid Epoch: 77, Step:     156 | MulticlassAccuracy: 0.9653 | MulticlassF1Score: 0.9653 | MulticlassMatthewsCorrCoef: 0.9614 | LossTracker: 1.4979 | : 100%|██████████| 157/157 [00:00<00:00, 266.39it/s]\n",
      "\u001B[32mTrain Epoch: 78, Step:     937 | MulticlassAccuracy: 0.9745 | MulticlassF1Score: 0.9745 | MulticlassMatthewsCorrCoef: 0.9717 | LossTracker: 1.4898 | : 100%|██████████| 938/938 [00:03<00:00, 244.08it/s]\n",
      "\u001B[33mValid Epoch: 78, Step:     156 | MulticlassAccuracy: 0.9654 | MulticlassF1Score: 0.9654 | MulticlassMatthewsCorrCoef: 0.9616 | LossTracker: 1.4977 | : 100%|██████████| 157/157 [00:00<00:00, 253.94it/s]\n",
      "\u001B[32mTrain Epoch: 79, Step:     937 | MulticlassAccuracy: 0.9747 | MulticlassF1Score: 0.9747 | MulticlassMatthewsCorrCoef: 0.9719 | LossTracker: 1.4895 | : 100%|██████████| 938/938 [00:03<00:00, 261.40it/s]\n",
      "\u001B[33mValid Epoch: 79, Step:     156 | MulticlassAccuracy: 0.9656 | MulticlassF1Score: 0.9656 | MulticlassMatthewsCorrCoef: 0.9618 | LossTracker: 1.4975 | : 100%|██████████| 157/157 [00:00<00:00, 253.08it/s]\n",
      "\u001B[32mTrain Epoch: 80, Step:     937 | MulticlassAccuracy: 0.9750 | MulticlassF1Score: 0.9750 | MulticlassMatthewsCorrCoef: 0.9722 | LossTracker: 1.4893 | : 100%|██████████| 938/938 [00:03<00:00, 257.79it/s]\n",
      "\u001B[33mValid Epoch: 80, Step:     156 | MulticlassAccuracy: 0.9657 | MulticlassF1Score: 0.9657 | MulticlassMatthewsCorrCoef: 0.9619 | LossTracker: 1.4974 | : 100%|██████████| 157/157 [00:00<00:00, 259.68it/s]\n",
      "\u001B[32mTrain Epoch: 81, Step:     937 | MulticlassAccuracy: 0.9752 | MulticlassF1Score: 0.9752 | MulticlassMatthewsCorrCoef: 0.9724 | LossTracker: 1.4890 | : 100%|██████████| 938/938 [00:03<00:00, 250.03it/s]\n",
      "\u001B[33mValid Epoch: 81, Step:     156 | MulticlassAccuracy: 0.9659 | MulticlassF1Score: 0.9659 | MulticlassMatthewsCorrCoef: 0.9621 | LossTracker: 1.4972 | : 100%|██████████| 157/157 [00:00<00:00, 248.63it/s]\n",
      "\u001B[32mTrain Epoch: 82, Step:     937 | MulticlassAccuracy: 0.9754 | MulticlassF1Score: 0.9754 | MulticlassMatthewsCorrCoef: 0.9726 | LossTracker: 1.4888 | : 100%|██████████| 938/938 [00:03<00:00, 239.61it/s]\n",
      "\u001B[33mValid Epoch: 82, Step:     156 | MulticlassAccuracy: 0.9660 | MulticlassF1Score: 0.9660 | MulticlassMatthewsCorrCoef: 0.9622 | LossTracker: 1.4971 | : 100%|██████████| 157/157 [00:00<00:00, 250.30it/s]\n",
      "\u001B[32mTrain Epoch: 83, Step:     937 | MulticlassAccuracy: 0.9756 | MulticlassF1Score: 0.9756 | MulticlassMatthewsCorrCoef: 0.9729 | LossTracker: 1.4885 | : 100%|██████████| 938/938 [00:03<00:00, 241.91it/s]\n",
      "\u001B[33mValid Epoch: 83, Step:     156 | MulticlassAccuracy: 0.9661 | MulticlassF1Score: 0.9661 | MulticlassMatthewsCorrCoef: 0.9624 | LossTracker: 1.4969 | : 100%|██████████| 157/157 [00:00<00:00, 243.12it/s]\n",
      "\u001B[32mTrain Epoch: 84, Step:     937 | MulticlassAccuracy: 0.9758 | MulticlassF1Score: 0.9758 | MulticlassMatthewsCorrCoef: 0.9731 | LossTracker: 1.4883 | : 100%|██████████| 938/938 [00:03<00:00, 238.97it/s]\n",
      "\u001B[33mValid Epoch: 84, Step:     156 | MulticlassAccuracy: 0.9663 | MulticlassF1Score: 0.9663 | MulticlassMatthewsCorrCoef: 0.9625 | LossTracker: 1.4968 | : 100%|██████████| 157/157 [00:00<00:00, 216.73it/s]\n",
      "\u001B[32mTrain Epoch: 85, Step:     937 | MulticlassAccuracy: 0.9760 | MulticlassF1Score: 0.9760 | MulticlassMatthewsCorrCoef: 0.9733 | LossTracker: 1.4881 | : 100%|██████████| 938/938 [00:03<00:00, 243.90it/s]\n",
      "\u001B[33mValid Epoch: 85, Step:     156 | MulticlassAccuracy: 0.9664 | MulticlassF1Score: 0.9664 | MulticlassMatthewsCorrCoef: 0.9626 | LossTracker: 1.4966 | : 100%|██████████| 157/157 [00:00<00:00, 259.09it/s]\n",
      "\u001B[32mTrain Epoch: 86, Step:     937 | MulticlassAccuracy: 0.9762 | MulticlassF1Score: 0.9762 | MulticlassMatthewsCorrCoef: 0.9735 | LossTracker: 1.4878 | : 100%|██████████| 938/938 [00:03<00:00, 252.03it/s]\n",
      "\u001B[33mValid Epoch: 86, Step:     156 | MulticlassAccuracy: 0.9665 | MulticlassF1Score: 0.9665 | MulticlassMatthewsCorrCoef: 0.9628 | LossTracker: 1.4965 | : 100%|██████████| 157/157 [00:00<00:00, 252.52it/s]\n",
      "\u001B[32mTrain Epoch: 87, Step:     937 | MulticlassAccuracy: 0.9764 | MulticlassF1Score: 0.9764 | MulticlassMatthewsCorrCoef: 0.9737 | LossTracker: 1.4876 | : 100%|██████████| 938/938 [00:03<00:00, 255.27it/s]\n",
      "\u001B[33mValid Epoch: 87, Step:     156 | MulticlassAccuracy: 0.9666 | MulticlassF1Score: 0.9666 | MulticlassMatthewsCorrCoef: 0.9629 | LossTracker: 1.4963 | : 100%|██████████| 157/157 [00:00<00:00, 246.44it/s]\n",
      "\u001B[32mTrain Epoch: 88, Step:     937 | MulticlassAccuracy: 0.9765 | MulticlassF1Score: 0.9765 | MulticlassMatthewsCorrCoef: 0.9739 | LossTracker: 1.4874 | : 100%|██████████| 938/938 [00:03<00:00, 250.49it/s]\n",
      "\u001B[33mValid Epoch: 88, Step:     156 | MulticlassAccuracy: 0.9668 | MulticlassF1Score: 0.9668 | MulticlassMatthewsCorrCoef: 0.9631 | LossTracker: 1.4962 | : 100%|██████████| 157/157 [00:00<00:00, 267.06it/s]\n",
      "\u001B[32mTrain Epoch: 89, Step:     937 | MulticlassAccuracy: 0.9767 | MulticlassF1Score: 0.9767 | MulticlassMatthewsCorrCoef: 0.9741 | LossTracker: 1.4872 | : 100%|██████████| 938/938 [00:03<00:00, 248.85it/s]\n",
      "\u001B[33mValid Epoch: 89, Step:     156 | MulticlassAccuracy: 0.9669 | MulticlassF1Score: 0.9669 | MulticlassMatthewsCorrCoef: 0.9632 | LossTracker: 1.4961 | : 100%|██████████| 157/157 [00:00<00:00, 260.51it/s]\n",
      "\u001B[32mTrain Epoch: 90, Step:     937 | MulticlassAccuracy: 0.9769 | MulticlassF1Score: 0.9769 | MulticlassMatthewsCorrCoef: 0.9743 | LossTracker: 1.4870 | : 100%|██████████| 938/938 [00:03<00:00, 249.57it/s]\n",
      "\u001B[33mValid Epoch: 90, Step:     156 | MulticlassAccuracy: 0.9670 | MulticlassF1Score: 0.9670 | MulticlassMatthewsCorrCoef: 0.9633 | LossTracker: 1.4959 | : 100%|██████████| 157/157 [00:00<00:00, 265.10it/s]\n",
      "\u001B[32mTrain Epoch: 91, Step:     937 | MulticlassAccuracy: 0.9771 | MulticlassF1Score: 0.9771 | MulticlassMatthewsCorrCoef: 0.9745 | LossTracker: 1.4868 | : 100%|██████████| 938/938 [00:03<00:00, 254.46it/s]\n",
      "\u001B[33mValid Epoch: 91, Step:     156 | MulticlassAccuracy: 0.9671 | MulticlassF1Score: 0.9671 | MulticlassMatthewsCorrCoef: 0.9634 | LossTracker: 1.4958 | : 100%|██████████| 157/157 [00:00<00:00, 260.13it/s]\n",
      "\u001B[32mTrain Epoch: 92, Step:     937 | MulticlassAccuracy: 0.9772 | MulticlassF1Score: 0.9772 | MulticlassMatthewsCorrCoef: 0.9747 | LossTracker: 1.4866 | : 100%|██████████| 938/938 [00:03<00:00, 239.65it/s]\n",
      "\u001B[33mValid Epoch: 92, Step:     156 | MulticlassAccuracy: 0.9672 | MulticlassF1Score: 0.9672 | MulticlassMatthewsCorrCoef: 0.9636 | LossTracker: 1.4957 | : 100%|██████████| 157/157 [00:00<00:00, 254.55it/s]\n",
      "\u001B[32mTrain Epoch: 93, Step:     937 | MulticlassAccuracy: 0.9774 | MulticlassF1Score: 0.9774 | MulticlassMatthewsCorrCoef: 0.9749 | LossTracker: 1.4864 | : 100%|██████████| 938/938 [00:03<00:00, 255.52it/s]\n",
      "\u001B[33mValid Epoch: 93, Step:     156 | MulticlassAccuracy: 0.9673 | MulticlassF1Score: 0.9673 | MulticlassMatthewsCorrCoef: 0.9637 | LossTracker: 1.4955 | : 100%|██████████| 157/157 [00:00<00:00, 267.17it/s]\n",
      "\u001B[32mTrain Epoch: 94, Step:     937 | MulticlassAccuracy: 0.9776 | MulticlassF1Score: 0.9776 | MulticlassMatthewsCorrCoef: 0.9751 | LossTracker: 1.4862 | : 100%|██████████| 938/938 [00:03<00:00, 246.55it/s]\n",
      "\u001B[33mValid Epoch: 94, Step:     156 | MulticlassAccuracy: 0.9674 | MulticlassF1Score: 0.9674 | MulticlassMatthewsCorrCoef: 0.9638 | LossTracker: 1.4954 | : 100%|██████████| 157/157 [00:00<00:00, 263.21it/s]\n",
      "\u001B[32mTrain Epoch: 95, Step:     937 | MulticlassAccuracy: 0.9777 | MulticlassF1Score: 0.9777 | MulticlassMatthewsCorrCoef: 0.9752 | LossTracker: 1.4861 | : 100%|██████████| 938/938 [00:03<00:00, 248.34it/s]\n",
      "\u001B[33mValid Epoch: 95, Step:     156 | MulticlassAccuracy: 0.9675 | MulticlassF1Score: 0.9675 | MulticlassMatthewsCorrCoef: 0.9639 | LossTracker: 1.4953 | : 100%|██████████| 157/157 [00:00<00:00, 240.06it/s]\n",
      "\u001B[32mTrain Epoch: 96, Step:     937 | MulticlassAccuracy: 0.9779 | MulticlassF1Score: 0.9779 | MulticlassMatthewsCorrCoef: 0.9754 | LossTracker: 1.4860 | : 100%|██████████| 938/938 [00:03<00:00, 250.78it/s]\n",
      "\u001B[33mValid Epoch: 96, Step:     156 | MulticlassAccuracy: 0.9676 | MulticlassF1Score: 0.9676 | MulticlassMatthewsCorrCoef: 0.9640 | LossTracker: 1.4952 | : 100%|██████████| 157/157 [00:00<00:00, 259.94it/s]\n",
      "\u001B[32mTrain Epoch: 97, Step:     937 | MulticlassAccuracy: 0.9780 | MulticlassF1Score: 0.9780 | MulticlassMatthewsCorrCoef: 0.9756 | LossTracker: 1.4859 | : 100%|██████████| 938/938 [00:04<00:00, 230.77it/s]\n",
      "\u001B[33mValid Epoch: 97, Step:     156 | MulticlassAccuracy: 0.9677 | MulticlassF1Score: 0.9677 | MulticlassMatthewsCorrCoef: 0.9641 | LossTracker: 1.4951 | : 100%|██████████| 157/157 [00:00<00:00, 250.84it/s]\n",
      "\u001B[32mTrain Epoch: 98, Step:     937 | MulticlassAccuracy: 0.9782 | MulticlassF1Score: 0.9782 | MulticlassMatthewsCorrCoef: 0.9758 | LossTracker: 1.4857 | : 100%|██████████| 938/938 [00:03<00:00, 237.95it/s]\n",
      "\u001B[33mValid Epoch: 98, Step:     156 | MulticlassAccuracy: 0.9678 | MulticlassF1Score: 0.9678 | MulticlassMatthewsCorrCoef: 0.9642 | LossTracker: 1.4950 | : 100%|██████████| 157/157 [00:00<00:00, 254.37it/s]\n",
      "\u001B[32mTrain Epoch: 99, Step:     937 | MulticlassAccuracy: 0.9783 | MulticlassF1Score: 0.9783 | MulticlassMatthewsCorrCoef: 0.9759 | LossTracker: 1.4856 | : 100%|██████████| 938/938 [00:03<00:00, 243.43it/s]\n",
      "\u001B[33mValid Epoch: 99, Step:     156 | MulticlassAccuracy: 0.9679 | MulticlassF1Score: 0.9679 | MulticlassMatthewsCorrCoef: 0.9644 | LossTracker: 1.4949 | : 100%|██████████| 157/157 [00:00<00:00, 261.19it/s]\n"
     ]
    }
   ],
   "execution_count": 11
  },
  {
   "metadata": {
    "ExecuteTime": {
     "end_time": "2024-05-29T18:38:16.170589Z",
     "start_time": "2024-05-29T18:38:16.166728Z"
    }
   },
   "cell_type": "code",
   "source": [
    "model = FeedForwardClassifier(\n",
    "    input_dim=28*28,\n",
    "    hidden_dims=[64, 32],\n",
    "    num_classes=10,\n",
    ")"
   ],
   "id": "b160c1e9afc968e1",
   "outputs": [],
   "execution_count": 3
  },
  {
   "metadata": {},
   "cell_type": "code",
   "source": [
    "train_dataset, valid_dataset = get_mnist_dataset()\n",
    "train_model_classifier(model, train_dataset, valid_dataset, num_epochs=100, num_workers=2)"
   ],
   "id": "b2ee18962d07a1b0",
   "outputs": [
    {
     "name": "stderr",
     "output_type": "stream",
     "text": [
      "\u001B[32mTrain Epoch: 5, Step:     937 | MulticlassAccuracy: 0.7940 | MulticlassF1Score: 0.7940 | MulticlassMatthewsCorrCoef: 0.7739 | LossTracker: 1.6991 | : 100%|██████████| 938/938 [00:03<00:00, 241.96it/s]\n",
      "\u001B[33mValid Epoch: 5, Step:     156 | MulticlassAccuracy: 0.8469 | MulticlassF1Score: 0.8469 | MulticlassMatthewsCorrCoef: 0.8319 | LossTracker: 1.6401 | : 100%|██████████| 157/157 [00:00<00:00, 242.82it/s]\n",
      "\u001B[32mTrain Epoch: 6, Step:     937 | MulticlassAccuracy: 0.8119 | MulticlassF1Score: 0.8119 | MulticlassMatthewsCorrCoef: 0.7930 | LossTracker: 1.6788 | : 100%|██████████| 938/938 [00:03<00:00, 240.97it/s]\n",
      "\u001B[33mValid Epoch: 6, Step:     156 | MulticlassAccuracy: 0.8577 | MulticlassF1Score: 0.8577 | MulticlassMatthewsCorrCoef: 0.8433 | LossTracker: 1.6275 | : 100%|██████████| 157/157 [00:00<00:00, 229.33it/s]\n",
      "\u001B[32mTrain Epoch: 7, Step:     937 | MulticlassAccuracy: 0.8256 | MulticlassF1Score: 0.8256 | MulticlassMatthewsCorrCoef: 0.8078 | LossTracker: 1.6629 | : 100%|██████████| 938/938 [00:03<00:00, 239.18it/s]\n",
      "\u001B[33mValid Epoch: 7, Step:     156 | MulticlassAccuracy: 0.8659 | MulticlassF1Score: 0.8659 | MulticlassMatthewsCorrCoef: 0.8521 | LossTracker: 1.6175 | : 100%|██████████| 157/157 [00:00<00:00, 237.09it/s]\n",
      "\u001B[32mTrain Epoch: 8, Step:     937 | MulticlassAccuracy: 0.8366 | MulticlassF1Score: 0.8366 | MulticlassMatthewsCorrCoef: 0.8198 | LossTracker: 1.6500 | : 100%|██████████| 938/938 [00:03<00:00, 247.20it/s]\n",
      "\u001B[33mValid Epoch: 8, Step:     156 | MulticlassAccuracy: 0.8727 | MulticlassF1Score: 0.8727 | MulticlassMatthewsCorrCoef: 0.8594 | LossTracker: 1.6093 | : 100%|██████████| 157/157 [00:00<00:00, 229.80it/s]\n",
      "\u001B[32mTrain Epoch: 9, Step:     937 | MulticlassAccuracy: 0.8458 | MulticlassF1Score: 0.8458 | MulticlassMatthewsCorrCoef: 0.8297 | LossTracker: 1.6394 | : 100%|██████████| 938/938 [00:03<00:00, 238.32it/s]\n",
      "\u001B[33mValid Epoch: 9, Step:     156 | MulticlassAccuracy: 0.8784 | MulticlassF1Score: 0.8784 | MulticlassMatthewsCorrCoef: 0.8655 | LossTracker: 1.6024 | : 100%|██████████| 157/157 [00:00<00:00, 231.24it/s]\n",
      "\u001B[32mTrain Epoch: 10, Step:     937 | MulticlassAccuracy: 0.8534 | MulticlassF1Score: 0.8534 | MulticlassMatthewsCorrCoef: 0.8380 | LossTracker: 1.6304 | : 100%|██████████| 938/938 [00:03<00:00, 248.86it/s]\n",
      "\u001B[33mValid Epoch: 10, Step:     156 | MulticlassAccuracy: 0.8832 | MulticlassF1Score: 0.8832 | MulticlassMatthewsCorrCoef: 0.8708 | LossTracker: 1.5966 | : 100%|██████████| 157/157 [00:00<00:00, 239.26it/s]\n",
      "\u001B[32mTrain Epoch: 11, Step:     937 | MulticlassAccuracy: 0.8600 | MulticlassF1Score: 0.8600 | MulticlassMatthewsCorrCoef: 0.8451 | LossTracker: 1.6226 | : 100%|██████████| 938/938 [00:03<00:00, 253.39it/s]\n",
      "\u001B[33mValid Epoch: 11, Step:     156 | MulticlassAccuracy: 0.8873 | MulticlassF1Score: 0.8873 | MulticlassMatthewsCorrCoef: 0.8752 | LossTracker: 1.5916 | : 100%|██████████| 157/157 [00:00<00:00, 231.47it/s]\n",
      "\u001B[32mTrain Epoch: 12, Step:     937 | MulticlassAccuracy: 0.8656 | MulticlassF1Score: 0.8656 | MulticlassMatthewsCorrCoef: 0.8513 | LossTracker: 1.6159 | : 100%|██████████| 938/938 [00:03<00:00, 256.06it/s]\n",
      "\u001B[33mValid Epoch: 12, Step:     156 | MulticlassAccuracy: 0.8909 | MulticlassF1Score: 0.8909 | MulticlassMatthewsCorrCoef: 0.8791 | LossTracker: 1.5872 | : 100%|██████████| 157/157 [00:00<00:00, 249.94it/s]\n",
      "\u001B[32mTrain Epoch: 13, Step:     937 | MulticlassAccuracy: 0.8706 | MulticlassF1Score: 0.8706 | MulticlassMatthewsCorrCoef: 0.8568 | LossTracker: 1.6100 | : 100%|██████████| 938/938 [00:03<00:00, 253.41it/s]\n",
      "\u001B[33mValid Epoch: 13, Step:     156 | MulticlassAccuracy: 0.8940 | MulticlassF1Score: 0.8940 | MulticlassMatthewsCorrCoef: 0.8825 | LossTracker: 1.5834 | : 100%|██████████| 157/157 [00:00<00:00, 242.10it/s]\n",
      "\u001B[32mTrain Epoch: 14, Step:     937 | MulticlassAccuracy: 0.8750 | MulticlassF1Score: 0.8750 | MulticlassMatthewsCorrCoef: 0.8616 | LossTracker: 1.6048 | : 100%|██████████| 938/938 [00:03<00:00, 247.64it/s]\n",
      "\u001B[33mValid Epoch: 14, Step:     156 | MulticlassAccuracy: 0.8968 | MulticlassF1Score: 0.8968 | MulticlassMatthewsCorrCoef: 0.8856 | LossTracker: 1.5799 | : 100%|██████████| 157/157 [00:00<00:00, 247.13it/s]\n",
      "\u001B[32mTrain Epoch: 15, Step:     937 | MulticlassAccuracy: 0.8790 | MulticlassF1Score: 0.8790 | MulticlassMatthewsCorrCoef: 0.8660 | LossTracker: 1.6001 | : 100%|██████████| 938/938 [00:03<00:00, 249.19it/s]\n",
      "\u001B[33mValid Epoch: 15, Step:     156 | MulticlassAccuracy: 0.8993 | MulticlassF1Score: 0.8993 | MulticlassMatthewsCorrCoef: 0.8884 | LossTracker: 1.5767 | : 100%|██████████| 157/157 [00:00<00:00, 245.14it/s]\n",
      "\u001B[32mTrain Epoch: 16, Step:     937 | MulticlassAccuracy: 0.8826 | MulticlassF1Score: 0.8826 | MulticlassMatthewsCorrCoef: 0.8699 | LossTracker: 1.5958 | : 100%|██████████| 938/938 [00:03<00:00, 241.37it/s]\n",
      "\u001B[33mValid Epoch: 16, Step:     156 | MulticlassAccuracy: 0.9016 | MulticlassF1Score: 0.9016 | MulticlassMatthewsCorrCoef: 0.8908 | LossTracker: 1.5739 | : 100%|██████████| 157/157 [00:00<00:00, 240.71it/s]\n",
      "\u001B[32mTrain Epoch: 17, Step:     937 | MulticlassAccuracy: 0.8859 | MulticlassF1Score: 0.8859 | MulticlassMatthewsCorrCoef: 0.8736 | LossTracker: 1.5920 | : 100%|██████████| 938/938 [00:03<00:00, 249.88it/s]\n",
      "\u001B[33mValid Epoch: 17, Step:     156 | MulticlassAccuracy: 0.9036 | MulticlassF1Score: 0.9036 | MulticlassMatthewsCorrCoef: 0.8931 | LossTracker: 1.5714 | : 100%|██████████| 157/157 [00:00<00:00, 236.44it/s]\n",
      "\u001B[32mTrain Epoch: 18, Step:     937 | MulticlassAccuracy: 0.8889 | MulticlassF1Score: 0.8889 | MulticlassMatthewsCorrCoef: 0.8769 | LossTracker: 1.5884 | : 100%|██████████| 938/938 [00:03<00:00, 248.88it/s]\n",
      "\u001B[33mValid Epoch: 18, Step:     156 | MulticlassAccuracy: 0.9055 | MulticlassF1Score: 0.9055 | MulticlassMatthewsCorrCoef: 0.8952 | LossTracker: 1.5690 | : 100%|██████████| 157/157 [00:00<00:00, 249.18it/s]\n",
      "\u001B[32mTrain Epoch: 19, Step:     937 | MulticlassAccuracy: 0.8917 | MulticlassF1Score: 0.8917 | MulticlassMatthewsCorrCoef: 0.8799 | LossTracker: 1.5852 | : 100%|██████████| 938/938 [00:03<00:00, 252.96it/s]\n",
      "\u001B[33mValid Epoch: 19, Step:     156 | MulticlassAccuracy: 0.9072 | MulticlassF1Score: 0.9072 | MulticlassMatthewsCorrCoef: 0.8971 | LossTracker: 1.5669 | : 100%|██████████| 157/157 [00:00<00:00, 246.68it/s]\n",
      "\u001B[32mTrain Epoch: 20, Step:     937 | MulticlassAccuracy: 0.8943 | MulticlassF1Score: 0.8943 | MulticlassMatthewsCorrCoef: 0.8827 | LossTracker: 1.5822 | : 100%|██████████| 938/938 [00:03<00:00, 250.45it/s]\n",
      "\u001B[33mValid Epoch: 20, Step:     156 | MulticlassAccuracy: 0.9088 | MulticlassF1Score: 0.9088 | MulticlassMatthewsCorrCoef: 0.8987 | LossTracker: 1.5649 | : 100%|██████████| 157/157 [00:00<00:00, 245.41it/s]\n",
      "\u001B[32mTrain Epoch: 21, Step:     937 | MulticlassAccuracy: 0.8966 | MulticlassF1Score: 0.8966 | MulticlassMatthewsCorrCoef: 0.8853 | LossTracker: 1.5794 | : 100%|██████████| 938/938 [00:03<00:00, 248.80it/s]\n",
      "\u001B[33mValid Epoch: 21, Step:     156 | MulticlassAccuracy: 0.9102 | MulticlassF1Score: 0.9102 | MulticlassMatthewsCorrCoef: 0.9003 | LossTracker: 1.5631 | : 100%|██████████| 157/157 [00:00<00:00, 242.61it/s]\n",
      "\u001B[32mTrain Epoch: 22, Step:     937 | MulticlassAccuracy: 0.8988 | MulticlassF1Score: 0.8988 | MulticlassMatthewsCorrCoef: 0.8878 | LossTracker: 1.5768 | : 100%|██████████| 938/938 [00:03<00:00, 246.68it/s]\n",
      "\u001B[33mValid Epoch: 22, Step:     156 | MulticlassAccuracy: 0.9117 | MulticlassF1Score: 0.9117 | MulticlassMatthewsCorrCoef: 0.9019 | LossTracker: 1.5613 | : 100%|██████████| 157/157 [00:00<00:00, 236.62it/s]\n",
      "\u001B[32mTrain Epoch: 23, Step:     937 | MulticlassAccuracy: 0.9009 | MulticlassF1Score: 0.9009 | MulticlassMatthewsCorrCoef: 0.8901 | LossTracker: 1.5744 | : 100%|██████████| 938/938 [00:03<00:00, 244.99it/s]\n",
      "\u001B[33mValid Epoch: 23, Step:     156 | MulticlassAccuracy: 0.9129 | MulticlassF1Score: 0.9129 | MulticlassMatthewsCorrCoef: 0.9033 | LossTracker: 1.5597 | : 100%|██████████| 157/157 [00:00<00:00, 233.46it/s]\n",
      "\u001B[32mTrain Epoch: 24, Step:     937 | MulticlassAccuracy: 0.9028 | MulticlassF1Score: 0.9028 | MulticlassMatthewsCorrCoef: 0.8922 | LossTracker: 1.5721 | : 100%|██████████| 938/938 [00:03<00:00, 252.43it/s]\n",
      "\u001B[33mValid Epoch: 24, Step:     156 | MulticlassAccuracy: 0.9141 | MulticlassF1Score: 0.9141 | MulticlassMatthewsCorrCoef: 0.9047 | LossTracker: 1.5582 | : 100%|██████████| 157/157 [00:00<00:00, 244.63it/s]\n",
      "\u001B[32mTrain Epoch: 25, Step:     937 | MulticlassAccuracy: 0.9047 | MulticlassF1Score: 0.9047 | MulticlassMatthewsCorrCoef: 0.8942 | LossTracker: 1.5700 | : 100%|██████████| 938/938 [00:03<00:00, 250.47it/s]\n",
      "\u001B[33mValid Epoch: 25, Step:     156 | MulticlassAccuracy: 0.9152 | MulticlassF1Score: 0.9152 | MulticlassMatthewsCorrCoef: 0.9059 | LossTracker: 1.5568 | : 100%|██████████| 157/157 [00:00<00:00, 242.18it/s]\n",
      "\u001B[32mTrain Epoch: 26, Step:     937 | MulticlassAccuracy: 0.9064 | MulticlassF1Score: 0.9064 | MulticlassMatthewsCorrCoef: 0.8961 | LossTracker: 1.5680 | : 100%|██████████| 938/938 [00:03<00:00, 248.69it/s]\n",
      "\u001B[33mValid Epoch: 26, Step:     156 | MulticlassAccuracy: 0.9163 | MulticlassF1Score: 0.9163 | MulticlassMatthewsCorrCoef: 0.9070 | LossTracker: 1.5555 | : 100%|██████████| 157/157 [00:00<00:00, 242.86it/s]\n",
      "\u001B[32mTrain Epoch: 27, Step:     937 | MulticlassAccuracy: 0.9080 | MulticlassF1Score: 0.9080 | MulticlassMatthewsCorrCoef: 0.8979 | LossTracker: 1.5661 | : 100%|██████████| 938/938 [00:03<00:00, 249.79it/s]\n",
      "\u001B[33mValid Epoch: 27, Step:     156 | MulticlassAccuracy: 0.9173 | MulticlassF1Score: 0.9173 | MulticlassMatthewsCorrCoef: 0.9082 | LossTracker: 1.5542 | : 100%|██████████| 157/157 [00:00<00:00, 257.37it/s]\n",
      "\u001B[32mTrain Epoch: 28, Step:     937 | MulticlassAccuracy: 0.9096 | MulticlassF1Score: 0.9096 | MulticlassMatthewsCorrCoef: 0.8996 | LossTracker: 1.5643 | : 100%|██████████| 938/938 [00:03<00:00, 240.01it/s]\n",
      "\u001B[33mValid Epoch: 28, Step:     156 | MulticlassAccuracy: 0.9182 | MulticlassF1Score: 0.9182 | MulticlassMatthewsCorrCoef: 0.9092 | LossTracker: 1.5530 | : 100%|██████████| 157/157 [00:00<00:00, 248.08it/s]\n",
      "\u001B[32mTrain Epoch: 29, Step:     937 | MulticlassAccuracy: 0.9110 | MulticlassF1Score: 0.9110 | MulticlassMatthewsCorrCoef: 0.9013 | LossTracker: 1.5626 | : 100%|██████████| 938/938 [00:03<00:00, 252.22it/s]\n",
      "\u001B[33mValid Epoch: 29, Step:     156 | MulticlassAccuracy: 0.9191 | MulticlassF1Score: 0.9191 | MulticlassMatthewsCorrCoef: 0.9102 | LossTracker: 1.5518 | : 100%|██████████| 157/157 [00:00<00:00, 245.02it/s]\n",
      "\u001B[32mTrain Epoch: 30, Step:     937 | MulticlassAccuracy: 0.9125 | MulticlassF1Score: 0.9125 | MulticlassMatthewsCorrCoef: 0.9028 | LossTracker: 1.5609 | : 100%|██████████| 938/938 [00:03<00:00, 251.07it/s]\n",
      "\u001B[33mValid Epoch: 30, Step:     156 | MulticlassAccuracy: 0.9200 | MulticlassF1Score: 0.9200 | MulticlassMatthewsCorrCoef: 0.9111 | LossTracker: 1.5508 | : 100%|██████████| 157/157 [00:00<00:00, 239.82it/s]\n",
      "\u001B[32mTrain Epoch: 31, Step:     937 | MulticlassAccuracy: 0.9138 | MulticlassF1Score: 0.9138 | MulticlassMatthewsCorrCoef: 0.9043 | LossTracker: 1.5594 | : 100%|██████████| 938/938 [00:03<00:00, 248.43it/s]\n",
      "\u001B[33mValid Epoch: 31, Step:     156 | MulticlassAccuracy: 0.9209 | MulticlassF1Score: 0.9209 | MulticlassMatthewsCorrCoef: 0.9121 | LossTracker: 1.5497 | : 100%|██████████| 157/157 [00:00<00:00, 253.82it/s]\n",
      "\u001B[32mTrain Epoch: 32, Step:     937 | MulticlassAccuracy: 0.9151 | MulticlassF1Score: 0.9151 | MulticlassMatthewsCorrCoef: 0.9057 | LossTracker: 1.5579 | : 100%|██████████| 938/938 [00:03<00:00, 244.23it/s]\n",
      "\u001B[33mValid Epoch: 32, Step:     156 | MulticlassAccuracy: 0.9216 | MulticlassF1Score: 0.9216 | MulticlassMatthewsCorrCoef: 0.9130 | LossTracker: 1.5487 | : 100%|██████████| 157/157 [00:00<00:00, 238.32it/s]\n",
      "\u001B[32mTrain Epoch: 33, Step:     937 | MulticlassAccuracy: 0.9163 | MulticlassF1Score: 0.9163 | MulticlassMatthewsCorrCoef: 0.9070 | LossTracker: 1.5565 | : 100%|██████████| 938/938 [00:03<00:00, 252.78it/s]\n",
      "\u001B[33mValid Epoch: 33, Step:     156 | MulticlassAccuracy: 0.9224 | MulticlassF1Score: 0.9224 | MulticlassMatthewsCorrCoef: 0.9138 | LossTracker: 1.5478 | : 100%|██████████| 157/157 [00:00<00:00, 247.03it/s]\n",
      "\u001B[32mTrain Epoch: 34, Step:     937 | MulticlassAccuracy: 0.9175 | MulticlassF1Score: 0.9175 | MulticlassMatthewsCorrCoef: 0.9083 | LossTracker: 1.5551 | : 100%|██████████| 938/938 [00:03<00:00, 248.04it/s]\n",
      "\u001B[33mValid Epoch: 34, Step:     156 | MulticlassAccuracy: 0.9232 | MulticlassF1Score: 0.9232 | MulticlassMatthewsCorrCoef: 0.9146 | LossTracker: 1.5469 | : 100%|██████████| 157/157 [00:00<00:00, 247.67it/s]\n",
      "\u001B[32mTrain Epoch: 35, Step:     937 | MulticlassAccuracy: 0.9186 | MulticlassF1Score: 0.9186 | MulticlassMatthewsCorrCoef: 0.9096 | LossTracker: 1.5538 | : 100%|██████████| 938/938 [00:03<00:00, 249.35it/s]\n",
      "\u001B[33mValid Epoch: 35, Step:     156 | MulticlassAccuracy: 0.9239 | MulticlassF1Score: 0.9239 | MulticlassMatthewsCorrCoef: 0.9155 | LossTracker: 1.5460 | : 100%|██████████| 157/157 [00:00<00:00, 245.67it/s]\n",
      "\u001B[32mTrain Epoch: 36, Step:     937 | MulticlassAccuracy: 0.9197 | MulticlassF1Score: 0.9197 | MulticlassMatthewsCorrCoef: 0.9108 | LossTracker: 1.5526 | : 100%|██████████| 938/938 [00:03<00:00, 248.01it/s]\n",
      "\u001B[33mValid Epoch: 36, Step:     156 | MulticlassAccuracy: 0.9246 | MulticlassF1Score: 0.9246 | MulticlassMatthewsCorrCoef: 0.9162 | LossTracker: 1.5451 | : 100%|██████████| 157/157 [00:00<00:00, 234.98it/s]\n",
      "\u001B[32mTrain Epoch: 37, Step:     937 | MulticlassAccuracy: 0.9207 | MulticlassF1Score: 0.9207 | MulticlassMatthewsCorrCoef: 0.9119 | LossTracker: 1.5514 | : 100%|██████████| 938/938 [00:03<00:00, 251.62it/s]\n",
      "\u001B[33mValid Epoch: 37, Step:     156 | MulticlassAccuracy: 0.9252 | MulticlassF1Score: 0.9252 | MulticlassMatthewsCorrCoef: 0.9170 | LossTracker: 1.5443 | : 100%|██████████| 157/157 [00:00<00:00, 231.15it/s]\n",
      "\u001B[32mTrain Epoch: 38, Step:     937 | MulticlassAccuracy: 0.9217 | MulticlassF1Score: 0.9217 | MulticlassMatthewsCorrCoef: 0.9130 | LossTracker: 1.5502 | : 100%|██████████| 938/938 [00:03<00:00, 246.70it/s]\n",
      "\u001B[33mValid Epoch: 38, Step:     156 | MulticlassAccuracy: 0.9259 | MulticlassF1Score: 0.9259 | MulticlassMatthewsCorrCoef: 0.9177 | LossTracker: 1.5435 | : 100%|██████████| 157/157 [00:00<00:00, 238.18it/s]\n",
      "\u001B[32mTrain Epoch: 39, Step:     937 | MulticlassAccuracy: 0.9226 | MulticlassF1Score: 0.9226 | MulticlassMatthewsCorrCoef: 0.9141 | LossTracker: 1.5491 | : 100%|██████████| 938/938 [00:03<00:00, 250.17it/s]\n",
      "\u001B[33mValid Epoch: 39, Step:     156 | MulticlassAccuracy: 0.9265 | MulticlassF1Score: 0.9265 | MulticlassMatthewsCorrCoef: 0.9183 | LossTracker: 1.5428 | : 100%|██████████| 157/157 [00:00<00:00, 247.36it/s]\n",
      "\u001B[32mTrain Epoch: 40, Step:     937 | MulticlassAccuracy: 0.9236 | MulticlassF1Score: 0.9236 | MulticlassMatthewsCorrCoef: 0.9151 | LossTracker: 1.5481 | : 100%|██████████| 938/938 [00:03<00:00, 251.04it/s]\n",
      "\u001B[33mValid Epoch: 40, Step:     156 | MulticlassAccuracy: 0.9271 | MulticlassF1Score: 0.9271 | MulticlassMatthewsCorrCoef: 0.9190 | LossTracker: 1.5421 | : 100%|██████████| 157/157 [00:00<00:00, 241.01it/s]\n",
      "\u001B[32mTrain Epoch: 41, Step:     937 | MulticlassAccuracy: 0.9245 | MulticlassF1Score: 0.9245 | MulticlassMatthewsCorrCoef: 0.9161 | LossTracker: 1.5470 | : 100%|██████████| 938/938 [00:03<00:00, 246.67it/s]\n",
      "\u001B[33mValid Epoch: 41, Step:     156 | MulticlassAccuracy: 0.9276 | MulticlassF1Score: 0.9276 | MulticlassMatthewsCorrCoef: 0.9196 | LossTracker: 1.5414 | : 100%|██████████| 157/157 [00:00<00:00, 246.01it/s]\n",
      "\u001B[32mTrain Epoch: 42, Step:     937 | MulticlassAccuracy: 0.9253 | MulticlassF1Score: 0.9253 | MulticlassMatthewsCorrCoef: 0.9171 | LossTracker: 1.5460 | : 100%|██████████| 938/938 [00:03<00:00, 247.91it/s]\n",
      "\u001B[33mValid Epoch: 42, Step:     156 | MulticlassAccuracy: 0.9282 | MulticlassF1Score: 0.9282 | MulticlassMatthewsCorrCoef: 0.9202 | LossTracker: 1.5407 | : 100%|██████████| 157/157 [00:00<00:00, 242.20it/s]\n",
      "\u001B[32mTrain Epoch: 43, Step:     937 | MulticlassAccuracy: 0.9262 | MulticlassF1Score: 0.9262 | MulticlassMatthewsCorrCoef: 0.9180 | LossTracker: 1.5451 | : 100%|██████████| 938/938 [00:03<00:00, 250.77it/s]\n",
      "\u001B[33mValid Epoch: 43, Step:     156 | MulticlassAccuracy: 0.9287 | MulticlassF1Score: 0.9287 | MulticlassMatthewsCorrCoef: 0.9208 | LossTracker: 1.5400 | : 100%|██████████| 157/157 [00:00<00:00, 247.85it/s]\n",
      "\u001B[32mTrain Epoch: 44, Step:     937 | MulticlassAccuracy: 0.9270 | MulticlassF1Score: 0.9270 | MulticlassMatthewsCorrCoef: 0.9189 | LossTracker: 1.5441 | : 100%|██████████| 938/938 [00:03<00:00, 245.07it/s]\n",
      "\u001B[33mValid Epoch: 44, Step:     156 | MulticlassAccuracy: 0.9293 | MulticlassF1Score: 0.9293 | MulticlassMatthewsCorrCoef: 0.9214 | LossTracker: 1.5394 | : 100%|██████████| 157/157 [00:00<00:00, 245.37it/s]\n",
      "\u001B[32mTrain Epoch: 45, Step:     937 | MulticlassAccuracy: 0.9278 | MulticlassF1Score: 0.9278 | MulticlassMatthewsCorrCoef: 0.9198 | LossTracker: 1.5432 | : 100%|██████████| 938/938 [00:03<00:00, 248.92it/s]\n",
      "\u001B[33mValid Epoch: 45, Step:     156 | MulticlassAccuracy: 0.9298 | MulticlassF1Score: 0.9298 | MulticlassMatthewsCorrCoef: 0.9220 | LossTracker: 1.5388 | : 100%|██████████| 157/157 [00:00<00:00, 242.89it/s]\n",
      "\u001B[32mTrain Epoch: 46, Step:     937 | MulticlassAccuracy: 0.9285 | MulticlassF1Score: 0.9285 | MulticlassMatthewsCorrCoef: 0.9206 | LossTracker: 1.5423 | : 100%|██████████| 938/938 [00:03<00:00, 248.27it/s]\n",
      "\u001B[33mValid Epoch: 46, Step:     156 | MulticlassAccuracy: 0.9303 | MulticlassF1Score: 0.9303 | MulticlassMatthewsCorrCoef: 0.9225 | LossTracker: 1.5382 | : 100%|██████████| 157/157 [00:00<00:00, 224.04it/s]\n",
      "\u001B[32mTrain Epoch: 47, Step:     937 | MulticlassAccuracy: 0.9293 | MulticlassF1Score: 0.9293 | MulticlassMatthewsCorrCoef: 0.9215 | LossTracker: 1.5415 | : 100%|██████████| 938/938 [00:03<00:00, 252.90it/s]\n",
      "\u001B[33mValid Epoch: 47, Step:     156 | MulticlassAccuracy: 0.9307 | MulticlassF1Score: 0.9307 | MulticlassMatthewsCorrCoef: 0.9230 | LossTracker: 1.5376 | : 100%|██████████| 157/157 [00:00<00:00, 239.70it/s]\n",
      "\u001B[32mTrain Epoch: 48, Step:     937 | MulticlassAccuracy: 0.9300 | MulticlassF1Score: 0.9300 | MulticlassMatthewsCorrCoef: 0.9223 | LossTracker: 1.5407 | : 100%|██████████| 938/938 [00:03<00:00, 244.24it/s]\n",
      "\u001B[33mValid Epoch: 48, Step:     156 | MulticlassAccuracy: 0.9312 | MulticlassF1Score: 0.9312 | MulticlassMatthewsCorrCoef: 0.9236 | LossTracker: 1.5370 | : 100%|██████████| 157/157 [00:00<00:00, 242.65it/s]\n",
      "\u001B[32mTrain Epoch: 49, Step:     937 | MulticlassAccuracy: 0.9307 | MulticlassF1Score: 0.9307 | MulticlassMatthewsCorrCoef: 0.9230 | LossTracker: 1.5399 | : 100%|██████████| 938/938 [00:03<00:00, 248.14it/s]\n",
      "\u001B[33mValid Epoch: 49, Step:     156 | MulticlassAccuracy: 0.9317 | MulticlassF1Score: 0.9317 | MulticlassMatthewsCorrCoef: 0.9241 | LossTracker: 1.5365 | : 100%|██████████| 157/157 [00:00<00:00, 234.64it/s]\n",
      "\u001B[32mTrain Epoch: 50, Step:     937 | MulticlassAccuracy: 0.9314 | MulticlassF1Score: 0.9314 | MulticlassMatthewsCorrCoef: 0.9238 | LossTracker: 1.5391 | : 100%|██████████| 938/938 [00:03<00:00, 245.51it/s]\n",
      "\u001B[33mValid Epoch: 50, Step:     156 | MulticlassAccuracy: 0.9321 | MulticlassF1Score: 0.9321 | MulticlassMatthewsCorrCoef: 0.9245 | LossTracker: 1.5360 | : 100%|██████████| 157/157 [00:00<00:00, 239.73it/s]\n",
      "\u001B[32mTrain Epoch: 51, Step:     937 | MulticlassAccuracy: 0.9320 | MulticlassF1Score: 0.9320 | MulticlassMatthewsCorrCoef: 0.9245 | LossTracker: 1.5383 | : 100%|██████████| 938/938 [00:03<00:00, 248.67it/s]\n",
      "\u001B[33mValid Epoch: 51, Step:     156 | MulticlassAccuracy: 0.9325 | MulticlassF1Score: 0.9325 | MulticlassMatthewsCorrCoef: 0.9250 | LossTracker: 1.5354 | : 100%|██████████| 157/157 [00:00<00:00, 247.40it/s]\n",
      "\u001B[32mTrain Epoch: 52, Step:     937 | MulticlassAccuracy: 0.9327 | MulticlassF1Score: 0.9327 | MulticlassMatthewsCorrCoef: 0.9252 | LossTracker: 1.5376 | : 100%|██████████| 938/938 [00:03<00:00, 253.01it/s]\n",
      "\u001B[33mValid Epoch: 52, Step:     156 | MulticlassAccuracy: 0.9329 | MulticlassF1Score: 0.9329 | MulticlassMatthewsCorrCoef: 0.9255 | LossTracker: 1.5350 | : 100%|██████████| 157/157 [00:00<00:00, 242.71it/s]\n",
      "\u001B[32mTrain Epoch: 53, Step:     937 | MulticlassAccuracy: 0.9333 | MulticlassF1Score: 0.9333 | MulticlassMatthewsCorrCoef: 0.9259 | LossTracker: 1.5368 | : 100%|██████████| 938/938 [00:03<00:00, 247.51it/s]\n",
      "\u001B[33mValid Epoch: 53, Step:     156 | MulticlassAccuracy: 0.9333 | MulticlassF1Score: 0.9333 | MulticlassMatthewsCorrCoef: 0.9259 | LossTracker: 1.5345 | : 100%|██████████| 157/157 [00:00<00:00, 235.67it/s]\n",
      "\u001B[32mTrain Epoch: 54, Step:     937 | MulticlassAccuracy: 0.9339 | MulticlassF1Score: 0.9339 | MulticlassMatthewsCorrCoef: 0.9266 | LossTracker: 1.5361 | : 100%|██████████| 938/938 [00:03<00:00, 247.19it/s]\n",
      "\u001B[33mValid Epoch: 54, Step:     156 | MulticlassAccuracy: 0.9337 | MulticlassF1Score: 0.9337 | MulticlassMatthewsCorrCoef: 0.9263 | LossTracker: 1.5340 | : 100%|██████████| 157/157 [00:00<00:00, 243.72it/s]\n",
      "\u001B[32mTrain Epoch: 55, Step:     937 | MulticlassAccuracy: 0.9345 | MulticlassF1Score: 0.9345 | MulticlassMatthewsCorrCoef: 0.9273 | LossTracker: 1.5355 | : 100%|██████████| 938/938 [00:03<00:00, 249.60it/s]\n",
      "\u001B[33mValid Epoch: 55, Step:     156 | MulticlassAccuracy: 0.9341 | MulticlassF1Score: 0.9341 | MulticlassMatthewsCorrCoef: 0.9267 | LossTracker: 1.5335 | : 100%|██████████| 157/157 [00:00<00:00, 246.17it/s]\n",
      "\u001B[32mTrain Epoch: 56, Step:     937 | MulticlassAccuracy: 0.9351 | MulticlassF1Score: 0.9351 | MulticlassMatthewsCorrCoef: 0.9279 | LossTracker: 1.5348 | : 100%|██████████| 938/938 [00:03<00:00, 247.65it/s]\n",
      "\u001B[33mValid Epoch: 56, Step:     156 | MulticlassAccuracy: 0.9344 | MulticlassF1Score: 0.9344 | MulticlassMatthewsCorrCoef: 0.9272 | LossTracker: 1.5331 | : 100%|██████████| 157/157 [00:00<00:00, 242.16it/s]\n",
      "\u001B[32mTrain Epoch: 57, Step:     937 | MulticlassAccuracy: 0.9357 | MulticlassF1Score: 0.9357 | MulticlassMatthewsCorrCoef: 0.9285 | LossTracker: 1.5341 | : 100%|██████████| 938/938 [00:03<00:00, 247.25it/s]\n",
      "\u001B[33mValid Epoch: 57, Step:     156 | MulticlassAccuracy: 0.9348 | MulticlassF1Score: 0.9348 | MulticlassMatthewsCorrCoef: 0.9276 | LossTracker: 1.5326 | : 100%|██████████| 157/157 [00:00<00:00, 243.98it/s]\n",
      "\u001B[32mTrain Epoch: 58, Step:     937 | MulticlassAccuracy: 0.9362 | MulticlassF1Score: 0.9362 | MulticlassMatthewsCorrCoef: 0.9291 | LossTracker: 1.5335 | : 100%|██████████| 938/938 [00:03<00:00, 246.28it/s]\n",
      "\u001B[33mValid Epoch: 58, Step:     156 | MulticlassAccuracy: 0.9352 | MulticlassF1Score: 0.9352 | MulticlassMatthewsCorrCoef: 0.9280 | LossTracker: 1.5322 | : 100%|██████████| 157/157 [00:00<00:00, 232.83it/s]\n",
      "\u001B[32mTrain Epoch: 59, Step:     937 | MulticlassAccuracy: 0.9368 | MulticlassF1Score: 0.9368 | MulticlassMatthewsCorrCoef: 0.9297 | LossTracker: 1.5329 | : 100%|██████████| 938/938 [00:03<00:00, 246.80it/s]\n",
      "\u001B[33mValid Epoch: 59, Step:     156 | MulticlassAccuracy: 0.9355 | MulticlassF1Score: 0.9355 | MulticlassMatthewsCorrCoef: 0.9284 | LossTracker: 1.5317 | : 100%|██████████| 157/157 [00:00<00:00, 238.02it/s]\n",
      "\u001B[32mTrain Epoch: 60, Step:     937 | MulticlassAccuracy: 0.9373 | MulticlassF1Score: 0.9373 | MulticlassMatthewsCorrCoef: 0.9303 | LossTracker: 1.5322 | : 100%|██████████| 938/938 [00:03<00:00, 248.23it/s]\n",
      "\u001B[33mValid Epoch: 60, Step:     156 | MulticlassAccuracy: 0.9359 | MulticlassF1Score: 0.9359 | MulticlassMatthewsCorrCoef: 0.9287 | LossTracker: 1.5313 | : 100%|██████████| 157/157 [00:00<00:00, 238.97it/s]\n",
      "\u001B[32mTrain Epoch: 61, Step:     937 | MulticlassAccuracy: 0.9378 | MulticlassF1Score: 0.9378 | MulticlassMatthewsCorrCoef: 0.9309 | LossTracker: 1.5316 | : 100%|██████████| 938/938 [00:03<00:00, 248.21it/s]\n",
      "\u001B[33mValid Epoch: 61, Step:     156 | MulticlassAccuracy: 0.9362 | MulticlassF1Score: 0.9362 | MulticlassMatthewsCorrCoef: 0.9291 | LossTracker: 1.5309 | : 100%|██████████| 157/157 [00:00<00:00, 234.44it/s]\n",
      "\u001B[32mTrain Epoch: 62, Step:     937 | MulticlassAccuracy: 0.9383 | MulticlassF1Score: 0.9383 | MulticlassMatthewsCorrCoef: 0.9315 | LossTracker: 1.5310 | : 100%|██████████| 938/938 [00:03<00:00, 249.34it/s]\n",
      "\u001B[33mValid Epoch: 62, Step:     156 | MulticlassAccuracy: 0.9365 | MulticlassF1Score: 0.9365 | MulticlassMatthewsCorrCoef: 0.9295 | LossTracker: 1.5305 | : 100%|██████████| 157/157 [00:00<00:00, 243.06it/s]\n",
      "\u001B[32mTrain Epoch: 63, Step:     937 | MulticlassAccuracy: 0.9388 | MulticlassF1Score: 0.9388 | MulticlassMatthewsCorrCoef: 0.9320 | LossTracker: 1.5305 | : 100%|██████████| 938/938 [00:03<00:00, 249.31it/s]\n",
      "\u001B[33mValid Epoch: 63, Step:     156 | MulticlassAccuracy: 0.9368 | MulticlassF1Score: 0.9368 | MulticlassMatthewsCorrCoef: 0.9298 | LossTracker: 1.5301 | : 100%|██████████| 157/157 [00:00<00:00, 245.91it/s]\n",
      "\u001B[32mTrain Epoch: 64, Step:     937 | MulticlassAccuracy: 0.9393 | MulticlassF1Score: 0.9393 | MulticlassMatthewsCorrCoef: 0.9326 | LossTracker: 1.5299 | : 100%|██████████| 938/938 [00:03<00:00, 251.66it/s]\n",
      "\u001B[33mValid Epoch: 64, Step:     156 | MulticlassAccuracy: 0.9371 | MulticlassF1Score: 0.9371 | MulticlassMatthewsCorrCoef: 0.9302 | LossTracker: 1.5298 | : 100%|██████████| 157/157 [00:00<00:00, 243.27it/s]\n",
      "\u001B[32mTrain Epoch: 65, Step:     937 | MulticlassAccuracy: 0.9398 | MulticlassF1Score: 0.9398 | MulticlassMatthewsCorrCoef: 0.9331 | LossTracker: 1.5293 | : 100%|██████████| 938/938 [00:03<00:00, 246.70it/s]\n",
      "\u001B[33mValid Epoch: 65, Step:     156 | MulticlassAccuracy: 0.9374 | MulticlassF1Score: 0.9374 | MulticlassMatthewsCorrCoef: 0.9305 | LossTracker: 1.5294 | : 100%|██████████| 157/157 [00:00<00:00, 243.79it/s]\n",
      "\u001B[32mTrain Epoch: 66, Step:     937 | MulticlassAccuracy: 0.9403 | MulticlassF1Score: 0.9403 | MulticlassMatthewsCorrCoef: 0.9337 | LossTracker: 1.5288 | : 100%|██████████| 938/938 [00:03<00:00, 256.47it/s]\n",
      "\u001B[33mValid Epoch: 66, Step:     156 | MulticlassAccuracy: 0.9378 | MulticlassF1Score: 0.9378 | MulticlassMatthewsCorrCoef: 0.9308 | LossTracker: 1.5290 | : 100%|██████████| 157/157 [00:00<00:00, 244.67it/s]\n",
      "\u001B[32mTrain Epoch: 67, Step:     937 | MulticlassAccuracy: 0.9408 | MulticlassF1Score: 0.9408 | MulticlassMatthewsCorrCoef: 0.9342 | LossTracker: 1.5283 | : 100%|██████████| 938/938 [00:03<00:00, 262.14it/s]\n",
      "\u001B[33mValid Epoch: 67, Step:     156 | MulticlassAccuracy: 0.9381 | MulticlassF1Score: 0.9381 | MulticlassMatthewsCorrCoef: 0.9312 | LossTracker: 1.5287 | : 100%|██████████| 157/157 [00:00<00:00, 258.31it/s]\n",
      "\u001B[32mTrain Epoch: 68, Step:     937 | MulticlassAccuracy: 0.9412 | MulticlassF1Score: 0.9412 | MulticlassMatthewsCorrCoef: 0.9347 | LossTracker: 1.5277 | : 100%|██████████| 938/938 [00:03<00:00, 257.54it/s]\n",
      "\u001B[33mValid Epoch: 68, Step:     156 | MulticlassAccuracy: 0.9384 | MulticlassF1Score: 0.9384 | MulticlassMatthewsCorrCoef: 0.9315 | LossTracker: 1.5283 | : 100%|██████████| 157/157 [00:00<00:00, 251.89it/s]\n",
      "\u001B[32mTrain Epoch: 69, Step:     937 | MulticlassAccuracy: 0.9417 | MulticlassF1Score: 0.9417 | MulticlassMatthewsCorrCoef: 0.9352 | LossTracker: 1.5272 | : 100%|██████████| 938/938 [00:03<00:00, 255.04it/s]\n",
      "\u001B[33mValid Epoch: 69, Step:     156 | MulticlassAccuracy: 0.9386 | MulticlassF1Score: 0.9386 | MulticlassMatthewsCorrCoef: 0.9318 | LossTracker: 1.5280 | : 100%|██████████| 157/157 [00:00<00:00, 252.59it/s]\n",
      "\u001B[32mTrain Epoch: 70, Step:     937 | MulticlassAccuracy: 0.9421 | MulticlassF1Score: 0.9421 | MulticlassMatthewsCorrCoef: 0.9357 | LossTracker: 1.5267 | : 100%|██████████| 938/938 [00:03<00:00, 258.13it/s]\n",
      "\u001B[33mValid Epoch: 70, Step:     156 | MulticlassAccuracy: 0.9389 | MulticlassF1Score: 0.9389 | MulticlassMatthewsCorrCoef: 0.9321 | LossTracker: 1.5276 | : 100%|██████████| 157/157 [00:00<00:00, 251.30it/s]\n",
      "\u001B[32mTrain Epoch: 71, Step:     937 | MulticlassAccuracy: 0.9425 | MulticlassF1Score: 0.9425 | MulticlassMatthewsCorrCoef: 0.9362 | LossTracker: 1.5262 | : 100%|██████████| 938/938 [00:03<00:00, 261.58it/s]\n",
      "\u001B[33mValid Epoch: 71, Step:     156 | MulticlassAccuracy: 0.9392 | MulticlassF1Score: 0.9392 | MulticlassMatthewsCorrCoef: 0.9324 | LossTracker: 1.5273 | : 100%|██████████| 157/157 [00:00<00:00, 250.49it/s]\n",
      "\u001B[32mTrain Epoch: 72, Step:     937 | MulticlassAccuracy: 0.9430 | MulticlassF1Score: 0.9430 | MulticlassMatthewsCorrCoef: 0.9366 | LossTracker: 1.5257 | : 100%|██████████| 938/938 [00:03<00:00, 254.13it/s]\n",
      "\u001B[33mValid Epoch: 72, Step:     156 | MulticlassAccuracy: 0.9395 | MulticlassF1Score: 0.9395 | MulticlassMatthewsCorrCoef: 0.9327 | LossTracker: 1.5270 | : 100%|██████████| 157/157 [00:00<00:00, 250.39it/s]\n",
      "\u001B[32mTrain Epoch: 73, Step:     937 | MulticlassAccuracy: 0.9434 | MulticlassF1Score: 0.9434 | MulticlassMatthewsCorrCoef: 0.9371 | LossTracker: 1.5253 | : 100%|██████████| 938/938 [00:03<00:00, 255.78it/s]\n",
      "\u001B[33mValid Epoch: 73, Step:     156 | MulticlassAccuracy: 0.9397 | MulticlassF1Score: 0.9397 | MulticlassMatthewsCorrCoef: 0.9330 | LossTracker: 1.5267 | : 100%|██████████| 157/157 [00:00<00:00, 254.43it/s]\n",
      "\u001B[32mTrain Epoch: 74, Step:     937 | MulticlassAccuracy: 0.9438 | MulticlassF1Score: 0.9438 | MulticlassMatthewsCorrCoef: 0.9376 | LossTracker: 1.5248 | : 100%|██████████| 938/938 [00:03<00:00, 261.29it/s]\n",
      "\u001B[33mValid Epoch: 74, Step:     156 | MulticlassAccuracy: 0.9400 | MulticlassF1Score: 0.9400 | MulticlassMatthewsCorrCoef: 0.9333 | LossTracker: 1.5264 | : 100%|██████████| 157/157 [00:00<00:00, 248.74it/s]\n",
      "\u001B[32mTrain Epoch: 75, Step:     937 | MulticlassAccuracy: 0.9442 | MulticlassF1Score: 0.9442 | MulticlassMatthewsCorrCoef: 0.9380 | LossTracker: 1.5243 | : 100%|██████████| 938/938 [00:03<00:00, 254.42it/s]\n",
      "\u001B[33mValid Epoch: 75, Step:     156 | MulticlassAccuracy: 0.9402 | MulticlassF1Score: 0.9402 | MulticlassMatthewsCorrCoef: 0.9336 | LossTracker: 1.5260 | : 100%|██████████| 157/157 [00:00<00:00, 249.27it/s]\n",
      "\u001B[32mTrain Epoch: 76, Step:     937 | MulticlassAccuracy: 0.9446 | MulticlassF1Score: 0.9446 | MulticlassMatthewsCorrCoef: 0.9384 | LossTracker: 1.5239 | : 100%|██████████| 938/938 [00:03<00:00, 258.67it/s]\n",
      "\u001B[33mValid Epoch: 76, Step:     156 | MulticlassAccuracy: 0.9405 | MulticlassF1Score: 0.9405 | MulticlassMatthewsCorrCoef: 0.9339 | LossTracker: 1.5257 | : 100%|██████████| 157/157 [00:00<00:00, 240.07it/s]\n",
      "\u001B[32mTrain Epoch: 77, Step:     937 | MulticlassAccuracy: 0.9450 | MulticlassF1Score: 0.9450 | MulticlassMatthewsCorrCoef: 0.9389 | LossTracker: 1.5234 | : 100%|██████████| 938/938 [00:03<00:00, 259.35it/s]\n",
      "\u001B[33mValid Epoch: 77, Step:     156 | MulticlassAccuracy: 0.9407 | MulticlassF1Score: 0.9407 | MulticlassMatthewsCorrCoef: 0.9341 | LossTracker: 1.5254 | : 100%|██████████| 157/157 [00:00<00:00, 241.53it/s]\n",
      "\u001B[32mTrain Epoch: 78, Step:     937 | MulticlassAccuracy: 0.9454 | MulticlassF1Score: 0.9454 | MulticlassMatthewsCorrCoef: 0.9393 | LossTracker: 1.5230 | : 100%|██████████| 938/938 [00:03<00:00, 255.49it/s]\n",
      "\u001B[33mValid Epoch: 78, Step:     156 | MulticlassAccuracy: 0.9410 | MulticlassF1Score: 0.9410 | MulticlassMatthewsCorrCoef: 0.9344 | LossTracker: 1.5252 | : 100%|██████████| 157/157 [00:00<00:00, 251.72it/s]\n",
      "\u001B[32mTrain Epoch: 79, Step:     937 | MulticlassAccuracy: 0.9458 | MulticlassF1Score: 0.9458 | MulticlassMatthewsCorrCoef: 0.9397 | LossTracker: 1.5225 | : 100%|██████████| 938/938 [00:03<00:00, 259.09it/s]\n",
      "\u001B[33mValid Epoch: 79, Step:     156 | MulticlassAccuracy: 0.9412 | MulticlassF1Score: 0.9412 | MulticlassMatthewsCorrCoef: 0.9347 | LossTracker: 1.5249 | : 100%|██████████| 157/157 [00:00<00:00, 247.55it/s]\n",
      "\u001B[32mTrain Epoch: 80, Step:     937 | MulticlassAccuracy: 0.9461 | MulticlassF1Score: 0.9461 | MulticlassMatthewsCorrCoef: 0.9401 | LossTracker: 1.5221 | : 100%|██████████| 938/938 [00:03<00:00, 259.21it/s]\n",
      "\u001B[33mValid Epoch: 80, Step:     156 | MulticlassAccuracy: 0.9414 | MulticlassF1Score: 0.9414 | MulticlassMatthewsCorrCoef: 0.9349 | LossTracker: 1.5246 | : 100%|██████████| 157/157 [00:00<00:00, 244.56it/s]\n",
      "\u001B[32mTrain Epoch: 81, Step:     937 | MulticlassAccuracy: 0.9465 | MulticlassF1Score: 0.9465 | MulticlassMatthewsCorrCoef: 0.9406 | LossTracker: 1.5217 | : 100%|██████████| 938/938 [00:03<00:00, 249.83it/s]\n",
      "\u001B[33mValid Epoch: 81, Step:     156 | MulticlassAccuracy: 0.9417 | MulticlassF1Score: 0.9417 | MulticlassMatthewsCorrCoef: 0.9352 | LossTracker: 1.5243 | : 100%|██████████| 157/157 [00:00<00:00, 247.53it/s]\n",
      "\u001B[32mTrain Epoch: 82, Step:     937 | MulticlassAccuracy: 0.9469 | MulticlassF1Score: 0.9469 | MulticlassMatthewsCorrCoef: 0.9410 | LossTracker: 1.5213 | : 100%|██████████| 938/938 [00:03<00:00, 257.03it/s]\n",
      "\u001B[33mValid Epoch: 82, Step:     156 | MulticlassAccuracy: 0.9419 | MulticlassF1Score: 0.9419 | MulticlassMatthewsCorrCoef: 0.9354 | LossTracker: 1.5240 | : 100%|██████████| 157/157 [00:00<00:00, 241.66it/s]\n",
      "\u001B[32mTrain Epoch: 83, Step:     937 | MulticlassAccuracy: 0.9472 | MulticlassF1Score: 0.9472 | MulticlassMatthewsCorrCoef: 0.9413 | LossTracker: 1.5209 | : 100%|██████████| 938/938 [00:03<00:00, 254.10it/s]\n",
      "\u001B[33mValid Epoch: 83, Step:     156 | MulticlassAccuracy: 0.9421 | MulticlassF1Score: 0.9421 | MulticlassMatthewsCorrCoef: 0.9357 | LossTracker: 1.5238 | : 100%|██████████| 157/157 [00:00<00:00, 253.46it/s]\n",
      "\u001B[32mTrain Epoch: 84, Step:     937 | MulticlassAccuracy: 0.9476 | MulticlassF1Score: 0.9476 | MulticlassMatthewsCorrCoef: 0.9417 | LossTracker: 1.5205 | : 100%|██████████| 938/938 [00:03<00:00, 256.78it/s]\n",
      "\u001B[33mValid Epoch: 84, Step:     156 | MulticlassAccuracy: 0.9423 | MulticlassF1Score: 0.9423 | MulticlassMatthewsCorrCoef: 0.9359 | LossTracker: 1.5235 | : 100%|██████████| 157/157 [00:00<00:00, 247.96it/s]\n",
      "\u001B[32mTrain Epoch: 85, Step:     937 | MulticlassAccuracy: 0.9479 | MulticlassF1Score: 0.9479 | MulticlassMatthewsCorrCoef: 0.9421 | LossTracker: 1.5201 | : 100%|██████████| 938/938 [00:03<00:00, 259.68it/s]\n",
      "\u001B[33mValid Epoch: 85, Step:     156 | MulticlassAccuracy: 0.9425 | MulticlassF1Score: 0.9425 | MulticlassMatthewsCorrCoef: 0.9362 | LossTracker: 1.5233 | : 100%|██████████| 157/157 [00:00<00:00, 246.48it/s]\n",
      "\u001B[32mTrain Epoch: 86, Step:     937 | MulticlassAccuracy: 0.9482 | MulticlassF1Score: 0.9482 | MulticlassMatthewsCorrCoef: 0.9425 | LossTracker: 1.5197 | : 100%|██████████| 938/938 [00:03<00:00, 260.48it/s]\n",
      "\u001B[33mValid Epoch: 86, Step:     156 | MulticlassAccuracy: 0.9428 | MulticlassF1Score: 0.9428 | MulticlassMatthewsCorrCoef: 0.9364 | LossTracker: 1.5230 | : 100%|██████████| 157/157 [00:00<00:00, 250.18it/s]\n",
      "\u001B[32mTrain Epoch: 87, Step:     937 | MulticlassAccuracy: 0.9486 | MulticlassF1Score: 0.9486 | MulticlassMatthewsCorrCoef: 0.9429 | LossTracker: 1.5193 | : 100%|██████████| 938/938 [00:03<00:00, 256.01it/s]\n",
      "\u001B[33mValid Epoch: 87, Step:     156 | MulticlassAccuracy: 0.9430 | MulticlassF1Score: 0.9430 | MulticlassMatthewsCorrCoef: 0.9366 | LossTracker: 1.5228 | : 100%|██████████| 157/157 [00:00<00:00, 241.63it/s]\n",
      "\u001B[32mTrain Epoch: 88, Step:     937 | MulticlassAccuracy: 0.9489 | MulticlassF1Score: 0.9489 | MulticlassMatthewsCorrCoef: 0.9432 | LossTracker: 1.5189 | : 100%|██████████| 938/938 [00:03<00:00, 257.75it/s]\n",
      "\u001B[33mValid Epoch: 88, Step:     156 | MulticlassAccuracy: 0.9432 | MulticlassF1Score: 0.9432 | MulticlassMatthewsCorrCoef: 0.9368 | LossTracker: 1.5225 | : 100%|██████████| 157/157 [00:00<00:00, 257.41it/s]\n",
      "\u001B[32mTrain Epoch: 89, Step:     937 | MulticlassAccuracy: 0.9492 | MulticlassF1Score: 0.9492 | MulticlassMatthewsCorrCoef: 0.9436 | LossTracker: 1.5185 | : 100%|██████████| 938/938 [00:03<00:00, 252.96it/s]\n",
      "\u001B[33mValid Epoch: 89, Step:     156 | MulticlassAccuracy: 0.9434 | MulticlassF1Score: 0.9434 | MulticlassMatthewsCorrCoef: 0.9371 | LossTracker: 1.5223 | : 100%|██████████| 157/157 [00:00<00:00, 241.22it/s]\n",
      "\u001B[32mTrain Epoch: 90, Step:     937 | MulticlassAccuracy: 0.9495 | MulticlassF1Score: 0.9495 | MulticlassMatthewsCorrCoef: 0.9439 | LossTracker: 1.5182 | : 100%|██████████| 938/938 [00:03<00:00, 259.00it/s]\n",
      "\u001B[33mValid Epoch: 90, Step:     156 | MulticlassAccuracy: 0.9436 | MulticlassF1Score: 0.9436 | MulticlassMatthewsCorrCoef: 0.9373 | LossTracker: 1.5220 | : 100%|██████████| 157/157 [00:00<00:00, 256.98it/s]\n",
      "\u001B[32mTrain Epoch: 91, Step:     937 | MulticlassAccuracy: 0.9498 | MulticlassF1Score: 0.9498 | MulticlassMatthewsCorrCoef: 0.9443 | LossTracker: 1.5178 | : 100%|██████████| 938/938 [00:03<00:00, 254.32it/s]\n",
      "\u001B[33mValid Epoch: 91, Step:     156 | MulticlassAccuracy: 0.9438 | MulticlassF1Score: 0.9438 | MulticlassMatthewsCorrCoef: 0.9375 | LossTracker: 1.5218 | : 100%|██████████| 157/157 [00:00<00:00, 247.60it/s]\n",
      "\u001B[32mTrain Epoch: 92, Step:     937 | MulticlassAccuracy: 0.9502 | MulticlassF1Score: 0.9502 | MulticlassMatthewsCorrCoef: 0.9446 | LossTracker: 1.5175 | : 100%|██████████| 938/938 [00:03<00:00, 259.99it/s]\n",
      "\u001B[33mValid Epoch: 92, Step:     156 | MulticlassAccuracy: 0.9440 | MulticlassF1Score: 0.9440 | MulticlassMatthewsCorrCoef: 0.9377 | LossTracker: 1.5216 | : 100%|██████████| 157/157 [00:00<00:00, 256.56it/s]\n",
      "\u001B[32mTrain Epoch: 93, Step:     937 | MulticlassAccuracy: 0.9505 | MulticlassF1Score: 0.9505 | MulticlassMatthewsCorrCoef: 0.9450 | LossTracker: 1.5172 | : 100%|██████████| 938/938 [00:03<00:00, 255.09it/s]\n",
      "\u001B[33mValid Epoch: 93, Step:     156 | MulticlassAccuracy: 0.9441 | MulticlassF1Score: 0.9441 | MulticlassMatthewsCorrCoef: 0.9379 | LossTracker: 1.5214 | : 100%|██████████| 157/157 [00:00<00:00, 249.43it/s]\n",
      "\u001B[32mTrain Epoch: 94, Step:     937 | MulticlassAccuracy: 0.9508 | MulticlassF1Score: 0.9508 | MulticlassMatthewsCorrCoef: 0.9453 | LossTracker: 1.5169 | : 100%|██████████| 938/938 [00:03<00:00, 258.55it/s]\n",
      "\u001B[33mValid Epoch: 94, Step:     156 | MulticlassAccuracy: 0.9443 | MulticlassF1Score: 0.9443 | MulticlassMatthewsCorrCoef: 0.9381 | LossTracker: 1.5211 | : 100%|██████████| 157/157 [00:00<00:00, 252.37it/s]\n",
      "\u001B[32mTrain Epoch: 95, Step:     937 | MulticlassAccuracy: 0.9511 | MulticlassF1Score: 0.9511 | MulticlassMatthewsCorrCoef: 0.9456 | LossTracker: 1.5166 | : 100%|██████████| 938/938 [00:03<00:00, 258.76it/s]\n",
      "\u001B[33mValid Epoch: 95, Step:     156 | MulticlassAccuracy: 0.9445 | MulticlassF1Score: 0.9445 | MulticlassMatthewsCorrCoef: 0.9383 | LossTracker: 1.5209 | : 100%|██████████| 157/157 [00:00<00:00, 255.71it/s]\n",
      "\u001B[32mTrain Epoch: 96, Step:     937 | MulticlassAccuracy: 0.9513 | MulticlassF1Score: 0.9513 | MulticlassMatthewsCorrCoef: 0.9459 | LossTracker: 1.5163 | : 100%|██████████| 938/938 [00:03<00:00, 257.69it/s]\n",
      "\u001B[33mValid Epoch: 96, Step:     156 | MulticlassAccuracy: 0.9447 | MulticlassF1Score: 0.9447 | MulticlassMatthewsCorrCoef: 0.9385 | LossTracker: 1.5207 | : 100%|██████████| 157/157 [00:00<00:00, 253.12it/s]\n",
      "\u001B[32mTrain Epoch: 97, Step:     937 | MulticlassAccuracy: 0.9516 | MulticlassF1Score: 0.9516 | MulticlassMatthewsCorrCoef: 0.9463 | LossTracker: 1.5160 | : 100%|██████████| 938/938 [00:03<00:00, 255.57it/s]\n",
      "\u001B[33mValid Epoch: 97, Step:     156 | MulticlassAccuracy: 0.9449 | MulticlassF1Score: 0.9449 | MulticlassMatthewsCorrCoef: 0.9388 | LossTracker: 1.5205 | : 100%|██████████| 157/157 [00:00<00:00, 254.64it/s]\n",
      "\u001B[32mTrain Epoch: 98, Step:     937 | MulticlassAccuracy: 0.9519 | MulticlassF1Score: 0.9519 | MulticlassMatthewsCorrCoef: 0.9466 | LossTracker: 1.5157 | : 100%|██████████| 938/938 [00:03<00:00, 254.35it/s]\n",
      "\u001B[33mValid Epoch: 98, Step:     156 | MulticlassAccuracy: 0.9451 | MulticlassF1Score: 0.9451 | MulticlassMatthewsCorrCoef: 0.9390 | LossTracker: 1.5203 | : 100%|██████████| 157/157 [00:00<00:00, 256.28it/s]\n",
      "\u001B[32mTrain Epoch: 99, Step:     937 | MulticlassAccuracy: 0.9522 | MulticlassF1Score: 0.9522 | MulticlassMatthewsCorrCoef: 0.9469 | LossTracker: 1.5154 | : 100%|██████████| 938/938 [00:03<00:00, 255.11it/s]\n",
      "\u001B[33mValid Epoch: 99, Step:     156 | MulticlassAccuracy: 0.9452 | MulticlassF1Score: 0.9452 | MulticlassMatthewsCorrCoef: 0.9392 | LossTracker: 1.5201 | : 100%|██████████| 157/157 [00:00<00:00, 244.29it/s]\n"
     ]
    }
   ],
   "execution_count": 6
  },
  {
   "metadata": {
    "ExecuteTime": {
     "end_time": "2024-05-29T19:00:12.395384Z",
     "start_time": "2024-05-29T19:00:12.390937Z"
    }
   },
   "cell_type": "code",
   "source": [
    "model = FeedForwardClassifier(\n",
    "    input_dim=28*28,\n",
    "    hidden_dims=[16],\n",
    "    num_classes=10,\n",
    ")"
   ],
   "id": "c775f39c0257480",
   "outputs": [],
   "execution_count": 7
  },
  {
   "metadata": {
    "ExecuteTime": {
     "end_time": "2024-05-29T19:07:10.413894Z",
     "start_time": "2024-05-29T19:00:13.100577Z"
    }
   },
   "cell_type": "code",
   "source": [
    "train_dataset, valid_dataset = get_mnist_dataset()\n",
    "train_model_classifier(model, train_dataset, valid_dataset, num_epochs=100, num_workers=2)"
   ],
   "id": "3de2b798e7c5134c",
   "outputs": [
    {
     "name": "stderr",
     "output_type": "stream",
     "text": [
      "\u001B[32mTrain Epoch: 0, Step:     937 | MulticlassAccuracy: 0.5276 | MulticlassF1Score: 0.5276 | MulticlassMatthewsCorrCoef: 0.4935 | LossTracker: 2.0799 | : 100%|██████████| 938/938 [00:03<00:00, 258.36it/s]\n",
      "\u001B[33mValid Epoch: 0, Step:     156 | MulticlassAccuracy: 0.6557 | MulticlassF1Score: 0.6557 | MulticlassMatthewsCorrCoef: 0.6341 | LossTracker: 1.8845 | : 100%|██████████| 157/157 [00:00<00:00, 244.58it/s]\n",
      "\u001B[32mTrain Epoch: 1, Step:     937 | MulticlassAccuracy: 0.6294 | MulticlassF1Score: 0.6294 | MulticlassMatthewsCorrCoef: 0.5987 | LossTracker: 1.9443 | : 100%|██████████| 938/938 [00:03<00:00, 260.05it/s]\n",
      "\u001B[33mValid Epoch: 1, Step:     156 | MulticlassAccuracy: 0.7335 | MulticlassF1Score: 0.7335 | MulticlassMatthewsCorrCoef: 0.7111 | LossTracker: 1.8082 | : 100%|██████████| 157/157 [00:00<00:00, 244.75it/s]\n",
      "\u001B[32mTrain Epoch: 2, Step:     937 | MulticlassAccuracy: 0.6912 | MulticlassF1Score: 0.6912 | MulticlassMatthewsCorrCoef: 0.6636 | LossTracker: 1.8658 | : 100%|██████████| 938/938 [00:03<00:00, 254.48it/s]\n",
      "\u001B[33mValid Epoch: 2, Step:     156 | MulticlassAccuracy: 0.7658 | MulticlassF1Score: 0.7658 | MulticlassMatthewsCorrCoef: 0.7450 | LossTracker: 1.7646 | : 100%|██████████| 157/157 [00:00<00:00, 241.85it/s]\n",
      "\u001B[32mTrain Epoch: 3, Step:     937 | MulticlassAccuracy: 0.7250 | MulticlassF1Score: 0.7250 | MulticlassMatthewsCorrCoef: 0.6998 | LossTracker: 1.8177 | : 100%|██████████| 938/938 [00:03<00:00, 254.42it/s]\n",
      "\u001B[33mValid Epoch: 3, Step:     156 | MulticlassAccuracy: 0.7835 | MulticlassF1Score: 0.7835 | MulticlassMatthewsCorrCoef: 0.7641 | LossTracker: 1.7377 | : 100%|██████████| 157/157 [00:00<00:00, 238.31it/s]\n",
      "\u001B[32mTrain Epoch: 4, Step:     937 | MulticlassAccuracy: 0.7466 | MulticlassF1Score: 0.7466 | MulticlassMatthewsCorrCoef: 0.7232 | LossTracker: 1.7856 | : 100%|██████████| 938/938 [00:03<00:00, 257.50it/s]\n",
      "\u001B[33mValid Epoch: 4, Step:     156 | MulticlassAccuracy: 0.7949 | MulticlassF1Score: 0.7949 | MulticlassMatthewsCorrCoef: 0.7765 | LossTracker: 1.7190 | : 100%|██████████| 157/157 [00:00<00:00, 245.92it/s]\n",
      "\u001B[32mTrain Epoch: 5, Step:     937 | MulticlassAccuracy: 0.7655 | MulticlassF1Score: 0.7655 | MulticlassMatthewsCorrCoef: 0.7435 | LossTracker: 1.7600 | : 100%|██████████| 938/938 [00:03<00:00, 252.06it/s]\n",
      "\u001B[33mValid Epoch: 5, Step:     156 | MulticlassAccuracy: 0.8105 | MulticlassF1Score: 0.8105 | MulticlassMatthewsCorrCoef: 0.7929 | LossTracker: 1.7004 | : 100%|██████████| 157/157 [00:00<00:00, 243.47it/s]\n",
      "\u001B[32mTrain Epoch: 6, Step:     937 | MulticlassAccuracy: 0.7839 | MulticlassF1Score: 0.7839 | MulticlassMatthewsCorrCoef: 0.7631 | LossTracker: 1.7373 | : 100%|██████████| 938/938 [00:03<00:00, 261.01it/s]\n",
      "\u001B[33mValid Epoch: 6, Step:     156 | MulticlassAccuracy: 0.8241 | MulticlassF1Score: 0.8241 | MulticlassMatthewsCorrCoef: 0.8072 | LossTracker: 1.6842 | : 100%|██████████| 157/157 [00:00<00:00, 250.99it/s]\n",
      "\u001B[32mTrain Epoch: 7, Step:     937 | MulticlassAccuracy: 0.7989 | MulticlassF1Score: 0.7989 | MulticlassMatthewsCorrCoef: 0.7791 | LossTracker: 1.7185 | : 100%|██████████| 938/938 [00:03<00:00, 261.58it/s]\n",
      "\u001B[33mValid Epoch: 7, Step:     156 | MulticlassAccuracy: 0.8347 | MulticlassF1Score: 0.8347 | MulticlassMatthewsCorrCoef: 0.8185 | LossTracker: 1.6708 | : 100%|██████████| 157/157 [00:00<00:00, 245.21it/s]\n",
      "\u001B[32mTrain Epoch: 8, Step:     937 | MulticlassAccuracy: 0.8111 | MulticlassF1Score: 0.8111 | MulticlassMatthewsCorrCoef: 0.7922 | LossTracker: 1.7029 | : 100%|██████████| 938/938 [00:03<00:00, 262.31it/s]\n",
      "\u001B[33mValid Epoch: 8, Step:     156 | MulticlassAccuracy: 0.8433 | MulticlassF1Score: 0.8433 | MulticlassMatthewsCorrCoef: 0.8277 | LossTracker: 1.6597 | : 100%|██████████| 157/157 [00:00<00:00, 249.98it/s]\n",
      "\u001B[32mTrain Epoch: 9, Step:     937 | MulticlassAccuracy: 0.8212 | MulticlassF1Score: 0.8212 | MulticlassMatthewsCorrCoef: 0.8030 | LossTracker: 1.6898 | : 100%|██████████| 938/938 [00:03<00:00, 262.25it/s]\n",
      "\u001B[33mValid Epoch: 9, Step:     156 | MulticlassAccuracy: 0.8505 | MulticlassF1Score: 0.8505 | MulticlassMatthewsCorrCoef: 0.8353 | LossTracker: 1.6503 | : 100%|██████████| 157/157 [00:00<00:00, 245.68it/s]\n",
      "\u001B[32mTrain Epoch: 10, Step:     937 | MulticlassAccuracy: 0.8297 | MulticlassF1Score: 0.8297 | MulticlassMatthewsCorrCoef: 0.8122 | LossTracker: 1.6787 | : 100%|██████████| 938/938 [00:03<00:00, 262.41it/s]\n",
      "\u001B[33mValid Epoch: 10, Step:     156 | MulticlassAccuracy: 0.8564 | MulticlassF1Score: 0.8564 | MulticlassMatthewsCorrCoef: 0.8417 | LossTracker: 1.6423 | : 100%|██████████| 157/157 [00:00<00:00, 242.64it/s]\n",
      "\u001B[32mTrain Epoch: 11, Step:     937 | MulticlassAccuracy: 0.8369 | MulticlassF1Score: 0.8369 | MulticlassMatthewsCorrCoef: 0.8200 | LossTracker: 1.6692 | : 100%|██████████| 938/938 [00:03<00:00, 256.59it/s]\n",
      "\u001B[33mValid Epoch: 11, Step:     156 | MulticlassAccuracy: 0.8616 | MulticlassF1Score: 0.8616 | MulticlassMatthewsCorrCoef: 0.8473 | LossTracker: 1.6353 | : 100%|██████████| 157/157 [00:00<00:00, 242.04it/s]\n",
      "\u001B[32mTrain Epoch: 12, Step:     937 | MulticlassAccuracy: 0.8432 | MulticlassF1Score: 0.8432 | MulticlassMatthewsCorrCoef: 0.8268 | LossTracker: 1.6609 | : 100%|██████████| 938/938 [00:03<00:00, 260.31it/s]\n",
      "\u001B[33mValid Epoch: 12, Step:     156 | MulticlassAccuracy: 0.8661 | MulticlassF1Score: 0.8661 | MulticlassMatthewsCorrCoef: 0.8521 | LossTracker: 1.6293 | : 100%|██████████| 157/157 [00:00<00:00, 243.12it/s]\n",
      "\u001B[32mTrain Epoch: 13, Step:     937 | MulticlassAccuracy: 0.8486 | MulticlassF1Score: 0.8486 | MulticlassMatthewsCorrCoef: 0.8327 | LossTracker: 1.6535 | : 100%|██████████| 938/938 [00:03<00:00, 262.95it/s]\n",
      "\u001B[33mValid Epoch: 13, Step:     156 | MulticlassAccuracy: 0.8700 | MulticlassF1Score: 0.8700 | MulticlassMatthewsCorrCoef: 0.8564 | LossTracker: 1.6239 | : 100%|██████████| 157/157 [00:00<00:00, 249.68it/s]\n",
      "\u001B[32mTrain Epoch: 14, Step:     937 | MulticlassAccuracy: 0.8534 | MulticlassF1Score: 0.8534 | MulticlassMatthewsCorrCoef: 0.8379 | LossTracker: 1.6471 | : 100%|██████████| 938/938 [00:03<00:00, 259.44it/s]\n",
      "\u001B[33mValid Epoch: 14, Step:     156 | MulticlassAccuracy: 0.8735 | MulticlassF1Score: 0.8735 | MulticlassMatthewsCorrCoef: 0.8601 | LossTracker: 1.6192 | : 100%|██████████| 157/157 [00:00<00:00, 247.04it/s]\n",
      "\u001B[32mTrain Epoch: 15, Step:     937 | MulticlassAccuracy: 0.8577 | MulticlassF1Score: 0.8577 | MulticlassMatthewsCorrCoef: 0.8426 | LossTracker: 1.6413 | : 100%|██████████| 938/938 [00:03<00:00, 267.53it/s]\n",
      "\u001B[33mValid Epoch: 15, Step:     156 | MulticlassAccuracy: 0.8765 | MulticlassF1Score: 0.8765 | MulticlassMatthewsCorrCoef: 0.8635 | LossTracker: 1.6149 | : 100%|██████████| 157/157 [00:00<00:00, 242.48it/s]\n",
      "\u001B[32mTrain Epoch: 16, Step:     937 | MulticlassAccuracy: 0.8615 | MulticlassF1Score: 0.8615 | MulticlassMatthewsCorrCoef: 0.8467 | LossTracker: 1.6360 | : 100%|██████████| 938/938 [00:03<00:00, 264.38it/s]\n",
      "\u001B[33mValid Epoch: 16, Step:     156 | MulticlassAccuracy: 0.8792 | MulticlassF1Score: 0.8792 | MulticlassMatthewsCorrCoef: 0.8664 | LossTracker: 1.6111 | : 100%|██████████| 157/157 [00:00<00:00, 256.74it/s]\n",
      "\u001B[32mTrain Epoch: 17, Step:     937 | MulticlassAccuracy: 0.8650 | MulticlassF1Score: 0.8650 | MulticlassMatthewsCorrCoef: 0.8505 | LossTracker: 1.6313 | : 100%|██████████| 938/938 [00:03<00:00, 266.31it/s]\n",
      "\u001B[33mValid Epoch: 17, Step:     156 | MulticlassAccuracy: 0.8817 | MulticlassF1Score: 0.8817 | MulticlassMatthewsCorrCoef: 0.8691 | LossTracker: 1.6076 | : 100%|██████████| 157/157 [00:00<00:00, 257.50it/s]\n",
      "\u001B[32mTrain Epoch: 18, Step:     937 | MulticlassAccuracy: 0.8681 | MulticlassF1Score: 0.8681 | MulticlassMatthewsCorrCoef: 0.8540 | LossTracker: 1.6270 | : 100%|██████████| 938/938 [00:03<00:00, 265.92it/s]\n",
      "\u001B[33mValid Epoch: 18, Step:     156 | MulticlassAccuracy: 0.8839 | MulticlassF1Score: 0.8839 | MulticlassMatthewsCorrCoef: 0.8715 | LossTracker: 1.6044 | : 100%|██████████| 157/157 [00:00<00:00, 262.77it/s]\n",
      "\u001B[32mTrain Epoch: 19, Step:     937 | MulticlassAccuracy: 0.8710 | MulticlassF1Score: 0.8710 | MulticlassMatthewsCorrCoef: 0.8571 | LossTracker: 1.6231 | : 100%|██████████| 938/938 [00:03<00:00, 272.07it/s]\n",
      "\u001B[33mValid Epoch: 19, Step:     156 | MulticlassAccuracy: 0.8859 | MulticlassF1Score: 0.8859 | MulticlassMatthewsCorrCoef: 0.8737 | LossTracker: 1.6015 | : 100%|██████████| 157/157 [00:00<00:00, 254.34it/s]\n",
      "\u001B[32mTrain Epoch: 20, Step:     937 | MulticlassAccuracy: 0.8736 | MulticlassF1Score: 0.8736 | MulticlassMatthewsCorrCoef: 0.8600 | LossTracker: 1.6194 | : 100%|██████████| 938/938 [00:03<00:00, 268.80it/s]\n",
      "\u001B[33mValid Epoch: 20, Step:     156 | MulticlassAccuracy: 0.8878 | MulticlassF1Score: 0.8878 | MulticlassMatthewsCorrCoef: 0.8757 | LossTracker: 1.5988 | : 100%|██████████| 157/157 [00:00<00:00, 251.50it/s]\n",
      "\u001B[32mTrain Epoch: 21, Step:     937 | MulticlassAccuracy: 0.8760 | MulticlassF1Score: 0.8760 | MulticlassMatthewsCorrCoef: 0.8627 | LossTracker: 1.6161 | : 100%|██████████| 938/938 [00:03<00:00, 270.48it/s]\n",
      "\u001B[33mValid Epoch: 21, Step:     156 | MulticlassAccuracy: 0.8895 | MulticlassF1Score: 0.8895 | MulticlassMatthewsCorrCoef: 0.8776 | LossTracker: 1.5964 | : 100%|██████████| 157/157 [00:00<00:00, 253.04it/s]\n",
      "\u001B[32mTrain Epoch: 22, Step:     937 | MulticlassAccuracy: 0.8783 | MulticlassF1Score: 0.8783 | MulticlassMatthewsCorrCoef: 0.8651 | LossTracker: 1.6130 | : 100%|██████████| 938/938 [00:03<00:00, 271.09it/s]\n",
      "\u001B[33mValid Epoch: 22, Step:     156 | MulticlassAccuracy: 0.8910 | MulticlassF1Score: 0.8910 | MulticlassMatthewsCorrCoef: 0.8793 | LossTracker: 1.5941 | : 100%|██████████| 157/157 [00:00<00:00, 249.03it/s]\n",
      "\u001B[32mTrain Epoch: 23, Step:     937 | MulticlassAccuracy: 0.8804 | MulticlassF1Score: 0.8804 | MulticlassMatthewsCorrCoef: 0.8674 | LossTracker: 1.6101 | : 100%|██████████| 938/938 [00:03<00:00, 269.07it/s]\n",
      "\u001B[33mValid Epoch: 23, Step:     156 | MulticlassAccuracy: 0.8925 | MulticlassF1Score: 0.8925 | MulticlassMatthewsCorrCoef: 0.8809 | LossTracker: 1.5919 | : 100%|██████████| 157/157 [00:00<00:00, 245.05it/s]\n",
      "\u001B[32mTrain Epoch: 24, Step:     937 | MulticlassAccuracy: 0.8823 | MulticlassF1Score: 0.8823 | MulticlassMatthewsCorrCoef: 0.8696 | LossTracker: 1.6074 | : 100%|██████████| 938/938 [00:03<00:00, 271.97it/s]\n",
      "\u001B[33mValid Epoch: 24, Step:     156 | MulticlassAccuracy: 0.8938 | MulticlassF1Score: 0.8938 | MulticlassMatthewsCorrCoef: 0.8824 | LossTracker: 1.5899 | : 100%|██████████| 157/157 [00:00<00:00, 256.97it/s]\n",
      "\u001B[32mTrain Epoch: 25, Step:     937 | MulticlassAccuracy: 0.8842 | MulticlassF1Score: 0.8842 | MulticlassMatthewsCorrCoef: 0.8716 | LossTracker: 1.6049 | : 100%|██████████| 938/938 [00:03<00:00, 273.65it/s]\n",
      "\u001B[33mValid Epoch: 25, Step:     156 | MulticlassAccuracy: 0.8951 | MulticlassF1Score: 0.8951 | MulticlassMatthewsCorrCoef: 0.8837 | LossTracker: 1.5880 | : 100%|██████████| 157/157 [00:00<00:00, 257.26it/s]\n",
      "\u001B[32mTrain Epoch: 26, Step:     937 | MulticlassAccuracy: 0.8859 | MulticlassF1Score: 0.8859 | MulticlassMatthewsCorrCoef: 0.8735 | LossTracker: 1.6025 | : 100%|██████████| 938/938 [00:03<00:00, 273.64it/s]\n",
      "\u001B[33mValid Epoch: 26, Step:     156 | MulticlassAccuracy: 0.8963 | MulticlassF1Score: 0.8963 | MulticlassMatthewsCorrCoef: 0.8851 | LossTracker: 1.5863 | : 100%|██████████| 157/157 [00:00<00:00, 243.77it/s]\n",
      "\u001B[32mTrain Epoch: 27, Step:     937 | MulticlassAccuracy: 0.8875 | MulticlassF1Score: 0.8875 | MulticlassMatthewsCorrCoef: 0.8753 | LossTracker: 1.6003 | : 100%|██████████| 938/938 [00:03<00:00, 268.81it/s]\n",
      "\u001B[33mValid Epoch: 27, Step:     156 | MulticlassAccuracy: 0.8974 | MulticlassF1Score: 0.8974 | MulticlassMatthewsCorrCoef: 0.8863 | LossTracker: 1.5846 | : 100%|██████████| 157/157 [00:00<00:00, 249.83it/s]\n",
      "\u001B[32mTrain Epoch: 28, Step:     937 | MulticlassAccuracy: 0.8890 | MulticlassF1Score: 0.8890 | MulticlassMatthewsCorrCoef: 0.8769 | LossTracker: 1.5982 | : 100%|██████████| 938/938 [00:03<00:00, 267.01it/s]\n",
      "\u001B[33mValid Epoch: 28, Step:     156 | MulticlassAccuracy: 0.8985 | MulticlassF1Score: 0.8985 | MulticlassMatthewsCorrCoef: 0.8875 | LossTracker: 1.5831 | : 100%|██████████| 157/157 [00:00<00:00, 253.39it/s]\n",
      "\u001B[32mTrain Epoch: 29, Step:     937 | MulticlassAccuracy: 0.8905 | MulticlassF1Score: 0.8905 | MulticlassMatthewsCorrCoef: 0.8785 | LossTracker: 1.5962 | : 100%|██████████| 938/938 [00:03<00:00, 265.51it/s]\n",
      "\u001B[33mValid Epoch: 29, Step:     156 | MulticlassAccuracy: 0.8996 | MulticlassF1Score: 0.8996 | MulticlassMatthewsCorrCoef: 0.8886 | LossTracker: 1.5816 | : 100%|██████████| 157/157 [00:00<00:00, 243.72it/s]\n",
      "\u001B[32mTrain Epoch: 30, Step:     937 | MulticlassAccuracy: 0.8919 | MulticlassF1Score: 0.8919 | MulticlassMatthewsCorrCoef: 0.8800 | LossTracker: 1.5944 | : 100%|██████████| 938/938 [00:03<00:00, 268.14it/s]\n",
      "\u001B[33mValid Epoch: 30, Step:     156 | MulticlassAccuracy: 0.9005 | MulticlassF1Score: 0.9005 | MulticlassMatthewsCorrCoef: 0.8897 | LossTracker: 1.5802 | : 100%|██████████| 157/157 [00:00<00:00, 234.35it/s]\n",
      "\u001B[32mTrain Epoch: 31, Step:     937 | MulticlassAccuracy: 0.8932 | MulticlassF1Score: 0.8932 | MulticlassMatthewsCorrCoef: 0.8815 | LossTracker: 1.5926 | : 100%|██████████| 938/938 [00:03<00:00, 271.07it/s]\n",
      "\u001B[33mValid Epoch: 31, Step:     156 | MulticlassAccuracy: 0.9014 | MulticlassF1Score: 0.9014 | MulticlassMatthewsCorrCoef: 0.8907 | LossTracker: 1.5789 | : 100%|██████████| 157/157 [00:00<00:00, 254.40it/s]\n",
      "\u001B[32mTrain Epoch: 32, Step:     937 | MulticlassAccuracy: 0.8944 | MulticlassF1Score: 0.8944 | MulticlassMatthewsCorrCoef: 0.8828 | LossTracker: 1.5909 | : 100%|██████████| 938/938 [00:03<00:00, 267.41it/s]\n",
      "\u001B[33mValid Epoch: 32, Step:     156 | MulticlassAccuracy: 0.9023 | MulticlassF1Score: 0.9023 | MulticlassMatthewsCorrCoef: 0.8916 | LossTracker: 1.5776 | : 100%|██████████| 157/157 [00:00<00:00, 251.18it/s]\n",
      "\u001B[32mTrain Epoch: 33, Step:     937 | MulticlassAccuracy: 0.8956 | MulticlassF1Score: 0.8956 | MulticlassMatthewsCorrCoef: 0.8841 | LossTracker: 1.5893 | : 100%|██████████| 938/938 [00:03<00:00, 268.16it/s]\n",
      "\u001B[33mValid Epoch: 33, Step:     156 | MulticlassAccuracy: 0.9031 | MulticlassF1Score: 0.9031 | MulticlassMatthewsCorrCoef: 0.8925 | LossTracker: 1.5764 | : 100%|██████████| 157/157 [00:00<00:00, 253.21it/s]\n",
      "\u001B[32mTrain Epoch: 34, Step:     937 | MulticlassAccuracy: 0.8967 | MulticlassF1Score: 0.8967 | MulticlassMatthewsCorrCoef: 0.8853 | LossTracker: 1.5878 | : 100%|██████████| 938/938 [00:03<00:00, 269.84it/s]\n",
      "\u001B[33mValid Epoch: 34, Step:     156 | MulticlassAccuracy: 0.9039 | MulticlassF1Score: 0.9039 | MulticlassMatthewsCorrCoef: 0.8934 | LossTracker: 1.5752 | : 100%|██████████| 157/157 [00:00<00:00, 251.41it/s]\n",
      "\u001B[32mTrain Epoch: 35, Step:     937 | MulticlassAccuracy: 0.8977 | MulticlassF1Score: 0.8977 | MulticlassMatthewsCorrCoef: 0.8865 | LossTracker: 1.5863 | : 100%|██████████| 938/938 [00:03<00:00, 267.07it/s]\n",
      "\u001B[33mValid Epoch: 35, Step:     156 | MulticlassAccuracy: 0.9047 | MulticlassF1Score: 0.9047 | MulticlassMatthewsCorrCoef: 0.8943 | LossTracker: 1.5741 | : 100%|██████████| 157/157 [00:00<00:00, 251.15it/s]\n",
      "\u001B[32mTrain Epoch: 36, Step:     937 | MulticlassAccuracy: 0.8987 | MulticlassF1Score: 0.8987 | MulticlassMatthewsCorrCoef: 0.8876 | LossTracker: 1.5849 | : 100%|██████████| 938/938 [00:03<00:00, 264.35it/s]\n",
      "\u001B[33mValid Epoch: 36, Step:     156 | MulticlassAccuracy: 0.9055 | MulticlassF1Score: 0.9055 | MulticlassMatthewsCorrCoef: 0.8951 | LossTracker: 1.5731 | : 100%|██████████| 157/157 [00:00<00:00, 252.20it/s]\n",
      "\u001B[32mTrain Epoch: 37, Step:     937 | MulticlassAccuracy: 0.8997 | MulticlassF1Score: 0.8997 | MulticlassMatthewsCorrCoef: 0.8887 | LossTracker: 1.5836 | : 100%|██████████| 938/938 [00:03<00:00, 265.42it/s]\n",
      "\u001B[33mValid Epoch: 37, Step:     156 | MulticlassAccuracy: 0.9061 | MulticlassF1Score: 0.9061 | MulticlassMatthewsCorrCoef: 0.8959 | LossTracker: 1.5721 | : 100%|██████████| 157/157 [00:00<00:00, 252.74it/s]\n",
      "\u001B[32mTrain Epoch: 38, Step:     937 | MulticlassAccuracy: 0.9007 | MulticlassF1Score: 0.9007 | MulticlassMatthewsCorrCoef: 0.8898 | LossTracker: 1.5823 | : 100%|██████████| 938/938 [00:03<00:00, 264.32it/s]\n",
      "\u001B[33mValid Epoch: 38, Step:     156 | MulticlassAccuracy: 0.9068 | MulticlassF1Score: 0.9068 | MulticlassMatthewsCorrCoef: 0.8966 | LossTracker: 1.5711 | : 100%|██████████| 157/157 [00:00<00:00, 254.42it/s]\n",
      "\u001B[32mTrain Epoch: 39, Step:     937 | MulticlassAccuracy: 0.9016 | MulticlassF1Score: 0.9016 | MulticlassMatthewsCorrCoef: 0.8907 | LossTracker: 1.5810 | : 100%|██████████| 938/938 [00:03<00:00, 260.72it/s]\n",
      "\u001B[33mValid Epoch: 39, Step:     156 | MulticlassAccuracy: 0.9075 | MulticlassF1Score: 0.9075 | MulticlassMatthewsCorrCoef: 0.8973 | LossTracker: 1.5702 | : 100%|██████████| 157/157 [00:00<00:00, 240.94it/s]\n",
      "\u001B[32mTrain Epoch: 40, Step:     937 | MulticlassAccuracy: 0.9024 | MulticlassF1Score: 0.9024 | MulticlassMatthewsCorrCoef: 0.8917 | LossTracker: 1.5799 | : 100%|██████████| 938/938 [00:03<00:00, 258.86it/s]\n",
      "\u001B[33mValid Epoch: 40, Step:     156 | MulticlassAccuracy: 0.9081 | MulticlassF1Score: 0.9081 | MulticlassMatthewsCorrCoef: 0.8980 | LossTracker: 1.5693 | : 100%|██████████| 157/157 [00:00<00:00, 247.85it/s]\n",
      "\u001B[32mTrain Epoch: 41, Step:     937 | MulticlassAccuracy: 0.9033 | MulticlassF1Score: 0.9033 | MulticlassMatthewsCorrCoef: 0.8926 | LossTracker: 1.5787 | : 100%|██████████| 938/938 [00:03<00:00, 268.28it/s]\n",
      "\u001B[33mValid Epoch: 41, Step:     156 | MulticlassAccuracy: 0.9087 | MulticlassF1Score: 0.9087 | MulticlassMatthewsCorrCoef: 0.8987 | LossTracker: 1.5685 | : 100%|██████████| 157/157 [00:00<00:00, 250.87it/s]\n",
      "\u001B[32mTrain Epoch: 42, Step:     937 | MulticlassAccuracy: 0.9041 | MulticlassF1Score: 0.9041 | MulticlassMatthewsCorrCoef: 0.8935 | LossTracker: 1.5776 | : 100%|██████████| 938/938 [00:03<00:00, 263.58it/s]\n",
      "\u001B[33mValid Epoch: 42, Step:     156 | MulticlassAccuracy: 0.9093 | MulticlassF1Score: 0.9093 | MulticlassMatthewsCorrCoef: 0.8993 | LossTracker: 1.5677 | : 100%|██████████| 157/157 [00:00<00:00, 234.85it/s]\n",
      "\u001B[32mTrain Epoch: 43, Step:     937 | MulticlassAccuracy: 0.9048 | MulticlassF1Score: 0.9048 | MulticlassMatthewsCorrCoef: 0.8944 | LossTracker: 1.5766 | : 100%|██████████| 938/938 [00:03<00:00, 264.85it/s]\n",
      "\u001B[33mValid Epoch: 43, Step:     156 | MulticlassAccuracy: 0.9098 | MulticlassF1Score: 0.9098 | MulticlassMatthewsCorrCoef: 0.8999 | LossTracker: 1.5669 | : 100%|██████████| 157/157 [00:00<00:00, 256.30it/s]\n",
      "\u001B[32mTrain Epoch: 44, Step:     937 | MulticlassAccuracy: 0.9056 | MulticlassF1Score: 0.9056 | MulticlassMatthewsCorrCoef: 0.8952 | LossTracker: 1.5755 | : 100%|██████████| 938/938 [00:03<00:00, 268.33it/s]\n",
      "\u001B[33mValid Epoch: 44, Step:     156 | MulticlassAccuracy: 0.9104 | MulticlassF1Score: 0.9104 | MulticlassMatthewsCorrCoef: 0.9005 | LossTracker: 1.5661 | : 100%|██████████| 157/157 [00:00<00:00, 253.70it/s]\n",
      "\u001B[32mTrain Epoch: 45, Step:     937 | MulticlassAccuracy: 0.9063 | MulticlassF1Score: 0.9063 | MulticlassMatthewsCorrCoef: 0.8960 | LossTracker: 1.5746 | : 100%|██████████| 938/938 [00:03<00:00, 272.75it/s]\n",
      "\u001B[33mValid Epoch: 45, Step:     156 | MulticlassAccuracy: 0.9109 | MulticlassF1Score: 0.9109 | MulticlassMatthewsCorrCoef: 0.9011 | LossTracker: 1.5654 | : 100%|██████████| 157/157 [00:00<00:00, 252.82it/s]\n",
      "\u001B[32mTrain Epoch: 46, Step:     937 | MulticlassAccuracy: 0.9070 | MulticlassF1Score: 0.9070 | MulticlassMatthewsCorrCoef: 0.8968 | LossTracker: 1.5736 | : 100%|██████████| 938/938 [00:03<00:00, 269.32it/s]\n",
      "\u001B[33mValid Epoch: 46, Step:     156 | MulticlassAccuracy: 0.9114 | MulticlassF1Score: 0.9114 | MulticlassMatthewsCorrCoef: 0.9016 | LossTracker: 1.5647 | : 100%|██████████| 157/157 [00:00<00:00, 247.51it/s]\n",
      "\u001B[32mTrain Epoch: 47, Step:     937 | MulticlassAccuracy: 0.9077 | MulticlassF1Score: 0.9077 | MulticlassMatthewsCorrCoef: 0.8975 | LossTracker: 1.5727 | : 100%|██████████| 938/938 [00:03<00:00, 272.31it/s]\n",
      "\u001B[33mValid Epoch: 47, Step:     156 | MulticlassAccuracy: 0.9119 | MulticlassF1Score: 0.9119 | MulticlassMatthewsCorrCoef: 0.9022 | LossTracker: 1.5640 | : 100%|██████████| 157/157 [00:00<00:00, 243.73it/s]\n",
      "\u001B[32mTrain Epoch: 48, Step:     937 | MulticlassAccuracy: 0.9084 | MulticlassF1Score: 0.9084 | MulticlassMatthewsCorrCoef: 0.8982 | LossTracker: 1.5718 | : 100%|██████████| 938/938 [00:03<00:00, 270.61it/s]\n",
      "\u001B[33mValid Epoch: 48, Step:     156 | MulticlassAccuracy: 0.9123 | MulticlassF1Score: 0.9123 | MulticlassMatthewsCorrCoef: 0.9027 | LossTracker: 1.5633 | : 100%|██████████| 157/157 [00:00<00:00, 254.54it/s]\n",
      "\u001B[32mTrain Epoch: 49, Step:     937 | MulticlassAccuracy: 0.9090 | MulticlassF1Score: 0.9090 | MulticlassMatthewsCorrCoef: 0.8990 | LossTracker: 1.5709 | : 100%|██████████| 938/938 [00:03<00:00, 265.58it/s]\n",
      "\u001B[33mValid Epoch: 49, Step:     156 | MulticlassAccuracy: 0.9128 | MulticlassF1Score: 0.9128 | MulticlassMatthewsCorrCoef: 0.9032 | LossTracker: 1.5627 | : 100%|██████████| 157/157 [00:00<00:00, 251.60it/s]\n",
      "\u001B[32mTrain Epoch: 50, Step:     937 | MulticlassAccuracy: 0.9096 | MulticlassF1Score: 0.9096 | MulticlassMatthewsCorrCoef: 0.8996 | LossTracker: 1.5701 | : 100%|██████████| 938/938 [00:03<00:00, 269.53it/s]\n",
      "\u001B[33mValid Epoch: 50, Step:     156 | MulticlassAccuracy: 0.9132 | MulticlassF1Score: 0.9132 | MulticlassMatthewsCorrCoef: 0.9037 | LossTracker: 1.5620 | : 100%|██████████| 157/157 [00:00<00:00, 249.87it/s]\n",
      "\u001B[32mTrain Epoch: 51, Step:     937 | MulticlassAccuracy: 0.9102 | MulticlassF1Score: 0.9102 | MulticlassMatthewsCorrCoef: 0.9003 | LossTracker: 1.5693 | : 100%|██████████| 938/938 [00:03<00:00, 266.57it/s]\n",
      "\u001B[33mValid Epoch: 51, Step:     156 | MulticlassAccuracy: 0.9137 | MulticlassF1Score: 0.9137 | MulticlassMatthewsCorrCoef: 0.9042 | LossTracker: 1.5614 | : 100%|██████████| 157/157 [00:00<00:00, 257.36it/s]\n",
      "\u001B[32mTrain Epoch: 52, Step:     937 | MulticlassAccuracy: 0.9108 | MulticlassF1Score: 0.9108 | MulticlassMatthewsCorrCoef: 0.9010 | LossTracker: 1.5685 | : 100%|██████████| 938/938 [00:03<00:00, 270.83it/s]\n",
      "\u001B[33mValid Epoch: 52, Step:     156 | MulticlassAccuracy: 0.9141 | MulticlassF1Score: 0.9141 | MulticlassMatthewsCorrCoef: 0.9046 | LossTracker: 1.5608 | : 100%|██████████| 157/157 [00:00<00:00, 240.86it/s]\n",
      "\u001B[32mTrain Epoch: 53, Step:     937 | MulticlassAccuracy: 0.9114 | MulticlassF1Score: 0.9114 | MulticlassMatthewsCorrCoef: 0.9016 | LossTracker: 1.5677 | : 100%|██████████| 938/938 [00:03<00:00, 269.05it/s]\n",
      "\u001B[33mValid Epoch: 53, Step:     156 | MulticlassAccuracy: 0.9145 | MulticlassF1Score: 0.9145 | MulticlassMatthewsCorrCoef: 0.9051 | LossTracker: 1.5603 | : 100%|██████████| 157/157 [00:00<00:00, 240.01it/s]\n",
      "\u001B[32mTrain Epoch: 54, Step:     937 | MulticlassAccuracy: 0.9119 | MulticlassF1Score: 0.9119 | MulticlassMatthewsCorrCoef: 0.9022 | LossTracker: 1.5670 | : 100%|██████████| 938/938 [00:03<00:00, 264.71it/s]\n",
      "\u001B[33mValid Epoch: 54, Step:     156 | MulticlassAccuracy: 0.9149 | MulticlassF1Score: 0.9149 | MulticlassMatthewsCorrCoef: 0.9055 | LossTracker: 1.5597 | : 100%|██████████| 157/157 [00:00<00:00, 250.58it/s]\n",
      "\u001B[32mTrain Epoch: 55, Step:     937 | MulticlassAccuracy: 0.9125 | MulticlassF1Score: 0.9125 | MulticlassMatthewsCorrCoef: 0.9028 | LossTracker: 1.5662 | : 100%|██████████| 938/938 [00:03<00:00, 259.22it/s]\n",
      "\u001B[33mValid Epoch: 55, Step:     156 | MulticlassAccuracy: 0.9153 | MulticlassF1Score: 0.9153 | MulticlassMatthewsCorrCoef: 0.9059 | LossTracker: 1.5592 | : 100%|██████████| 157/157 [00:00<00:00, 252.45it/s]\n",
      "\u001B[32mTrain Epoch: 56, Step:     937 | MulticlassAccuracy: 0.9130 | MulticlassF1Score: 0.9130 | MulticlassMatthewsCorrCoef: 0.9034 | LossTracker: 1.5655 | : 100%|██████████| 938/938 [00:03<00:00, 265.10it/s]\n",
      "\u001B[33mValid Epoch: 56, Step:     156 | MulticlassAccuracy: 0.9156 | MulticlassF1Score: 0.9156 | MulticlassMatthewsCorrCoef: 0.9064 | LossTracker: 1.5587 | : 100%|██████████| 157/157 [00:00<00:00, 256.69it/s]\n",
      "\u001B[32mTrain Epoch: 57, Step:     937 | MulticlassAccuracy: 0.9135 | MulticlassF1Score: 0.9135 | MulticlassMatthewsCorrCoef: 0.9040 | LossTracker: 1.5649 | : 100%|██████████| 938/938 [00:03<00:00, 268.44it/s]\n",
      "\u001B[33mValid Epoch: 57, Step:     156 | MulticlassAccuracy: 0.9160 | MulticlassF1Score: 0.9160 | MulticlassMatthewsCorrCoef: 0.9068 | LossTracker: 1.5582 | : 100%|██████████| 157/157 [00:00<00:00, 254.88it/s]\n",
      "\u001B[32mTrain Epoch: 58, Step:     937 | MulticlassAccuracy: 0.9140 | MulticlassF1Score: 0.9140 | MulticlassMatthewsCorrCoef: 0.9045 | LossTracker: 1.5642 | : 100%|██████████| 938/938 [00:03<00:00, 264.16it/s]\n",
      "\u001B[33mValid Epoch: 58, Step:     156 | MulticlassAccuracy: 0.9164 | MulticlassF1Score: 0.9164 | MulticlassMatthewsCorrCoef: 0.9072 | LossTracker: 1.5577 | : 100%|██████████| 157/157 [00:00<00:00, 251.84it/s]\n",
      "\u001B[32mTrain Epoch: 59, Step:     937 | MulticlassAccuracy: 0.9145 | MulticlassF1Score: 0.9145 | MulticlassMatthewsCorrCoef: 0.9050 | LossTracker: 1.5635 | : 100%|██████████| 938/938 [00:03<00:00, 266.66it/s]\n",
      "\u001B[33mValid Epoch: 59, Step:     156 | MulticlassAccuracy: 0.9167 | MulticlassF1Score: 0.9167 | MulticlassMatthewsCorrCoef: 0.9075 | LossTracker: 1.5572 | : 100%|██████████| 157/157 [00:00<00:00, 255.57it/s]\n",
      "\u001B[32mTrain Epoch: 60, Step:     937 | MulticlassAccuracy: 0.9150 | MulticlassF1Score: 0.9150 | MulticlassMatthewsCorrCoef: 0.9056 | LossTracker: 1.5629 | : 100%|██████████| 938/938 [00:03<00:00, 269.96it/s]\n",
      "\u001B[33mValid Epoch: 60, Step:     156 | MulticlassAccuracy: 0.9171 | MulticlassF1Score: 0.9171 | MulticlassMatthewsCorrCoef: 0.9079 | LossTracker: 1.5567 | : 100%|██████████| 157/157 [00:00<00:00, 251.73it/s]\n",
      "\u001B[32mTrain Epoch: 61, Step:     937 | MulticlassAccuracy: 0.9154 | MulticlassF1Score: 0.9154 | MulticlassMatthewsCorrCoef: 0.9061 | LossTracker: 1.5623 | : 100%|██████████| 938/938 [00:03<00:00, 269.82it/s]\n",
      "\u001B[33mValid Epoch: 61, Step:     156 | MulticlassAccuracy: 0.9174 | MulticlassF1Score: 0.9174 | MulticlassMatthewsCorrCoef: 0.9083 | LossTracker: 1.5563 | : 100%|██████████| 157/157 [00:00<00:00, 252.22it/s]\n",
      "\u001B[32mTrain Epoch: 62, Step:     937 | MulticlassAccuracy: 0.9159 | MulticlassF1Score: 0.9159 | MulticlassMatthewsCorrCoef: 0.9066 | LossTracker: 1.5617 | : 100%|██████████| 938/938 [00:03<00:00, 272.16it/s]\n",
      "\u001B[33mValid Epoch: 62, Step:     156 | MulticlassAccuracy: 0.9177 | MulticlassF1Score: 0.9177 | MulticlassMatthewsCorrCoef: 0.9087 | LossTracker: 1.5558 | : 100%|██████████| 157/157 [00:00<00:00, 247.77it/s]\n",
      "\u001B[32mTrain Epoch: 63, Step:     937 | MulticlassAccuracy: 0.9163 | MulticlassF1Score: 0.9163 | MulticlassMatthewsCorrCoef: 0.9071 | LossTracker: 1.5611 | : 100%|██████████| 938/938 [00:03<00:00, 266.88it/s]\n",
      "\u001B[33mValid Epoch: 63, Step:     156 | MulticlassAccuracy: 0.9180 | MulticlassF1Score: 0.9180 | MulticlassMatthewsCorrCoef: 0.9090 | LossTracker: 1.5554 | : 100%|██████████| 157/157 [00:00<00:00, 247.84it/s]\n",
      "\u001B[32mTrain Epoch: 64, Step:     937 | MulticlassAccuracy: 0.9168 | MulticlassF1Score: 0.9168 | MulticlassMatthewsCorrCoef: 0.9075 | LossTracker: 1.5605 | : 100%|██████████| 938/938 [00:03<00:00, 257.97it/s]\n",
      "\u001B[33mValid Epoch: 64, Step:     156 | MulticlassAccuracy: 0.9184 | MulticlassF1Score: 0.9184 | MulticlassMatthewsCorrCoef: 0.9093 | LossTracker: 1.5550 | : 100%|██████████| 157/157 [00:00<00:00, 247.81it/s]\n",
      "\u001B[32mTrain Epoch: 65, Step:     937 | MulticlassAccuracy: 0.9172 | MulticlassF1Score: 0.9172 | MulticlassMatthewsCorrCoef: 0.9080 | LossTracker: 1.5600 | : 100%|██████████| 938/938 [00:03<00:00, 266.47it/s]\n",
      "\u001B[33mValid Epoch: 65, Step:     156 | MulticlassAccuracy: 0.9187 | MulticlassF1Score: 0.9187 | MulticlassMatthewsCorrCoef: 0.9097 | LossTracker: 1.5546 | : 100%|██████████| 157/157 [00:00<00:00, 247.84it/s]\n",
      "\u001B[32mTrain Epoch: 66, Step:     937 | MulticlassAccuracy: 0.9176 | MulticlassF1Score: 0.9176 | MulticlassMatthewsCorrCoef: 0.9085 | LossTracker: 1.5594 | : 100%|██████████| 938/938 [00:03<00:00, 262.53it/s]\n",
      "\u001B[33mValid Epoch: 66, Step:     156 | MulticlassAccuracy: 0.9190 | MulticlassF1Score: 0.9190 | MulticlassMatthewsCorrCoef: 0.9100 | LossTracker: 1.5542 | : 100%|██████████| 157/157 [00:00<00:00, 237.70it/s]\n",
      "\u001B[32mTrain Epoch: 67, Step:     937 | MulticlassAccuracy: 0.9180 | MulticlassF1Score: 0.9180 | MulticlassMatthewsCorrCoef: 0.9089 | LossTracker: 1.5589 | : 100%|██████████| 938/938 [00:03<00:00, 261.68it/s]\n",
      "\u001B[33mValid Epoch: 67, Step:     156 | MulticlassAccuracy: 0.9192 | MulticlassF1Score: 0.9192 | MulticlassMatthewsCorrCoef: 0.9103 | LossTracker: 1.5538 | : 100%|██████████| 157/157 [00:00<00:00, 252.67it/s]\n",
      "\u001B[32mTrain Epoch: 68, Step:     937 | MulticlassAccuracy: 0.9184 | MulticlassF1Score: 0.9184 | MulticlassMatthewsCorrCoef: 0.9094 | LossTracker: 1.5584 | : 100%|██████████| 938/938 [00:03<00:00, 267.25it/s]\n",
      "\u001B[33mValid Epoch: 68, Step:     156 | MulticlassAccuracy: 0.9195 | MulticlassF1Score: 0.9195 | MulticlassMatthewsCorrCoef: 0.9106 | LossTracker: 1.5534 | : 100%|██████████| 157/157 [00:00<00:00, 242.78it/s]\n",
      "\u001B[32mTrain Epoch: 69, Step:     937 | MulticlassAccuracy: 0.9188 | MulticlassF1Score: 0.9188 | MulticlassMatthewsCorrCoef: 0.9098 | LossTracker: 1.5578 | : 100%|██████████| 938/938 [00:03<00:00, 268.18it/s]\n",
      "\u001B[33mValid Epoch: 69, Step:     156 | MulticlassAccuracy: 0.9198 | MulticlassF1Score: 0.9198 | MulticlassMatthewsCorrCoef: 0.9110 | LossTracker: 1.5530 | : 100%|██████████| 157/157 [00:00<00:00, 257.24it/s]\n",
      "\u001B[32mTrain Epoch: 70, Step:     937 | MulticlassAccuracy: 0.9192 | MulticlassF1Score: 0.9192 | MulticlassMatthewsCorrCoef: 0.9102 | LossTracker: 1.5573 | : 100%|██████████| 938/938 [00:03<00:00, 263.82it/s]\n",
      "\u001B[33mValid Epoch: 70, Step:     156 | MulticlassAccuracy: 0.9201 | MulticlassF1Score: 0.9201 | MulticlassMatthewsCorrCoef: 0.9113 | LossTracker: 1.5526 | : 100%|██████████| 157/157 [00:00<00:00, 246.75it/s]\n",
      "\u001B[32mTrain Epoch: 71, Step:     937 | MulticlassAccuracy: 0.9195 | MulticlassF1Score: 0.9195 | MulticlassMatthewsCorrCoef: 0.9106 | LossTracker: 1.5568 | : 100%|██████████| 938/938 [00:03<00:00, 267.18it/s]\n",
      "\u001B[33mValid Epoch: 71, Step:     156 | MulticlassAccuracy: 0.9204 | MulticlassF1Score: 0.9204 | MulticlassMatthewsCorrCoef: 0.9116 | LossTracker: 1.5523 | : 100%|██████████| 157/157 [00:00<00:00, 259.67it/s]\n",
      "\u001B[32mTrain Epoch: 72, Step:     937 | MulticlassAccuracy: 0.9199 | MulticlassF1Score: 0.9199 | MulticlassMatthewsCorrCoef: 0.9110 | LossTracker: 1.5564 | : 100%|██████████| 938/938 [00:03<00:00, 260.95it/s]\n",
      "\u001B[33mValid Epoch: 72, Step:     156 | MulticlassAccuracy: 0.9206 | MulticlassF1Score: 0.9206 | MulticlassMatthewsCorrCoef: 0.9119 | LossTracker: 1.5519 | : 100%|██████████| 157/157 [00:00<00:00, 249.85it/s]\n",
      "\u001B[32mTrain Epoch: 73, Step:     937 | MulticlassAccuracy: 0.9203 | MulticlassF1Score: 0.9203 | MulticlassMatthewsCorrCoef: 0.9114 | LossTracker: 1.5559 | : 100%|██████████| 938/938 [00:03<00:00, 258.17it/s]\n",
      "\u001B[33mValid Epoch: 73, Step:     156 | MulticlassAccuracy: 0.9209 | MulticlassF1Score: 0.9209 | MulticlassMatthewsCorrCoef: 0.9121 | LossTracker: 1.5516 | : 100%|██████████| 157/157 [00:00<00:00, 245.55it/s]\n",
      "\u001B[32mTrain Epoch: 74, Step:     937 | MulticlassAccuracy: 0.9206 | MulticlassF1Score: 0.9206 | MulticlassMatthewsCorrCoef: 0.9118 | LossTracker: 1.5554 | : 100%|██████████| 938/938 [00:03<00:00, 268.29it/s]\n",
      "\u001B[33mValid Epoch: 74, Step:     156 | MulticlassAccuracy: 0.9211 | MulticlassF1Score: 0.9211 | MulticlassMatthewsCorrCoef: 0.9124 | LossTracker: 1.5512 | : 100%|██████████| 157/157 [00:00<00:00, 247.53it/s]\n",
      "\u001B[32mTrain Epoch: 75, Step:     937 | MulticlassAccuracy: 0.9210 | MulticlassF1Score: 0.9210 | MulticlassMatthewsCorrCoef: 0.9122 | LossTracker: 1.5550 | : 100%|██████████| 938/938 [00:03<00:00, 264.71it/s]\n",
      "\u001B[33mValid Epoch: 75, Step:     156 | MulticlassAccuracy: 0.9214 | MulticlassF1Score: 0.9214 | MulticlassMatthewsCorrCoef: 0.9127 | LossTracker: 1.5509 | : 100%|██████████| 157/157 [00:00<00:00, 248.43it/s]\n",
      "\u001B[32mTrain Epoch: 76, Step:     937 | MulticlassAccuracy: 0.9213 | MulticlassF1Score: 0.9213 | MulticlassMatthewsCorrCoef: 0.9126 | LossTracker: 1.5545 | : 100%|██████████| 938/938 [00:03<00:00, 256.94it/s]\n",
      "\u001B[33mValid Epoch: 76, Step:     156 | MulticlassAccuracy: 0.9216 | MulticlassF1Score: 0.9216 | MulticlassMatthewsCorrCoef: 0.9129 | LossTracker: 1.5506 | : 100%|██████████| 157/157 [00:00<00:00, 247.20it/s]\n",
      "\u001B[32mTrain Epoch: 77, Step:     937 | MulticlassAccuracy: 0.9216 | MulticlassF1Score: 0.9216 | MulticlassMatthewsCorrCoef: 0.9130 | LossTracker: 1.5541 | : 100%|██████████| 938/938 [00:03<00:00, 264.06it/s]\n",
      "\u001B[33mValid Epoch: 77, Step:     156 | MulticlassAccuracy: 0.9218 | MulticlassF1Score: 0.9218 | MulticlassMatthewsCorrCoef: 0.9132 | LossTracker: 1.5503 | : 100%|██████████| 157/157 [00:00<00:00, 241.16it/s]\n",
      "\u001B[32mTrain Epoch: 78, Step:     937 | MulticlassAccuracy: 0.9220 | MulticlassF1Score: 0.9220 | MulticlassMatthewsCorrCoef: 0.9133 | LossTracker: 1.5537 | : 100%|██████████| 938/938 [00:03<00:00, 265.65it/s]\n",
      "\u001B[33mValid Epoch: 78, Step:     156 | MulticlassAccuracy: 0.9221 | MulticlassF1Score: 0.9221 | MulticlassMatthewsCorrCoef: 0.9134 | LossTracker: 1.5500 | : 100%|██████████| 157/157 [00:00<00:00, 248.77it/s]\n",
      "\u001B[32mTrain Epoch: 79, Step:     937 | MulticlassAccuracy: 0.9223 | MulticlassF1Score: 0.9223 | MulticlassMatthewsCorrCoef: 0.9137 | LossTracker: 1.5532 | : 100%|██████████| 938/938 [00:03<00:00, 262.79it/s]\n",
      "\u001B[33mValid Epoch: 79, Step:     156 | MulticlassAccuracy: 0.9223 | MulticlassF1Score: 0.9223 | MulticlassMatthewsCorrCoef: 0.9137 | LossTracker: 1.5497 | : 100%|██████████| 157/157 [00:00<00:00, 257.11it/s]\n",
      "\u001B[32mTrain Epoch: 80, Step:     937 | MulticlassAccuracy: 0.9226 | MulticlassF1Score: 0.9226 | MulticlassMatthewsCorrCoef: 0.9140 | LossTracker: 1.5528 | : 100%|██████████| 938/938 [00:03<00:00, 269.05it/s]\n",
      "\u001B[33mValid Epoch: 80, Step:     156 | MulticlassAccuracy: 0.9225 | MulticlassF1Score: 0.9225 | MulticlassMatthewsCorrCoef: 0.9139 | LossTracker: 1.5494 | : 100%|██████████| 157/157 [00:00<00:00, 246.31it/s]\n",
      "\u001B[32mTrain Epoch: 81, Step:     937 | MulticlassAccuracy: 0.9229 | MulticlassF1Score: 0.9229 | MulticlassMatthewsCorrCoef: 0.9144 | LossTracker: 1.5524 | : 100%|██████████| 938/938 [00:03<00:00, 264.46it/s]\n",
      "\u001B[33mValid Epoch: 81, Step:     156 | MulticlassAccuracy: 0.9227 | MulticlassF1Score: 0.9227 | MulticlassMatthewsCorrCoef: 0.9141 | LossTracker: 1.5491 | : 100%|██████████| 157/157 [00:00<00:00, 256.20it/s]\n",
      "\u001B[32mTrain Epoch: 82, Step:     937 | MulticlassAccuracy: 0.9232 | MulticlassF1Score: 0.9232 | MulticlassMatthewsCorrCoef: 0.9147 | LossTracker: 1.5520 | : 100%|██████████| 938/938 [00:03<00:00, 269.68it/s]\n",
      "\u001B[33mValid Epoch: 82, Step:     156 | MulticlassAccuracy: 0.9229 | MulticlassF1Score: 0.9229 | MulticlassMatthewsCorrCoef: 0.9144 | LossTracker: 1.5488 | : 100%|██████████| 157/157 [00:00<00:00, 251.93it/s]\n",
      "\u001B[32mTrain Epoch: 83, Step:     937 | MulticlassAccuracy: 0.9235 | MulticlassF1Score: 0.9235 | MulticlassMatthewsCorrCoef: 0.9151 | LossTracker: 1.5516 | : 100%|██████████| 938/938 [00:03<00:00, 266.50it/s]\n",
      "\u001B[33mValid Epoch: 83, Step:     156 | MulticlassAccuracy: 0.9231 | MulticlassF1Score: 0.9231 | MulticlassMatthewsCorrCoef: 0.9146 | LossTracker: 1.5485 | : 100%|██████████| 157/157 [00:00<00:00, 254.18it/s]\n",
      "\u001B[32mTrain Epoch: 84, Step:     937 | MulticlassAccuracy: 0.9238 | MulticlassF1Score: 0.9238 | MulticlassMatthewsCorrCoef: 0.9154 | LossTracker: 1.5512 | : 100%|██████████| 938/938 [00:03<00:00, 264.98it/s]\n",
      "\u001B[33mValid Epoch: 84, Step:     156 | MulticlassAccuracy: 0.9233 | MulticlassF1Score: 0.9233 | MulticlassMatthewsCorrCoef: 0.9148 | LossTracker: 1.5482 | : 100%|██████████| 157/157 [00:00<00:00, 249.56it/s]\n",
      "\u001B[32mTrain Epoch: 85, Step:     937 | MulticlassAccuracy: 0.9241 | MulticlassF1Score: 0.9241 | MulticlassMatthewsCorrCoef: 0.9157 | LossTracker: 1.5508 | : 100%|██████████| 938/938 [00:03<00:00, 265.57it/s]\n",
      "\u001B[33mValid Epoch: 85, Step:     156 | MulticlassAccuracy: 0.9235 | MulticlassF1Score: 0.9235 | MulticlassMatthewsCorrCoef: 0.9150 | LossTracker: 1.5480 | : 100%|██████████| 157/157 [00:00<00:00, 248.05it/s]\n",
      "\u001B[32mTrain Epoch: 86, Step:     937 | MulticlassAccuracy: 0.9244 | MulticlassF1Score: 0.9244 | MulticlassMatthewsCorrCoef: 0.9160 | LossTracker: 1.5505 | : 100%|██████████| 938/938 [00:03<00:00, 264.73it/s]\n",
      "\u001B[33mValid Epoch: 86, Step:     156 | MulticlassAccuracy: 0.9237 | MulticlassF1Score: 0.9237 | MulticlassMatthewsCorrCoef: 0.9153 | LossTracker: 1.5477 | : 100%|██████████| 157/157 [00:00<00:00, 250.16it/s]\n",
      "\u001B[32mTrain Epoch: 87, Step:     937 | MulticlassAccuracy: 0.9247 | MulticlassF1Score: 0.9247 | MulticlassMatthewsCorrCoef: 0.9163 | LossTracker: 1.5501 | : 100%|██████████| 938/938 [00:03<00:00, 265.30it/s]\n",
      "\u001B[33mValid Epoch: 87, Step:     156 | MulticlassAccuracy: 0.9239 | MulticlassF1Score: 0.9239 | MulticlassMatthewsCorrCoef: 0.9155 | LossTracker: 1.5474 | : 100%|██████████| 157/157 [00:00<00:00, 245.67it/s]\n",
      "\u001B[32mTrain Epoch: 88, Step:     937 | MulticlassAccuracy: 0.9250 | MulticlassF1Score: 0.9250 | MulticlassMatthewsCorrCoef: 0.9167 | LossTracker: 1.5497 | : 100%|██████████| 938/938 [00:03<00:00, 268.97it/s]\n",
      "\u001B[33mValid Epoch: 88, Step:     156 | MulticlassAccuracy: 0.9241 | MulticlassF1Score: 0.9241 | MulticlassMatthewsCorrCoef: 0.9157 | LossTracker: 1.5472 | : 100%|██████████| 157/157 [00:00<00:00, 233.28it/s]\n",
      "\u001B[32mTrain Epoch: 89, Step:     937 | MulticlassAccuracy: 0.9252 | MulticlassF1Score: 0.9252 | MulticlassMatthewsCorrCoef: 0.9170 | LossTracker: 1.5494 | : 100%|██████████| 938/938 [00:03<00:00, 267.42it/s]\n",
      "\u001B[33mValid Epoch: 89, Step:     156 | MulticlassAccuracy: 0.9243 | MulticlassF1Score: 0.9243 | MulticlassMatthewsCorrCoef: 0.9159 | LossTracker: 1.5469 | : 100%|██████████| 157/157 [00:00<00:00, 250.87it/s]\n",
      "\u001B[32mTrain Epoch: 90, Step:     937 | MulticlassAccuracy: 0.9255 | MulticlassF1Score: 0.9255 | MulticlassMatthewsCorrCoef: 0.9173 | LossTracker: 1.5490 | : 100%|██████████| 938/938 [00:03<00:00, 263.73it/s]\n",
      "\u001B[33mValid Epoch: 90, Step:     156 | MulticlassAccuracy: 0.9244 | MulticlassF1Score: 0.9244 | MulticlassMatthewsCorrCoef: 0.9161 | LossTracker: 1.5467 | : 100%|██████████| 157/157 [00:00<00:00, 256.16it/s]\n",
      "\u001B[32mTrain Epoch: 91, Step:     937 | MulticlassAccuracy: 0.9258 | MulticlassF1Score: 0.9258 | MulticlassMatthewsCorrCoef: 0.9176 | LossTracker: 1.5487 | : 100%|██████████| 938/938 [00:03<00:00, 265.51it/s]\n",
      "\u001B[33mValid Epoch: 91, Step:     156 | MulticlassAccuracy: 0.9246 | MulticlassF1Score: 0.9246 | MulticlassMatthewsCorrCoef: 0.9163 | LossTracker: 1.5465 | : 100%|██████████| 157/157 [00:00<00:00, 241.72it/s]\n",
      "\u001B[32mTrain Epoch: 92, Step:     937 | MulticlassAccuracy: 0.9260 | MulticlassF1Score: 0.9260 | MulticlassMatthewsCorrCoef: 0.9178 | LossTracker: 1.5483 | : 100%|██████████| 938/938 [00:03<00:00, 268.25it/s]\n",
      "\u001B[33mValid Epoch: 92, Step:     156 | MulticlassAccuracy: 0.9248 | MulticlassF1Score: 0.9248 | MulticlassMatthewsCorrCoef: 0.9165 | LossTracker: 1.5462 | : 100%|██████████| 157/157 [00:00<00:00, 254.15it/s]\n",
      "\u001B[32mTrain Epoch: 93, Step:     937 | MulticlassAccuracy: 0.9263 | MulticlassF1Score: 0.9263 | MulticlassMatthewsCorrCoef: 0.9181 | LossTracker: 1.5480 | : 100%|██████████| 938/938 [00:03<00:00, 263.74it/s]\n",
      "\u001B[33mValid Epoch: 93, Step:     156 | MulticlassAccuracy: 0.9249 | MulticlassF1Score: 0.9249 | MulticlassMatthewsCorrCoef: 0.9166 | LossTracker: 1.5460 | : 100%|██████████| 157/157 [00:00<00:00, 254.12it/s]\n",
      "\u001B[32mTrain Epoch: 94, Step:     937 | MulticlassAccuracy: 0.9266 | MulticlassF1Score: 0.9266 | MulticlassMatthewsCorrCoef: 0.9184 | LossTracker: 1.5477 | : 100%|██████████| 938/938 [00:03<00:00, 263.20it/s]\n",
      "\u001B[33mValid Epoch: 94, Step:     156 | MulticlassAccuracy: 0.9251 | MulticlassF1Score: 0.9251 | MulticlassMatthewsCorrCoef: 0.9168 | LossTracker: 1.5458 | : 100%|██████████| 157/157 [00:00<00:00, 245.49it/s]\n",
      "\u001B[32mTrain Epoch: 95, Step:     937 | MulticlassAccuracy: 0.9268 | MulticlassF1Score: 0.9268 | MulticlassMatthewsCorrCoef: 0.9187 | LossTracker: 1.5473 | : 100%|██████████| 938/938 [00:03<00:00, 263.97it/s]\n",
      "\u001B[33mValid Epoch: 95, Step:     156 | MulticlassAccuracy: 0.9253 | MulticlassF1Score: 0.9253 | MulticlassMatthewsCorrCoef: 0.9170 | LossTracker: 1.5455 | : 100%|██████████| 157/157 [00:00<00:00, 245.80it/s]\n",
      "\u001B[32mTrain Epoch: 96, Step:     937 | MulticlassAccuracy: 0.9271 | MulticlassF1Score: 0.9271 | MulticlassMatthewsCorrCoef: 0.9190 | LossTracker: 1.5470 | : 100%|██████████| 938/938 [00:03<00:00, 269.91it/s]\n",
      "\u001B[33mValid Epoch: 96, Step:     156 | MulticlassAccuracy: 0.9254 | MulticlassF1Score: 0.9254 | MulticlassMatthewsCorrCoef: 0.9172 | LossTracker: 1.5453 | : 100%|██████████| 157/157 [00:00<00:00, 249.38it/s]\n",
      "\u001B[32mTrain Epoch: 97, Step:     937 | MulticlassAccuracy: 0.9273 | MulticlassF1Score: 0.9273 | MulticlassMatthewsCorrCoef: 0.9192 | LossTracker: 1.5467 | : 100%|██████████| 938/938 [00:03<00:00, 262.59it/s]\n",
      "\u001B[33mValid Epoch: 97, Step:     156 | MulticlassAccuracy: 0.9256 | MulticlassF1Score: 0.9256 | MulticlassMatthewsCorrCoef: 0.9173 | LossTracker: 1.5451 | : 100%|██████████| 157/157 [00:00<00:00, 224.66it/s]\n",
      "\u001B[32mTrain Epoch: 98, Step:     937 | MulticlassAccuracy: 0.9276 | MulticlassF1Score: 0.9276 | MulticlassMatthewsCorrCoef: 0.9195 | LossTracker: 1.5464 | : 100%|██████████| 938/938 [00:03<00:00, 260.44it/s]\n",
      "\u001B[33mValid Epoch: 98, Step:     156 | MulticlassAccuracy: 0.9257 | MulticlassF1Score: 0.9257 | MulticlassMatthewsCorrCoef: 0.9175 | LossTracker: 1.5449 | : 100%|██████████| 157/157 [00:00<00:00, 254.45it/s]\n",
      "\u001B[32mTrain Epoch: 99, Step:     937 | MulticlassAccuracy: 0.9278 | MulticlassF1Score: 0.9278 | MulticlassMatthewsCorrCoef: 0.9198 | LossTracker: 1.5461 | : 100%|██████████| 938/938 [00:03<00:00, 264.61it/s]\n",
      "\u001B[33mValid Epoch: 99, Step:     156 | MulticlassAccuracy: 0.9259 | MulticlassF1Score: 0.9259 | MulticlassMatthewsCorrCoef: 0.9177 | LossTracker: 1.5447 | : 100%|██████████| 157/157 [00:00<00:00, 255.37it/s]\n"
     ]
    }
   ],
   "execution_count": 8
  },
  {
   "metadata": {},
   "cell_type": "markdown",
   "source": "# Test",
   "id": "f54de2687bfedb3f"
  },
  {
   "metadata": {
    "ExecuteTime": {
     "end_time": "2024-05-30T12:14:09.047117Z",
     "start_time": "2024-05-30T12:14:09.044711Z"
    }
   },
   "cell_type": "code",
   "source": [
    "from vision_models_playground.utility import load_model_from_weights\n",
    "from vision_models_playground.evaluate.evaluate_classifier import evaluate_model_classifier"
   ],
   "id": "81e57e6faf2fe630",
   "outputs": [],
   "execution_count": 7
  },
  {
   "metadata": {
    "ExecuteTime": {
     "end_time": "2024-05-30T12:14:09.398643Z",
     "start_time": "2024-05-30T12:14:09.383649Z"
    }
   },
   "cell_type": "code",
   "source": [
    "model = FeedForwardClassifier(\n",
    "    input_dim=28*28,\n",
    "    hidden_dims=[256, 128],\n",
    "    num_classes=10,\n",
    ")\n",
    "model = load_model_from_weights(model, 'models/train/FeedForwardClassifier/mlp_784_256_128_10/best.pt')"
   ],
   "id": "371b57fe7145404c",
   "outputs": [],
   "execution_count": 8
  },
  {
   "metadata": {
    "ExecuteTime": {
     "end_time": "2024-05-30T12:14:11.504913Z",
     "start_time": "2024-05-30T12:14:09.929101Z"
    }
   },
   "cell_type": "code",
   "source": [
    "_, valid_dataset = get_mnist_dataset()\n",
    "evaluate_model_classifier(model, valid_dataset, num_workers=2)"
   ],
   "id": "f01332a3b2d2690e",
   "outputs": [
    {
     "name": "stderr",
     "output_type": "stream",
     "text": [
      "\u001B[33mTest  Step: 156 | MulticlassAccuracy: 0.9779 | MulticlassF1Score: 0.9779 | MulticlassMatthewsCorrCoef: 0.9754 | LossTracker: 1.4840 | : 100%|██████████| 157/157 [00:01<00:00, 103.90it/s]\n"
     ]
    }
   ],
   "execution_count": 9
  },
  {
   "metadata": {
    "ExecuteTime": {
     "end_time": "2024-05-30T12:15:09.305676Z",
     "start_time": "2024-05-30T12:15:09.289578Z"
    }
   },
   "cell_type": "code",
   "source": [
    "model = FeedForwardClassifier(\n",
    "    input_dim=28*28,\n",
    "    hidden_dims=[64, 32],\n",
    "    num_classes=10,\n",
    ")\n",
    "model = load_model_from_weights(model, 'models/train/FeedForwardClassifier/mlp_784_64_32_10/best.pt')"
   ],
   "id": "c9a16266ad1b6551",
   "outputs": [],
   "execution_count": 10
  },
  {
   "metadata": {
    "ExecuteTime": {
     "end_time": "2024-05-30T12:15:10.328008Z",
     "start_time": "2024-05-30T12:15:09.643587Z"
    }
   },
   "cell_type": "code",
   "source": [
    "_, valid_dataset = get_mnist_dataset()\n",
    "evaluate_model_classifier(model, valid_dataset, num_workers=2)"
   ],
   "id": "e3c02f5d35012c3d",
   "outputs": [
    {
     "name": "stderr",
     "output_type": "stream",
     "text": [
      "\u001B[33mTest  Step: 156 | MulticlassAccuracy: 0.9630 | MulticlassF1Score: 0.9630 | MulticlassMatthewsCorrCoef: 0.9589 | LossTracker: 1.4993 | : 100%|██████████| 157/157 [00:00<00:00, 248.99it/s]\n"
     ]
    }
   ],
   "execution_count": 11
  },
  {
   "metadata": {
    "ExecuteTime": {
     "end_time": "2024-05-30T12:15:49.916387Z",
     "start_time": "2024-05-30T12:15:49.900274Z"
    }
   },
   "cell_type": "code",
   "source": [
    "model = FeedForwardClassifier(\n",
    "    input_dim=28*28,\n",
    "    hidden_dims=[16],\n",
    "    num_classes=10,\n",
    ")\n",
    "model = load_model_from_weights(model, 'models/train/FeedForwardClassifier/mlp_784_16_10/best.pt')"
   ],
   "id": "ce9bb7094fa3ca6b",
   "outputs": [],
   "execution_count": 12
  },
  {
   "metadata": {
    "ExecuteTime": {
     "end_time": "2024-05-30T12:15:50.986424Z",
     "start_time": "2024-05-30T12:15:50.295717Z"
    }
   },
   "cell_type": "code",
   "source": [
    "_, valid_dataset = get_mnist_dataset()\n",
    "evaluate_model_classifier(model, valid_dataset, num_workers=2)"
   ],
   "id": "772ad000de58688f",
   "outputs": [
    {
     "name": "stderr",
     "output_type": "stream",
     "text": [
      "\u001B[33mTest  Step: 156 | MulticlassAccuracy: 0.9414 | MulticlassF1Score: 0.9414 | MulticlassMatthewsCorrCoef: 0.9349 | LossTracker: 1.5237 | : 100%|██████████| 157/157 [00:00<00:00, 245.30it/s]\n"
     ]
    }
   ],
   "execution_count": 13
  },
  {
   "metadata": {},
   "cell_type": "code",
   "outputs": [],
   "execution_count": null,
   "source": "",
   "id": "473d3f3fd78799e1"
  }
 ],
 "metadata": {
  "kernelspec": {
   "display_name": "Python 3",
   "language": "python",
   "name": "python3"
  },
  "language_info": {
   "codemirror_mode": {
    "name": "ipython",
    "version": 2
   },
   "file_extension": ".py",
   "mimetype": "text/x-python",
   "name": "python",
   "nbconvert_exporter": "python",
   "pygments_lexer": "ipython2",
   "version": "2.7.6"
  }
 },
 "nbformat": 4,
 "nbformat_minor": 5
}
